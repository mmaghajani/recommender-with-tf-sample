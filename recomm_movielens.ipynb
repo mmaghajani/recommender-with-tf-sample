{
  "nbformat": 4,
  "nbformat_minor": 0,
  "metadata": {
    "colab": {
      "name": "recomm_movielens.ipynb",
      "provenance": [],
      "authorship_tag": "ABX9TyOXOtmCf1AFhXTikyrpDz8r",
      "include_colab_link": true
    },
    "kernelspec": {
      "name": "python3",
      "display_name": "Python 3"
    },
    "language_info": {
      "name": "python"
    },
    "widgets": {
      "application/vnd.jupyter.widget-state+json": {
        "bb92e22f9c2c471584595c6848f9edfa": {
          "model_module": "@jupyter-widgets/controls",
          "model_name": "HBoxModel",
          "state": {
            "_view_name": "HBoxView",
            "_dom_classes": [],
            "_model_name": "HBoxModel",
            "_view_module": "@jupyter-widgets/controls",
            "_model_module_version": "1.5.0",
            "_view_count": null,
            "_view_module_version": "1.5.0",
            "box_style": "",
            "layout": "IPY_MODEL_eca11c7513b141a0881d225c1d5b6907",
            "_model_module": "@jupyter-widgets/controls",
            "children": [
              "IPY_MODEL_8080963d8d364ef488c02c0948eeb28b",
              "IPY_MODEL_e774f95e9cc045bba85437fb3962fa20"
            ]
          }
        },
        "eca11c7513b141a0881d225c1d5b6907": {
          "model_module": "@jupyter-widgets/base",
          "model_name": "LayoutModel",
          "state": {
            "_view_name": "LayoutView",
            "grid_template_rows": null,
            "right": null,
            "justify_content": null,
            "_view_module": "@jupyter-widgets/base",
            "overflow": null,
            "_model_module_version": "1.2.0",
            "_view_count": null,
            "flex_flow": null,
            "width": null,
            "min_width": null,
            "border": null,
            "align_items": null,
            "bottom": null,
            "_model_module": "@jupyter-widgets/base",
            "top": null,
            "grid_column": null,
            "overflow_y": null,
            "overflow_x": null,
            "grid_auto_flow": null,
            "grid_area": null,
            "grid_template_columns": null,
            "flex": null,
            "_model_name": "LayoutModel",
            "justify_items": null,
            "grid_row": null,
            "max_height": null,
            "align_content": null,
            "visibility": null,
            "align_self": null,
            "height": null,
            "min_height": null,
            "padding": null,
            "grid_auto_rows": null,
            "grid_gap": null,
            "max_width": null,
            "order": null,
            "_view_module_version": "1.2.0",
            "grid_template_areas": null,
            "object_position": null,
            "object_fit": null,
            "grid_auto_columns": null,
            "margin": null,
            "display": null,
            "left": null
          }
        },
        "8080963d8d364ef488c02c0948eeb28b": {
          "model_module": "@jupyter-widgets/controls",
          "model_name": "FloatProgressModel",
          "state": {
            "_view_name": "ProgressView",
            "style": "IPY_MODEL_cd85bc0aa44c4cff94852e27ba5e8d22",
            "_dom_classes": [],
            "description": "Dl Completed...: 100%",
            "_model_name": "FloatProgressModel",
            "bar_style": "success",
            "max": 1,
            "_view_module": "@jupyter-widgets/controls",
            "_model_module_version": "1.5.0",
            "value": 1,
            "_view_count": null,
            "_view_module_version": "1.5.0",
            "orientation": "horizontal",
            "min": 0,
            "description_tooltip": null,
            "_model_module": "@jupyter-widgets/controls",
            "layout": "IPY_MODEL_07d9eb994b004434a72fb35db50cd936"
          }
        },
        "e774f95e9cc045bba85437fb3962fa20": {
          "model_module": "@jupyter-widgets/controls",
          "model_name": "HTMLModel",
          "state": {
            "_view_name": "HTMLView",
            "style": "IPY_MODEL_8e97090eda48411e8d6ac6ff2fffc7fa",
            "_dom_classes": [],
            "description": "",
            "_model_name": "HTMLModel",
            "placeholder": "​",
            "_view_module": "@jupyter-widgets/controls",
            "_model_module_version": "1.5.0",
            "value": " 1/1 [00:00&lt;00:00,  1.33 url/s]",
            "_view_count": null,
            "_view_module_version": "1.5.0",
            "description_tooltip": null,
            "_model_module": "@jupyter-widgets/controls",
            "layout": "IPY_MODEL_82defa4cc1df4dff8190a6dcb7d4a755"
          }
        },
        "cd85bc0aa44c4cff94852e27ba5e8d22": {
          "model_module": "@jupyter-widgets/controls",
          "model_name": "ProgressStyleModel",
          "state": {
            "_view_name": "StyleView",
            "_model_name": "ProgressStyleModel",
            "description_width": "initial",
            "_view_module": "@jupyter-widgets/base",
            "_model_module_version": "1.5.0",
            "_view_count": null,
            "_view_module_version": "1.2.0",
            "bar_color": null,
            "_model_module": "@jupyter-widgets/controls"
          }
        },
        "07d9eb994b004434a72fb35db50cd936": {
          "model_module": "@jupyter-widgets/base",
          "model_name": "LayoutModel",
          "state": {
            "_view_name": "LayoutView",
            "grid_template_rows": null,
            "right": null,
            "justify_content": null,
            "_view_module": "@jupyter-widgets/base",
            "overflow": null,
            "_model_module_version": "1.2.0",
            "_view_count": null,
            "flex_flow": null,
            "width": null,
            "min_width": null,
            "border": null,
            "align_items": null,
            "bottom": null,
            "_model_module": "@jupyter-widgets/base",
            "top": null,
            "grid_column": null,
            "overflow_y": null,
            "overflow_x": null,
            "grid_auto_flow": null,
            "grid_area": null,
            "grid_template_columns": null,
            "flex": null,
            "_model_name": "LayoutModel",
            "justify_items": null,
            "grid_row": null,
            "max_height": null,
            "align_content": null,
            "visibility": null,
            "align_self": null,
            "height": null,
            "min_height": null,
            "padding": null,
            "grid_auto_rows": null,
            "grid_gap": null,
            "max_width": null,
            "order": null,
            "_view_module_version": "1.2.0",
            "grid_template_areas": null,
            "object_position": null,
            "object_fit": null,
            "grid_auto_columns": null,
            "margin": null,
            "display": null,
            "left": null
          }
        },
        "8e97090eda48411e8d6ac6ff2fffc7fa": {
          "model_module": "@jupyter-widgets/controls",
          "model_name": "DescriptionStyleModel",
          "state": {
            "_view_name": "StyleView",
            "_model_name": "DescriptionStyleModel",
            "description_width": "",
            "_view_module": "@jupyter-widgets/base",
            "_model_module_version": "1.5.0",
            "_view_count": null,
            "_view_module_version": "1.2.0",
            "_model_module": "@jupyter-widgets/controls"
          }
        },
        "82defa4cc1df4dff8190a6dcb7d4a755": {
          "model_module": "@jupyter-widgets/base",
          "model_name": "LayoutModel",
          "state": {
            "_view_name": "LayoutView",
            "grid_template_rows": null,
            "right": null,
            "justify_content": null,
            "_view_module": "@jupyter-widgets/base",
            "overflow": null,
            "_model_module_version": "1.2.0",
            "_view_count": null,
            "flex_flow": null,
            "width": null,
            "min_width": null,
            "border": null,
            "align_items": null,
            "bottom": null,
            "_model_module": "@jupyter-widgets/base",
            "top": null,
            "grid_column": null,
            "overflow_y": null,
            "overflow_x": null,
            "grid_auto_flow": null,
            "grid_area": null,
            "grid_template_columns": null,
            "flex": null,
            "_model_name": "LayoutModel",
            "justify_items": null,
            "grid_row": null,
            "max_height": null,
            "align_content": null,
            "visibility": null,
            "align_self": null,
            "height": null,
            "min_height": null,
            "padding": null,
            "grid_auto_rows": null,
            "grid_gap": null,
            "max_width": null,
            "order": null,
            "_view_module_version": "1.2.0",
            "grid_template_areas": null,
            "object_position": null,
            "object_fit": null,
            "grid_auto_columns": null,
            "margin": null,
            "display": null,
            "left": null
          }
        },
        "fddcf35ada0c42d8acce1934f5d4084d": {
          "model_module": "@jupyter-widgets/controls",
          "model_name": "HBoxModel",
          "state": {
            "_view_name": "HBoxView",
            "_dom_classes": [],
            "_model_name": "HBoxModel",
            "_view_module": "@jupyter-widgets/controls",
            "_model_module_version": "1.5.0",
            "_view_count": null,
            "_view_module_version": "1.5.0",
            "box_style": "",
            "layout": "IPY_MODEL_6ee243ab36e14e1c968648e56b015671",
            "_model_module": "@jupyter-widgets/controls",
            "children": [
              "IPY_MODEL_b4f53a13e4644392a022c66d0055c5c2",
              "IPY_MODEL_46fbd18b1b67432abe553f597244f52a"
            ]
          }
        },
        "6ee243ab36e14e1c968648e56b015671": {
          "model_module": "@jupyter-widgets/base",
          "model_name": "LayoutModel",
          "state": {
            "_view_name": "LayoutView",
            "grid_template_rows": null,
            "right": null,
            "justify_content": null,
            "_view_module": "@jupyter-widgets/base",
            "overflow": null,
            "_model_module_version": "1.2.0",
            "_view_count": null,
            "flex_flow": null,
            "width": null,
            "min_width": null,
            "border": null,
            "align_items": null,
            "bottom": null,
            "_model_module": "@jupyter-widgets/base",
            "top": null,
            "grid_column": null,
            "overflow_y": null,
            "overflow_x": null,
            "grid_auto_flow": null,
            "grid_area": null,
            "grid_template_columns": null,
            "flex": null,
            "_model_name": "LayoutModel",
            "justify_items": null,
            "grid_row": null,
            "max_height": null,
            "align_content": null,
            "visibility": null,
            "align_self": null,
            "height": null,
            "min_height": null,
            "padding": null,
            "grid_auto_rows": null,
            "grid_gap": null,
            "max_width": null,
            "order": null,
            "_view_module_version": "1.2.0",
            "grid_template_areas": null,
            "object_position": null,
            "object_fit": null,
            "grid_auto_columns": null,
            "margin": null,
            "display": null,
            "left": null
          }
        },
        "b4f53a13e4644392a022c66d0055c5c2": {
          "model_module": "@jupyter-widgets/controls",
          "model_name": "FloatProgressModel",
          "state": {
            "_view_name": "ProgressView",
            "style": "IPY_MODEL_12f39706c5c44ef3b8d3d17e2b82f7f5",
            "_dom_classes": [],
            "description": "Dl Size...: 100%",
            "_model_name": "FloatProgressModel",
            "bar_style": "success",
            "max": 1,
            "_view_module": "@jupyter-widgets/controls",
            "_model_module_version": "1.5.0",
            "value": 1,
            "_view_count": null,
            "_view_module_version": "1.5.0",
            "orientation": "horizontal",
            "min": 0,
            "description_tooltip": null,
            "_model_module": "@jupyter-widgets/controls",
            "layout": "IPY_MODEL_c4da4ab2873b495a936f6d2fbac20644"
          }
        },
        "46fbd18b1b67432abe553f597244f52a": {
          "model_module": "@jupyter-widgets/controls",
          "model_name": "HTMLModel",
          "state": {
            "_view_name": "HTMLView",
            "style": "IPY_MODEL_9670ef7fc03942ff87177b1339705380",
            "_dom_classes": [],
            "description": "",
            "_model_name": "HTMLModel",
            "placeholder": "​",
            "_view_module": "@jupyter-widgets/controls",
            "_model_module_version": "1.5.0",
            "value": " 4/4 [00:00&lt;00:00,  5.62 MiB/s]",
            "_view_count": null,
            "_view_module_version": "1.5.0",
            "description_tooltip": null,
            "_model_module": "@jupyter-widgets/controls",
            "layout": "IPY_MODEL_ab4d8e883ec04af592e3a281acb36d92"
          }
        },
        "12f39706c5c44ef3b8d3d17e2b82f7f5": {
          "model_module": "@jupyter-widgets/controls",
          "model_name": "ProgressStyleModel",
          "state": {
            "_view_name": "StyleView",
            "_model_name": "ProgressStyleModel",
            "description_width": "initial",
            "_view_module": "@jupyter-widgets/base",
            "_model_module_version": "1.5.0",
            "_view_count": null,
            "_view_module_version": "1.2.0",
            "bar_color": null,
            "_model_module": "@jupyter-widgets/controls"
          }
        },
        "c4da4ab2873b495a936f6d2fbac20644": {
          "model_module": "@jupyter-widgets/base",
          "model_name": "LayoutModel",
          "state": {
            "_view_name": "LayoutView",
            "grid_template_rows": null,
            "right": null,
            "justify_content": null,
            "_view_module": "@jupyter-widgets/base",
            "overflow": null,
            "_model_module_version": "1.2.0",
            "_view_count": null,
            "flex_flow": null,
            "width": null,
            "min_width": null,
            "border": null,
            "align_items": null,
            "bottom": null,
            "_model_module": "@jupyter-widgets/base",
            "top": null,
            "grid_column": null,
            "overflow_y": null,
            "overflow_x": null,
            "grid_auto_flow": null,
            "grid_area": null,
            "grid_template_columns": null,
            "flex": null,
            "_model_name": "LayoutModel",
            "justify_items": null,
            "grid_row": null,
            "max_height": null,
            "align_content": null,
            "visibility": null,
            "align_self": null,
            "height": null,
            "min_height": null,
            "padding": null,
            "grid_auto_rows": null,
            "grid_gap": null,
            "max_width": null,
            "order": null,
            "_view_module_version": "1.2.0",
            "grid_template_areas": null,
            "object_position": null,
            "object_fit": null,
            "grid_auto_columns": null,
            "margin": null,
            "display": null,
            "left": null
          }
        },
        "9670ef7fc03942ff87177b1339705380": {
          "model_module": "@jupyter-widgets/controls",
          "model_name": "DescriptionStyleModel",
          "state": {
            "_view_name": "StyleView",
            "_model_name": "DescriptionStyleModel",
            "description_width": "",
            "_view_module": "@jupyter-widgets/base",
            "_model_module_version": "1.5.0",
            "_view_count": null,
            "_view_module_version": "1.2.0",
            "_model_module": "@jupyter-widgets/controls"
          }
        },
        "ab4d8e883ec04af592e3a281acb36d92": {
          "model_module": "@jupyter-widgets/base",
          "model_name": "LayoutModel",
          "state": {
            "_view_name": "LayoutView",
            "grid_template_rows": null,
            "right": null,
            "justify_content": null,
            "_view_module": "@jupyter-widgets/base",
            "overflow": null,
            "_model_module_version": "1.2.0",
            "_view_count": null,
            "flex_flow": null,
            "width": null,
            "min_width": null,
            "border": null,
            "align_items": null,
            "bottom": null,
            "_model_module": "@jupyter-widgets/base",
            "top": null,
            "grid_column": null,
            "overflow_y": null,
            "overflow_x": null,
            "grid_auto_flow": null,
            "grid_area": null,
            "grid_template_columns": null,
            "flex": null,
            "_model_name": "LayoutModel",
            "justify_items": null,
            "grid_row": null,
            "max_height": null,
            "align_content": null,
            "visibility": null,
            "align_self": null,
            "height": null,
            "min_height": null,
            "padding": null,
            "grid_auto_rows": null,
            "grid_gap": null,
            "max_width": null,
            "order": null,
            "_view_module_version": "1.2.0",
            "grid_template_areas": null,
            "object_position": null,
            "object_fit": null,
            "grid_auto_columns": null,
            "margin": null,
            "display": null,
            "left": null
          }
        },
        "f90b5f91978648169980f1f04dc9f2b7": {
          "model_module": "@jupyter-widgets/controls",
          "model_name": "HBoxModel",
          "state": {
            "_view_name": "HBoxView",
            "_dom_classes": [],
            "_model_name": "HBoxModel",
            "_view_module": "@jupyter-widgets/controls",
            "_model_module_version": "1.5.0",
            "_view_count": null,
            "_view_module_version": "1.5.0",
            "box_style": "",
            "layout": "IPY_MODEL_593d6ab3e5ee454dbf686f5a364b88a0",
            "_model_module": "@jupyter-widgets/controls",
            "children": [
              "IPY_MODEL_1e71bc1d9e344907b1c8d175d10d18a5",
              "IPY_MODEL_40ab6ceba06e4b3792bdd6c95959c63f"
            ]
          }
        },
        "593d6ab3e5ee454dbf686f5a364b88a0": {
          "model_module": "@jupyter-widgets/base",
          "model_name": "LayoutModel",
          "state": {
            "_view_name": "LayoutView",
            "grid_template_rows": null,
            "right": null,
            "justify_content": null,
            "_view_module": "@jupyter-widgets/base",
            "overflow": null,
            "_model_module_version": "1.2.0",
            "_view_count": null,
            "flex_flow": null,
            "width": null,
            "min_width": null,
            "border": null,
            "align_items": null,
            "bottom": null,
            "_model_module": "@jupyter-widgets/base",
            "top": null,
            "grid_column": null,
            "overflow_y": null,
            "overflow_x": null,
            "grid_auto_flow": null,
            "grid_area": null,
            "grid_template_columns": null,
            "flex": null,
            "_model_name": "LayoutModel",
            "justify_items": null,
            "grid_row": null,
            "max_height": null,
            "align_content": null,
            "visibility": null,
            "align_self": null,
            "height": null,
            "min_height": null,
            "padding": null,
            "grid_auto_rows": null,
            "grid_gap": null,
            "max_width": null,
            "order": null,
            "_view_module_version": "1.2.0",
            "grid_template_areas": null,
            "object_position": null,
            "object_fit": null,
            "grid_auto_columns": null,
            "margin": null,
            "display": null,
            "left": null
          }
        },
        "1e71bc1d9e344907b1c8d175d10d18a5": {
          "model_module": "@jupyter-widgets/controls",
          "model_name": "FloatProgressModel",
          "state": {
            "_view_name": "ProgressView",
            "style": "IPY_MODEL_428b55c4c6404538b94a56ab0e18483e",
            "_dom_classes": [],
            "description": "Extraction completed...: 100%",
            "_model_name": "FloatProgressModel",
            "bar_style": "success",
            "max": 1,
            "_view_module": "@jupyter-widgets/controls",
            "_model_module_version": "1.5.0",
            "value": 1,
            "_view_count": null,
            "_view_module_version": "1.5.0",
            "orientation": "horizontal",
            "min": 0,
            "description_tooltip": null,
            "_model_module": "@jupyter-widgets/controls",
            "layout": "IPY_MODEL_f746de7eaf614187a0038cc5a711a1f2"
          }
        },
        "40ab6ceba06e4b3792bdd6c95959c63f": {
          "model_module": "@jupyter-widgets/controls",
          "model_name": "HTMLModel",
          "state": {
            "_view_name": "HTMLView",
            "style": "IPY_MODEL_8628b144b002425ba5865a6bfc1df7f1",
            "_dom_classes": [],
            "description": "",
            "_model_name": "HTMLModel",
            "placeholder": "​",
            "_view_module": "@jupyter-widgets/controls",
            "_model_module_version": "1.5.0",
            "value": " 1/1 [00:00&lt;00:00,  1.56 file/s]",
            "_view_count": null,
            "_view_module_version": "1.5.0",
            "description_tooltip": null,
            "_model_module": "@jupyter-widgets/controls",
            "layout": "IPY_MODEL_f3a4e28a017542aca8af760b96f21741"
          }
        },
        "428b55c4c6404538b94a56ab0e18483e": {
          "model_module": "@jupyter-widgets/controls",
          "model_name": "ProgressStyleModel",
          "state": {
            "_view_name": "StyleView",
            "_model_name": "ProgressStyleModel",
            "description_width": "initial",
            "_view_module": "@jupyter-widgets/base",
            "_model_module_version": "1.5.0",
            "_view_count": null,
            "_view_module_version": "1.2.0",
            "bar_color": null,
            "_model_module": "@jupyter-widgets/controls"
          }
        },
        "f746de7eaf614187a0038cc5a711a1f2": {
          "model_module": "@jupyter-widgets/base",
          "model_name": "LayoutModel",
          "state": {
            "_view_name": "LayoutView",
            "grid_template_rows": null,
            "right": null,
            "justify_content": null,
            "_view_module": "@jupyter-widgets/base",
            "overflow": null,
            "_model_module_version": "1.2.0",
            "_view_count": null,
            "flex_flow": null,
            "width": null,
            "min_width": null,
            "border": null,
            "align_items": null,
            "bottom": null,
            "_model_module": "@jupyter-widgets/base",
            "top": null,
            "grid_column": null,
            "overflow_y": null,
            "overflow_x": null,
            "grid_auto_flow": null,
            "grid_area": null,
            "grid_template_columns": null,
            "flex": null,
            "_model_name": "LayoutModel",
            "justify_items": null,
            "grid_row": null,
            "max_height": null,
            "align_content": null,
            "visibility": null,
            "align_self": null,
            "height": null,
            "min_height": null,
            "padding": null,
            "grid_auto_rows": null,
            "grid_gap": null,
            "max_width": null,
            "order": null,
            "_view_module_version": "1.2.0",
            "grid_template_areas": null,
            "object_position": null,
            "object_fit": null,
            "grid_auto_columns": null,
            "margin": null,
            "display": null,
            "left": null
          }
        },
        "8628b144b002425ba5865a6bfc1df7f1": {
          "model_module": "@jupyter-widgets/controls",
          "model_name": "DescriptionStyleModel",
          "state": {
            "_view_name": "StyleView",
            "_model_name": "DescriptionStyleModel",
            "description_width": "",
            "_view_module": "@jupyter-widgets/base",
            "_model_module_version": "1.5.0",
            "_view_count": null,
            "_view_module_version": "1.2.0",
            "_model_module": "@jupyter-widgets/controls"
          }
        },
        "f3a4e28a017542aca8af760b96f21741": {
          "model_module": "@jupyter-widgets/base",
          "model_name": "LayoutModel",
          "state": {
            "_view_name": "LayoutView",
            "grid_template_rows": null,
            "right": null,
            "justify_content": null,
            "_view_module": "@jupyter-widgets/base",
            "overflow": null,
            "_model_module_version": "1.2.0",
            "_view_count": null,
            "flex_flow": null,
            "width": null,
            "min_width": null,
            "border": null,
            "align_items": null,
            "bottom": null,
            "_model_module": "@jupyter-widgets/base",
            "top": null,
            "grid_column": null,
            "overflow_y": null,
            "overflow_x": null,
            "grid_auto_flow": null,
            "grid_area": null,
            "grid_template_columns": null,
            "flex": null,
            "_model_name": "LayoutModel",
            "justify_items": null,
            "grid_row": null,
            "max_height": null,
            "align_content": null,
            "visibility": null,
            "align_self": null,
            "height": null,
            "min_height": null,
            "padding": null,
            "grid_auto_rows": null,
            "grid_gap": null,
            "max_width": null,
            "order": null,
            "_view_module_version": "1.2.0",
            "grid_template_areas": null,
            "object_position": null,
            "object_fit": null,
            "grid_auto_columns": null,
            "margin": null,
            "display": null,
            "left": null
          }
        },
        "b824dfc92b424ea38836e848c6dd649c": {
          "model_module": "@jupyter-widgets/controls",
          "model_name": "HBoxModel",
          "state": {
            "_view_name": "HBoxView",
            "_dom_classes": [],
            "_model_name": "HBoxModel",
            "_view_module": "@jupyter-widgets/controls",
            "_model_module_version": "1.5.0",
            "_view_count": null,
            "_view_module_version": "1.5.0",
            "box_style": "",
            "layout": "IPY_MODEL_ae034b699f9c44058df94f37a63298af",
            "_model_module": "@jupyter-widgets/controls",
            "children": [
              "IPY_MODEL_08812f45b91d43eb9880db12e60b2dab",
              "IPY_MODEL_c154540d403645b489d88912a1a7fcad"
            ]
          }
        },
        "ae034b699f9c44058df94f37a63298af": {
          "model_module": "@jupyter-widgets/base",
          "model_name": "LayoutModel",
          "state": {
            "_view_name": "LayoutView",
            "grid_template_rows": null,
            "right": null,
            "justify_content": null,
            "_view_module": "@jupyter-widgets/base",
            "overflow": null,
            "_model_module_version": "1.2.0",
            "_view_count": null,
            "flex_flow": null,
            "width": null,
            "min_width": null,
            "border": null,
            "align_items": null,
            "bottom": null,
            "_model_module": "@jupyter-widgets/base",
            "top": null,
            "grid_column": null,
            "overflow_y": null,
            "overflow_x": null,
            "grid_auto_flow": null,
            "grid_area": null,
            "grid_template_columns": null,
            "flex": null,
            "_model_name": "LayoutModel",
            "justify_items": null,
            "grid_row": null,
            "max_height": null,
            "align_content": null,
            "visibility": null,
            "align_self": null,
            "height": null,
            "min_height": null,
            "padding": null,
            "grid_auto_rows": null,
            "grid_gap": null,
            "max_width": null,
            "order": null,
            "_view_module_version": "1.2.0",
            "grid_template_areas": null,
            "object_position": null,
            "object_fit": null,
            "grid_auto_columns": null,
            "margin": null,
            "display": null,
            "left": null
          }
        },
        "08812f45b91d43eb9880db12e60b2dab": {
          "model_module": "@jupyter-widgets/controls",
          "model_name": "FloatProgressModel",
          "state": {
            "_view_name": "ProgressView",
            "style": "IPY_MODEL_9c7f51759ea245f88e53738978036438",
            "_dom_classes": [],
            "description": "Generating splits...: 100%",
            "_model_name": "FloatProgressModel",
            "bar_style": "",
            "max": 1,
            "_view_module": "@jupyter-widgets/controls",
            "_model_module_version": "1.5.0",
            "value": 1,
            "_view_count": null,
            "_view_module_version": "1.5.0",
            "orientation": "horizontal",
            "min": 0,
            "description_tooltip": null,
            "_model_module": "@jupyter-widgets/controls",
            "layout": "IPY_MODEL_4374e5e1cc914aa0bcf02902fb27b568"
          }
        },
        "c154540d403645b489d88912a1a7fcad": {
          "model_module": "@jupyter-widgets/controls",
          "model_name": "HTMLModel",
          "state": {
            "_view_name": "HTMLView",
            "style": "IPY_MODEL_fb2fa3a8bacc46c89014afc0e5a5beb0",
            "_dom_classes": [],
            "description": "",
            "_model_name": "HTMLModel",
            "placeholder": "​",
            "_view_module": "@jupyter-widgets/controls",
            "_model_module_version": "1.5.0",
            "value": " 1/1 [01:36&lt;00:00, 96.14s/ splits]",
            "_view_count": null,
            "_view_module_version": "1.5.0",
            "description_tooltip": null,
            "_model_module": "@jupyter-widgets/controls",
            "layout": "IPY_MODEL_6ac874d7028a4ac7b469617d1d03562b"
          }
        },
        "9c7f51759ea245f88e53738978036438": {
          "model_module": "@jupyter-widgets/controls",
          "model_name": "ProgressStyleModel",
          "state": {
            "_view_name": "StyleView",
            "_model_name": "ProgressStyleModel",
            "description_width": "initial",
            "_view_module": "@jupyter-widgets/base",
            "_model_module_version": "1.5.0",
            "_view_count": null,
            "_view_module_version": "1.2.0",
            "bar_color": null,
            "_model_module": "@jupyter-widgets/controls"
          }
        },
        "4374e5e1cc914aa0bcf02902fb27b568": {
          "model_module": "@jupyter-widgets/base",
          "model_name": "LayoutModel",
          "state": {
            "_view_name": "LayoutView",
            "grid_template_rows": null,
            "right": null,
            "justify_content": null,
            "_view_module": "@jupyter-widgets/base",
            "overflow": null,
            "_model_module_version": "1.2.0",
            "_view_count": null,
            "flex_flow": null,
            "width": null,
            "min_width": null,
            "border": null,
            "align_items": null,
            "bottom": null,
            "_model_module": "@jupyter-widgets/base",
            "top": null,
            "grid_column": null,
            "overflow_y": null,
            "overflow_x": null,
            "grid_auto_flow": null,
            "grid_area": null,
            "grid_template_columns": null,
            "flex": null,
            "_model_name": "LayoutModel",
            "justify_items": null,
            "grid_row": null,
            "max_height": null,
            "align_content": null,
            "visibility": null,
            "align_self": null,
            "height": null,
            "min_height": null,
            "padding": null,
            "grid_auto_rows": null,
            "grid_gap": null,
            "max_width": null,
            "order": null,
            "_view_module_version": "1.2.0",
            "grid_template_areas": null,
            "object_position": null,
            "object_fit": null,
            "grid_auto_columns": null,
            "margin": null,
            "display": null,
            "left": null
          }
        },
        "fb2fa3a8bacc46c89014afc0e5a5beb0": {
          "model_module": "@jupyter-widgets/controls",
          "model_name": "DescriptionStyleModel",
          "state": {
            "_view_name": "StyleView",
            "_model_name": "DescriptionStyleModel",
            "description_width": "",
            "_view_module": "@jupyter-widgets/base",
            "_model_module_version": "1.5.0",
            "_view_count": null,
            "_view_module_version": "1.2.0",
            "_model_module": "@jupyter-widgets/controls"
          }
        },
        "6ac874d7028a4ac7b469617d1d03562b": {
          "model_module": "@jupyter-widgets/base",
          "model_name": "LayoutModel",
          "state": {
            "_view_name": "LayoutView",
            "grid_template_rows": null,
            "right": null,
            "justify_content": null,
            "_view_module": "@jupyter-widgets/base",
            "overflow": null,
            "_model_module_version": "1.2.0",
            "_view_count": null,
            "flex_flow": null,
            "width": null,
            "min_width": null,
            "border": null,
            "align_items": null,
            "bottom": null,
            "_model_module": "@jupyter-widgets/base",
            "top": null,
            "grid_column": null,
            "overflow_y": null,
            "overflow_x": null,
            "grid_auto_flow": null,
            "grid_area": null,
            "grid_template_columns": null,
            "flex": null,
            "_model_name": "LayoutModel",
            "justify_items": null,
            "grid_row": null,
            "max_height": null,
            "align_content": null,
            "visibility": null,
            "align_self": null,
            "height": null,
            "min_height": null,
            "padding": null,
            "grid_auto_rows": null,
            "grid_gap": null,
            "max_width": null,
            "order": null,
            "_view_module_version": "1.2.0",
            "grid_template_areas": null,
            "object_position": null,
            "object_fit": null,
            "grid_auto_columns": null,
            "margin": null,
            "display": null,
            "left": null
          }
        },
        "06b45d318df44d76a358995bb643c7b3": {
          "model_module": "@jupyter-widgets/controls",
          "model_name": "HBoxModel",
          "state": {
            "_view_name": "HBoxView",
            "_dom_classes": [],
            "_model_name": "HBoxModel",
            "_view_module": "@jupyter-widgets/controls",
            "_model_module_version": "1.5.0",
            "_view_count": null,
            "_view_module_version": "1.5.0",
            "box_style": "",
            "layout": "IPY_MODEL_7f23010d95874eb18db2b66359b2aa2c",
            "_model_module": "@jupyter-widgets/controls",
            "children": [
              "IPY_MODEL_3e2cf3b1ed82477aa9ad367510dc6e68",
              "IPY_MODEL_b50071f0c171483d9a034031a2f26b88"
            ]
          }
        },
        "7f23010d95874eb18db2b66359b2aa2c": {
          "model_module": "@jupyter-widgets/base",
          "model_name": "LayoutModel",
          "state": {
            "_view_name": "LayoutView",
            "grid_template_rows": null,
            "right": null,
            "justify_content": null,
            "_view_module": "@jupyter-widgets/base",
            "overflow": null,
            "_model_module_version": "1.2.0",
            "_view_count": null,
            "flex_flow": null,
            "width": null,
            "min_width": null,
            "border": null,
            "align_items": null,
            "bottom": null,
            "_model_module": "@jupyter-widgets/base",
            "top": null,
            "grid_column": null,
            "overflow_y": null,
            "overflow_x": null,
            "grid_auto_flow": null,
            "grid_area": null,
            "grid_template_columns": null,
            "flex": null,
            "_model_name": "LayoutModel",
            "justify_items": null,
            "grid_row": null,
            "max_height": null,
            "align_content": null,
            "visibility": null,
            "align_self": null,
            "height": null,
            "min_height": null,
            "padding": null,
            "grid_auto_rows": null,
            "grid_gap": null,
            "max_width": null,
            "order": null,
            "_view_module_version": "1.2.0",
            "grid_template_areas": null,
            "object_position": null,
            "object_fit": null,
            "grid_auto_columns": null,
            "margin": null,
            "display": null,
            "left": null
          }
        },
        "3e2cf3b1ed82477aa9ad367510dc6e68": {
          "model_module": "@jupyter-widgets/controls",
          "model_name": "FloatProgressModel",
          "state": {
            "_view_name": "ProgressView",
            "style": "IPY_MODEL_9690852980ff4779bfd02c795f1f5ec9",
            "_dom_classes": [],
            "description": "Generating train examples...: 100%",
            "_model_name": "FloatProgressModel",
            "bar_style": "",
            "max": 100000,
            "_view_module": "@jupyter-widgets/controls",
            "_model_module_version": "1.5.0",
            "value": 100000,
            "_view_count": null,
            "_view_module_version": "1.5.0",
            "orientation": "horizontal",
            "min": 0,
            "description_tooltip": null,
            "_model_module": "@jupyter-widgets/controls",
            "layout": "IPY_MODEL_73b7b77a636644a59017e8bdb64cfd95"
          }
        },
        "b50071f0c171483d9a034031a2f26b88": {
          "model_module": "@jupyter-widgets/controls",
          "model_name": "HTMLModel",
          "state": {
            "_view_name": "HTMLView",
            "style": "IPY_MODEL_eacc09f8a58b48f982eb1d7b65f55141",
            "_dom_classes": [],
            "description": "",
            "_model_name": "HTMLModel",
            "placeholder": "​",
            "_view_module": "@jupyter-widgets/controls",
            "_model_module_version": "1.5.0",
            "value": " 100000/100000 [01:35&lt;00:00, 903.91 examples/s]",
            "_view_count": null,
            "_view_module_version": "1.5.0",
            "description_tooltip": null,
            "_model_module": "@jupyter-widgets/controls",
            "layout": "IPY_MODEL_24af5f359a7d4360a8d107a57220356c"
          }
        },
        "9690852980ff4779bfd02c795f1f5ec9": {
          "model_module": "@jupyter-widgets/controls",
          "model_name": "ProgressStyleModel",
          "state": {
            "_view_name": "StyleView",
            "_model_name": "ProgressStyleModel",
            "description_width": "initial",
            "_view_module": "@jupyter-widgets/base",
            "_model_module_version": "1.5.0",
            "_view_count": null,
            "_view_module_version": "1.2.0",
            "bar_color": null,
            "_model_module": "@jupyter-widgets/controls"
          }
        },
        "73b7b77a636644a59017e8bdb64cfd95": {
          "model_module": "@jupyter-widgets/base",
          "model_name": "LayoutModel",
          "state": {
            "_view_name": "LayoutView",
            "grid_template_rows": null,
            "right": null,
            "justify_content": null,
            "_view_module": "@jupyter-widgets/base",
            "overflow": null,
            "_model_module_version": "1.2.0",
            "_view_count": null,
            "flex_flow": null,
            "width": null,
            "min_width": null,
            "border": null,
            "align_items": null,
            "bottom": null,
            "_model_module": "@jupyter-widgets/base",
            "top": null,
            "grid_column": null,
            "overflow_y": null,
            "overflow_x": null,
            "grid_auto_flow": null,
            "grid_area": null,
            "grid_template_columns": null,
            "flex": null,
            "_model_name": "LayoutModel",
            "justify_items": null,
            "grid_row": null,
            "max_height": null,
            "align_content": null,
            "visibility": null,
            "align_self": null,
            "height": null,
            "min_height": null,
            "padding": null,
            "grid_auto_rows": null,
            "grid_gap": null,
            "max_width": null,
            "order": null,
            "_view_module_version": "1.2.0",
            "grid_template_areas": null,
            "object_position": null,
            "object_fit": null,
            "grid_auto_columns": null,
            "margin": null,
            "display": null,
            "left": null
          }
        },
        "eacc09f8a58b48f982eb1d7b65f55141": {
          "model_module": "@jupyter-widgets/controls",
          "model_name": "DescriptionStyleModel",
          "state": {
            "_view_name": "StyleView",
            "_model_name": "DescriptionStyleModel",
            "description_width": "",
            "_view_module": "@jupyter-widgets/base",
            "_model_module_version": "1.5.0",
            "_view_count": null,
            "_view_module_version": "1.2.0",
            "_model_module": "@jupyter-widgets/controls"
          }
        },
        "24af5f359a7d4360a8d107a57220356c": {
          "model_module": "@jupyter-widgets/base",
          "model_name": "LayoutModel",
          "state": {
            "_view_name": "LayoutView",
            "grid_template_rows": null,
            "right": null,
            "justify_content": null,
            "_view_module": "@jupyter-widgets/base",
            "overflow": null,
            "_model_module_version": "1.2.0",
            "_view_count": null,
            "flex_flow": null,
            "width": null,
            "min_width": null,
            "border": null,
            "align_items": null,
            "bottom": null,
            "_model_module": "@jupyter-widgets/base",
            "top": null,
            "grid_column": null,
            "overflow_y": null,
            "overflow_x": null,
            "grid_auto_flow": null,
            "grid_area": null,
            "grid_template_columns": null,
            "flex": null,
            "_model_name": "LayoutModel",
            "justify_items": null,
            "grid_row": null,
            "max_height": null,
            "align_content": null,
            "visibility": null,
            "align_self": null,
            "height": null,
            "min_height": null,
            "padding": null,
            "grid_auto_rows": null,
            "grid_gap": null,
            "max_width": null,
            "order": null,
            "_view_module_version": "1.2.0",
            "grid_template_areas": null,
            "object_position": null,
            "object_fit": null,
            "grid_auto_columns": null,
            "margin": null,
            "display": null,
            "left": null
          }
        },
        "f4494b476e88425fb240b0110e4fb264": {
          "model_module": "@jupyter-widgets/controls",
          "model_name": "HBoxModel",
          "state": {
            "_view_name": "HBoxView",
            "_dom_classes": [],
            "_model_name": "HBoxModel",
            "_view_module": "@jupyter-widgets/controls",
            "_model_module_version": "1.5.0",
            "_view_count": null,
            "_view_module_version": "1.5.0",
            "box_style": "",
            "layout": "IPY_MODEL_0d142ad64e1c41ba94db3c70e74f1162",
            "_model_module": "@jupyter-widgets/controls",
            "children": [
              "IPY_MODEL_b39784f9a7a84eb39b07d147ad8f511d",
              "IPY_MODEL_6f01680a8bd64925a35d22cfeff6bfb8"
            ]
          }
        },
        "0d142ad64e1c41ba94db3c70e74f1162": {
          "model_module": "@jupyter-widgets/base",
          "model_name": "LayoutModel",
          "state": {
            "_view_name": "LayoutView",
            "grid_template_rows": null,
            "right": null,
            "justify_content": null,
            "_view_module": "@jupyter-widgets/base",
            "overflow": null,
            "_model_module_version": "1.2.0",
            "_view_count": null,
            "flex_flow": null,
            "width": null,
            "min_width": null,
            "border": null,
            "align_items": null,
            "bottom": null,
            "_model_module": "@jupyter-widgets/base",
            "top": null,
            "grid_column": null,
            "overflow_y": null,
            "overflow_x": null,
            "grid_auto_flow": null,
            "grid_area": null,
            "grid_template_columns": null,
            "flex": null,
            "_model_name": "LayoutModel",
            "justify_items": null,
            "grid_row": null,
            "max_height": null,
            "align_content": null,
            "visibility": null,
            "align_self": null,
            "height": null,
            "min_height": null,
            "padding": null,
            "grid_auto_rows": null,
            "grid_gap": null,
            "max_width": null,
            "order": null,
            "_view_module_version": "1.2.0",
            "grid_template_areas": null,
            "object_position": null,
            "object_fit": null,
            "grid_auto_columns": null,
            "margin": null,
            "display": null,
            "left": null
          }
        },
        "b39784f9a7a84eb39b07d147ad8f511d": {
          "model_module": "@jupyter-widgets/controls",
          "model_name": "FloatProgressModel",
          "state": {
            "_view_name": "ProgressView",
            "style": "IPY_MODEL_56d0ba1b7a814a81b864b142dc03518b",
            "_dom_classes": [],
            "description": "Shuffling movielens-train.tfrecord...: 100%",
            "_model_name": "FloatProgressModel",
            "bar_style": "",
            "max": 100000,
            "_view_module": "@jupyter-widgets/controls",
            "_model_module_version": "1.5.0",
            "value": 100000,
            "_view_count": null,
            "_view_module_version": "1.5.0",
            "orientation": "horizontal",
            "min": 0,
            "description_tooltip": null,
            "_model_module": "@jupyter-widgets/controls",
            "layout": "IPY_MODEL_3117002753394dffa1eeded8bd6409ac"
          }
        },
        "6f01680a8bd64925a35d22cfeff6bfb8": {
          "model_module": "@jupyter-widgets/controls",
          "model_name": "HTMLModel",
          "state": {
            "_view_name": "HTMLView",
            "style": "IPY_MODEL_da3244d4c90a435f9629e24ddd17f4b6",
            "_dom_classes": [],
            "description": "",
            "_model_name": "HTMLModel",
            "placeholder": "​",
            "_view_module": "@jupyter-widgets/controls",
            "_model_module_version": "1.5.0",
            "value": " 100000/100000 [00:00&lt;00:00, 14.91 examples/s]",
            "_view_count": null,
            "_view_module_version": "1.5.0",
            "description_tooltip": null,
            "_model_module": "@jupyter-widgets/controls",
            "layout": "IPY_MODEL_96956f1cf4884a488aa6c1d27177e774"
          }
        },
        "56d0ba1b7a814a81b864b142dc03518b": {
          "model_module": "@jupyter-widgets/controls",
          "model_name": "ProgressStyleModel",
          "state": {
            "_view_name": "StyleView",
            "_model_name": "ProgressStyleModel",
            "description_width": "initial",
            "_view_module": "@jupyter-widgets/base",
            "_model_module_version": "1.5.0",
            "_view_count": null,
            "_view_module_version": "1.2.0",
            "bar_color": null,
            "_model_module": "@jupyter-widgets/controls"
          }
        },
        "3117002753394dffa1eeded8bd6409ac": {
          "model_module": "@jupyter-widgets/base",
          "model_name": "LayoutModel",
          "state": {
            "_view_name": "LayoutView",
            "grid_template_rows": null,
            "right": null,
            "justify_content": null,
            "_view_module": "@jupyter-widgets/base",
            "overflow": null,
            "_model_module_version": "1.2.0",
            "_view_count": null,
            "flex_flow": null,
            "width": null,
            "min_width": null,
            "border": null,
            "align_items": null,
            "bottom": null,
            "_model_module": "@jupyter-widgets/base",
            "top": null,
            "grid_column": null,
            "overflow_y": null,
            "overflow_x": null,
            "grid_auto_flow": null,
            "grid_area": null,
            "grid_template_columns": null,
            "flex": null,
            "_model_name": "LayoutModel",
            "justify_items": null,
            "grid_row": null,
            "max_height": null,
            "align_content": null,
            "visibility": null,
            "align_self": null,
            "height": null,
            "min_height": null,
            "padding": null,
            "grid_auto_rows": null,
            "grid_gap": null,
            "max_width": null,
            "order": null,
            "_view_module_version": "1.2.0",
            "grid_template_areas": null,
            "object_position": null,
            "object_fit": null,
            "grid_auto_columns": null,
            "margin": null,
            "display": null,
            "left": null
          }
        },
        "da3244d4c90a435f9629e24ddd17f4b6": {
          "model_module": "@jupyter-widgets/controls",
          "model_name": "DescriptionStyleModel",
          "state": {
            "_view_name": "StyleView",
            "_model_name": "DescriptionStyleModel",
            "description_width": "",
            "_view_module": "@jupyter-widgets/base",
            "_model_module_version": "1.5.0",
            "_view_count": null,
            "_view_module_version": "1.2.0",
            "_model_module": "@jupyter-widgets/controls"
          }
        },
        "96956f1cf4884a488aa6c1d27177e774": {
          "model_module": "@jupyter-widgets/base",
          "model_name": "LayoutModel",
          "state": {
            "_view_name": "LayoutView",
            "grid_template_rows": null,
            "right": null,
            "justify_content": null,
            "_view_module": "@jupyter-widgets/base",
            "overflow": null,
            "_model_module_version": "1.2.0",
            "_view_count": null,
            "flex_flow": null,
            "width": null,
            "min_width": null,
            "border": null,
            "align_items": null,
            "bottom": null,
            "_model_module": "@jupyter-widgets/base",
            "top": null,
            "grid_column": null,
            "overflow_y": null,
            "overflow_x": null,
            "grid_auto_flow": null,
            "grid_area": null,
            "grid_template_columns": null,
            "flex": null,
            "_model_name": "LayoutModel",
            "justify_items": null,
            "grid_row": null,
            "max_height": null,
            "align_content": null,
            "visibility": null,
            "align_self": null,
            "height": null,
            "min_height": null,
            "padding": null,
            "grid_auto_rows": null,
            "grid_gap": null,
            "max_width": null,
            "order": null,
            "_view_module_version": "1.2.0",
            "grid_template_areas": null,
            "object_position": null,
            "object_fit": null,
            "grid_auto_columns": null,
            "margin": null,
            "display": null,
            "left": null
          }
        }
      }
    }
  },
  "cells": [
    {
      "cell_type": "markdown",
      "metadata": {
        "id": "view-in-github",
        "colab_type": "text"
      },
      "source": [
        "<a href=\"https://colab.research.google.com/github/mmaghajani/recommender-with-tf-sample/blob/main/recomm_movielens.ipynb\" target=\"_parent\"><img src=\"https://colab.research.google.com/assets/colab-badge.svg\" alt=\"Open In Colab\"/></a>"
      ]
    },
    {
      "cell_type": "markdown",
      "metadata": {
        "id": "nel0rgwgoh8e"
      },
      "source": [
        "## MovieLens Recommender System"
      ]
    },
    {
      "cell_type": "code",
      "metadata": {
        "colab": {
          "base_uri": "https://localhost:8080/"
        },
        "id": "jG0mCc0NpES_",
        "outputId": "9ff475dd-8d96-4415-b64e-37ecd7609b83"
      },
      "source": [
        "!pip install -q --upgrade tensorflow-datasets"
      ],
      "execution_count": 1,
      "outputs": [
        {
          "output_type": "stream",
          "text": [
            "\u001b[K     |████████████████████████████████| 3.9MB 32.1MB/s \n",
            "\u001b[?25h"
          ],
          "name": "stdout"
        }
      ]
    },
    {
      "cell_type": "code",
      "metadata": {
        "id": "UEoPcvuBqkMS"
      },
      "source": [
        "import tensorflow_datasets as tfds\n",
        "import tensorflow as tf"
      ],
      "execution_count": 4,
      "outputs": []
    },
    {
      "cell_type": "code",
      "metadata": {
        "colab": {
          "base_uri": "https://localhost:8080/",
          "height": 218,
          "referenced_widgets": [
            "bb92e22f9c2c471584595c6848f9edfa",
            "eca11c7513b141a0881d225c1d5b6907",
            "8080963d8d364ef488c02c0948eeb28b",
            "e774f95e9cc045bba85437fb3962fa20",
            "cd85bc0aa44c4cff94852e27ba5e8d22",
            "07d9eb994b004434a72fb35db50cd936",
            "8e97090eda48411e8d6ac6ff2fffc7fa",
            "82defa4cc1df4dff8190a6dcb7d4a755",
            "fddcf35ada0c42d8acce1934f5d4084d",
            "6ee243ab36e14e1c968648e56b015671",
            "b4f53a13e4644392a022c66d0055c5c2",
            "46fbd18b1b67432abe553f597244f52a",
            "12f39706c5c44ef3b8d3d17e2b82f7f5",
            "c4da4ab2873b495a936f6d2fbac20644",
            "9670ef7fc03942ff87177b1339705380",
            "ab4d8e883ec04af592e3a281acb36d92",
            "f90b5f91978648169980f1f04dc9f2b7",
            "593d6ab3e5ee454dbf686f5a364b88a0",
            "1e71bc1d9e344907b1c8d175d10d18a5",
            "40ab6ceba06e4b3792bdd6c95959c63f",
            "428b55c4c6404538b94a56ab0e18483e",
            "f746de7eaf614187a0038cc5a711a1f2",
            "8628b144b002425ba5865a6bfc1df7f1",
            "f3a4e28a017542aca8af760b96f21741",
            "b824dfc92b424ea38836e848c6dd649c",
            "ae034b699f9c44058df94f37a63298af",
            "08812f45b91d43eb9880db12e60b2dab",
            "c154540d403645b489d88912a1a7fcad",
            "9c7f51759ea245f88e53738978036438",
            "4374e5e1cc914aa0bcf02902fb27b568",
            "fb2fa3a8bacc46c89014afc0e5a5beb0",
            "6ac874d7028a4ac7b469617d1d03562b",
            "06b45d318df44d76a358995bb643c7b3",
            "7f23010d95874eb18db2b66359b2aa2c",
            "3e2cf3b1ed82477aa9ad367510dc6e68",
            "b50071f0c171483d9a034031a2f26b88",
            "9690852980ff4779bfd02c795f1f5ec9",
            "73b7b77a636644a59017e8bdb64cfd95",
            "eacc09f8a58b48f982eb1d7b65f55141",
            "24af5f359a7d4360a8d107a57220356c",
            "f4494b476e88425fb240b0110e4fb264",
            "0d142ad64e1c41ba94db3c70e74f1162",
            "b39784f9a7a84eb39b07d147ad8f511d",
            "6f01680a8bd64925a35d22cfeff6bfb8",
            "56d0ba1b7a814a81b864b142dc03518b",
            "3117002753394dffa1eeded8bd6409ac",
            "da3244d4c90a435f9629e24ddd17f4b6",
            "96956f1cf4884a488aa6c1d27177e774"
          ]
        },
        "id": "jml7zzsuqqfX",
        "outputId": "ca38161f-eb49-4abe-ee66-633d45579f18"
      },
      "source": [
        "ratings_dataset, ratings_datasets_info = tfds.load(\n",
        "    name='movielens/100k-ratings',\n",
        "    with_info=True,\n",
        "    split='train',\n",
        ")"
      ],
      "execution_count": 3,
      "outputs": [
        {
          "output_type": "stream",
          "text": [
            "\u001b[1mDownloading and preparing dataset 4.70 MiB (download: 4.70 MiB, generated: 32.41 MiB, total: 37.10 MiB) to /root/tensorflow_datasets/movielens/100k-ratings/0.1.0...\u001b[0m\n"
          ],
          "name": "stdout"
        },
        {
          "output_type": "display_data",
          "data": {
            "application/vnd.jupyter.widget-view+json": {
              "model_id": "bb92e22f9c2c471584595c6848f9edfa",
              "version_minor": 0,
              "version_major": 2
            },
            "text/plain": [
              "HBox(children=(FloatProgress(value=1.0, bar_style='info', description='Dl Completed...', max=1.0, style=Progre…"
            ]
          },
          "metadata": {
            "tags": []
          }
        },
        {
          "output_type": "display_data",
          "data": {
            "application/vnd.jupyter.widget-view+json": {
              "model_id": "fddcf35ada0c42d8acce1934f5d4084d",
              "version_minor": 0,
              "version_major": 2
            },
            "text/plain": [
              "HBox(children=(FloatProgress(value=1.0, bar_style='info', description='Dl Size...', max=1.0, style=ProgressSty…"
            ]
          },
          "metadata": {
            "tags": []
          }
        },
        {
          "output_type": "display_data",
          "data": {
            "application/vnd.jupyter.widget-view+json": {
              "model_id": "f90b5f91978648169980f1f04dc9f2b7",
              "version_minor": 0,
              "version_major": 2
            },
            "text/plain": [
              "HBox(children=(FloatProgress(value=1.0, bar_style='info', description='Extraction completed...', max=1.0, styl…"
            ]
          },
          "metadata": {
            "tags": []
          }
        },
        {
          "output_type": "stream",
          "text": [
            "\n",
            "\n",
            "\n"
          ],
          "name": "stdout"
        },
        {
          "output_type": "display_data",
          "data": {
            "application/vnd.jupyter.widget-view+json": {
              "model_id": "b824dfc92b424ea38836e848c6dd649c",
              "version_minor": 0,
              "version_major": 2
            },
            "text/plain": [
              "HBox(children=(FloatProgress(value=0.0, description='Generating splits...', max=1.0, style=ProgressStyle(descr…"
            ]
          },
          "metadata": {
            "tags": []
          }
        },
        {
          "output_type": "display_data",
          "data": {
            "application/vnd.jupyter.widget-view+json": {
              "model_id": "06b45d318df44d76a358995bb643c7b3",
              "version_minor": 0,
              "version_major": 2
            },
            "text/plain": [
              "HBox(children=(FloatProgress(value=0.0, description='Generating train examples...', max=100000.0, style=Progre…"
            ]
          },
          "metadata": {
            "tags": []
          }
        },
        {
          "output_type": "display_data",
          "data": {
            "application/vnd.jupyter.widget-view+json": {
              "model_id": "f4494b476e88425fb240b0110e4fb264",
              "version_minor": 0,
              "version_major": 2
            },
            "text/plain": [
              "HBox(children=(FloatProgress(value=0.0, description='Shuffling movielens-train.tfrecord...', max=100000.0, sty…"
            ]
          },
          "metadata": {
            "tags": []
          }
        },
        {
          "output_type": "stream",
          "text": [
            "\r\u001b[1mDataset movielens downloaded and prepared to /root/tensorflow_datasets/movielens/100k-ratings/0.1.0. Subsequent calls will reuse this data.\u001b[0m\n"
          ],
          "name": "stdout"
        }
      ]
    },
    {
      "cell_type": "code",
      "metadata": {
        "id": "ilPDf23Vtjex"
      },
      "source": [
        "assert isinstance(ratings_dataset, tf.data.Dataset)"
      ],
      "execution_count": 5,
      "outputs": []
    },
    {
      "cell_type": "code",
      "metadata": {
        "colab": {
          "base_uri": "https://localhost:8080/"
        },
        "id": "jeldFdn4uGiB",
        "outputId": "f7187981-3b20-477f-a244-204192b43e52"
      },
      "source": [
        "len(ratings_dataset)"
      ],
      "execution_count": 6,
      "outputs": [
        {
          "output_type": "execute_result",
          "data": {
            "text/plain": [
              "100000"
            ]
          },
          "metadata": {
            "tags": []
          },
          "execution_count": 6
        }
      ]
    },
    {
      "cell_type": "code",
      "metadata": {
        "colab": {
          "base_uri": "https://localhost:8080/"
        },
        "id": "tHgDtBqQuWfp",
        "outputId": "1ba72595-9820-481d-d613-a7395321bb0d"
      },
      "source": [
        "ratings_dataset_head = ratings_dataset.take(5)\n",
        "\n",
        "for rating in ratings_dataset_head.as_numpy_iterator():\n",
        "  print(rating)"
      ],
      "execution_count": 10,
      "outputs": [
        {
          "output_type": "stream",
          "text": [
            "{'bucketized_user_age': 45.0, 'movie_genres': array([7]), 'movie_id': b'357', 'movie_title': b\"One Flew Over the Cuckoo's Nest (1975)\", 'raw_user_age': 46.0, 'timestamp': 879024327, 'user_gender': True, 'user_id': b'138', 'user_occupation_label': 4, 'user_occupation_text': b'doctor', 'user_rating': 4.0, 'user_zip_code': b'53211'}\n",
            "{'bucketized_user_age': 25.0, 'movie_genres': array([ 4, 14]), 'movie_id': b'709', 'movie_title': b'Strictly Ballroom (1992)', 'raw_user_age': 32.0, 'timestamp': 875654590, 'user_gender': True, 'user_id': b'92', 'user_occupation_label': 5, 'user_occupation_text': b'entertainment', 'user_rating': 2.0, 'user_zip_code': b'80525'}\n",
            "{'bucketized_user_age': 18.0, 'movie_genres': array([4]), 'movie_id': b'412', 'movie_title': b'Very Brady Sequel, A (1996)', 'raw_user_age': 24.0, 'timestamp': 882075110, 'user_gender': True, 'user_id': b'301', 'user_occupation_label': 17, 'user_occupation_text': b'student', 'user_rating': 4.0, 'user_zip_code': b'55439'}\n",
            "{'bucketized_user_age': 50.0, 'movie_genres': array([5, 7]), 'movie_id': b'56', 'movie_title': b'Pulp Fiction (1994)', 'raw_user_age': 50.0, 'timestamp': 883326919, 'user_gender': True, 'user_id': b'60', 'user_occupation_label': 4, 'user_occupation_text': b'healthcare', 'user_rating': 4.0, 'user_zip_code': b'06472'}\n",
            "{'bucketized_user_age': 50.0, 'movie_genres': array([10, 16]), 'movie_id': b'895', 'movie_title': b'Scream 2 (1997)', 'raw_user_age': 55.0, 'timestamp': 891409199, 'user_gender': True, 'user_id': b'197', 'user_occupation_label': 18, 'user_occupation_text': b'technician', 'user_rating': 3.0, 'user_zip_code': b'75094'}\n"
          ],
          "name": "stdout"
        }
      ]
    },
    {
      "cell_type": "code",
      "metadata": {
        "colab": {
          "base_uri": "https://localhost:8080/"
        },
        "id": "mU29qJEyvVzD",
        "outputId": "b2c10953-0504-4993-dde8-a9290d19454a"
      },
      "source": [
        "len(ratings_dataset_head)"
      ],
      "execution_count": 9,
      "outputs": [
        {
          "output_type": "execute_result",
          "data": {
            "text/plain": [
              "5"
            ]
          },
          "metadata": {
            "tags": []
          },
          "execution_count": 9
        }
      ]
    },
    {
      "cell_type": "code",
      "metadata": {
        "colab": {
          "base_uri": "https://localhost:8080/",
          "height": 247
        },
        "id": "bdLuinB_veee",
        "outputId": "a5537b0f-73ec-4a28-cbcf-38136c0d2e88"
      },
      "source": [
        "tfds.as_dataframe(ds=ratings_dataset_head, ds_info=ratings_datasets_info)"
      ],
      "execution_count": 11,
      "outputs": [
        {
          "output_type": "execute_result",
          "data": {
            "text/html": [
              "<style  type=\"text/css\" >\n",
              "</style><table id=\"T_07d35756_b570_11eb_a698_0242ac1c0002\" ><thead>    <tr>        <th class=\"blank level0\" ></th>        <th class=\"col_heading level0 col0\" >bucketized_user_age</th>        <th class=\"col_heading level0 col1\" >movie_genres</th>        <th class=\"col_heading level0 col2\" >movie_id</th>        <th class=\"col_heading level0 col3\" >movie_title</th>        <th class=\"col_heading level0 col4\" >raw_user_age</th>        <th class=\"col_heading level0 col5\" >timestamp</th>        <th class=\"col_heading level0 col6\" >user_gender</th>        <th class=\"col_heading level0 col7\" >user_id</th>        <th class=\"col_heading level0 col8\" >user_occupation_label</th>        <th class=\"col_heading level0 col9\" >user_occupation_text</th>        <th class=\"col_heading level0 col10\" >user_rating</th>        <th class=\"col_heading level0 col11\" >user_zip_code</th>    </tr></thead><tbody>\n",
              "                <tr>\n",
              "                        <th id=\"T_07d35756_b570_11eb_a698_0242ac1c0002level0_row0\" class=\"row_heading level0 row0\" >0</th>\n",
              "                        <td id=\"T_07d35756_b570_11eb_a698_0242ac1c0002row0_col0\" class=\"data row0 col0\" >45.0</td>\n",
              "                        <td id=\"T_07d35756_b570_11eb_a698_0242ac1c0002row0_col1\" class=\"data row0 col1\" ><div style=\"overflow-y: scroll; max-height: 300px;\" >7 (Drama)</div></td>\n",
              "                        <td id=\"T_07d35756_b570_11eb_a698_0242ac1c0002row0_col2\" class=\"data row0 col2\" >b&#x27;357&#x27;</td>\n",
              "                        <td id=\"T_07d35756_b570_11eb_a698_0242ac1c0002row0_col3\" class=\"data row0 col3\" >b&quot;One Flew Over the Cuckoo&#x27;s Nest (1975)&quot;</td>\n",
              "                        <td id=\"T_07d35756_b570_11eb_a698_0242ac1c0002row0_col4\" class=\"data row0 col4\" >46.0</td>\n",
              "                        <td id=\"T_07d35756_b570_11eb_a698_0242ac1c0002row0_col5\" class=\"data row0 col5\" >879024327</td>\n",
              "                        <td id=\"T_07d35756_b570_11eb_a698_0242ac1c0002row0_col6\" class=\"data row0 col6\" >True</td>\n",
              "                        <td id=\"T_07d35756_b570_11eb_a698_0242ac1c0002row0_col7\" class=\"data row0 col7\" >b&#x27;138&#x27;</td>\n",
              "                        <td id=\"T_07d35756_b570_11eb_a698_0242ac1c0002row0_col8\" class=\"data row0 col8\" >4 (doctor/health care)</td>\n",
              "                        <td id=\"T_07d35756_b570_11eb_a698_0242ac1c0002row0_col9\" class=\"data row0 col9\" >b&#x27;doctor&#x27;</td>\n",
              "                        <td id=\"T_07d35756_b570_11eb_a698_0242ac1c0002row0_col10\" class=\"data row0 col10\" >4.0</td>\n",
              "                        <td id=\"T_07d35756_b570_11eb_a698_0242ac1c0002row0_col11\" class=\"data row0 col11\" >b&#x27;53211&#x27;</td>\n",
              "            </tr>\n",
              "            <tr>\n",
              "                        <th id=\"T_07d35756_b570_11eb_a698_0242ac1c0002level0_row1\" class=\"row_heading level0 row1\" >1</th>\n",
              "                        <td id=\"T_07d35756_b570_11eb_a698_0242ac1c0002row1_col0\" class=\"data row1 col0\" >25.0</td>\n",
              "                        <td id=\"T_07d35756_b570_11eb_a698_0242ac1c0002row1_col1\" class=\"data row1 col1\" ><div style=\"overflow-y: scroll; max-height: 300px;\" >4 (Comedy)<br/>14 (Romance)</div></td>\n",
              "                        <td id=\"T_07d35756_b570_11eb_a698_0242ac1c0002row1_col2\" class=\"data row1 col2\" >b&#x27;709&#x27;</td>\n",
              "                        <td id=\"T_07d35756_b570_11eb_a698_0242ac1c0002row1_col3\" class=\"data row1 col3\" >b&#x27;Strictly Ballroom (1992)&#x27;</td>\n",
              "                        <td id=\"T_07d35756_b570_11eb_a698_0242ac1c0002row1_col4\" class=\"data row1 col4\" >32.0</td>\n",
              "                        <td id=\"T_07d35756_b570_11eb_a698_0242ac1c0002row1_col5\" class=\"data row1 col5\" >875654590</td>\n",
              "                        <td id=\"T_07d35756_b570_11eb_a698_0242ac1c0002row1_col6\" class=\"data row1 col6\" >True</td>\n",
              "                        <td id=\"T_07d35756_b570_11eb_a698_0242ac1c0002row1_col7\" class=\"data row1 col7\" >b&#x27;92&#x27;</td>\n",
              "                        <td id=\"T_07d35756_b570_11eb_a698_0242ac1c0002row1_col8\" class=\"data row1 col8\" >5 (entertainment)</td>\n",
              "                        <td id=\"T_07d35756_b570_11eb_a698_0242ac1c0002row1_col9\" class=\"data row1 col9\" >b&#x27;entertainment&#x27;</td>\n",
              "                        <td id=\"T_07d35756_b570_11eb_a698_0242ac1c0002row1_col10\" class=\"data row1 col10\" >2.0</td>\n",
              "                        <td id=\"T_07d35756_b570_11eb_a698_0242ac1c0002row1_col11\" class=\"data row1 col11\" >b&#x27;80525&#x27;</td>\n",
              "            </tr>\n",
              "            <tr>\n",
              "                        <th id=\"T_07d35756_b570_11eb_a698_0242ac1c0002level0_row2\" class=\"row_heading level0 row2\" >2</th>\n",
              "                        <td id=\"T_07d35756_b570_11eb_a698_0242ac1c0002row2_col0\" class=\"data row2 col0\" >18.0</td>\n",
              "                        <td id=\"T_07d35756_b570_11eb_a698_0242ac1c0002row2_col1\" class=\"data row2 col1\" ><div style=\"overflow-y: scroll; max-height: 300px;\" >4 (Comedy)</div></td>\n",
              "                        <td id=\"T_07d35756_b570_11eb_a698_0242ac1c0002row2_col2\" class=\"data row2 col2\" >b&#x27;412&#x27;</td>\n",
              "                        <td id=\"T_07d35756_b570_11eb_a698_0242ac1c0002row2_col3\" class=\"data row2 col3\" >b&#x27;Very Brady Sequel, A (1996)&#x27;</td>\n",
              "                        <td id=\"T_07d35756_b570_11eb_a698_0242ac1c0002row2_col4\" class=\"data row2 col4\" >24.0</td>\n",
              "                        <td id=\"T_07d35756_b570_11eb_a698_0242ac1c0002row2_col5\" class=\"data row2 col5\" >882075110</td>\n",
              "                        <td id=\"T_07d35756_b570_11eb_a698_0242ac1c0002row2_col6\" class=\"data row2 col6\" >True</td>\n",
              "                        <td id=\"T_07d35756_b570_11eb_a698_0242ac1c0002row2_col7\" class=\"data row2 col7\" >b&#x27;301&#x27;</td>\n",
              "                        <td id=\"T_07d35756_b570_11eb_a698_0242ac1c0002row2_col8\" class=\"data row2 col8\" >17 (student)</td>\n",
              "                        <td id=\"T_07d35756_b570_11eb_a698_0242ac1c0002row2_col9\" class=\"data row2 col9\" >b&#x27;student&#x27;</td>\n",
              "                        <td id=\"T_07d35756_b570_11eb_a698_0242ac1c0002row2_col10\" class=\"data row2 col10\" >4.0</td>\n",
              "                        <td id=\"T_07d35756_b570_11eb_a698_0242ac1c0002row2_col11\" class=\"data row2 col11\" >b&#x27;55439&#x27;</td>\n",
              "            </tr>\n",
              "            <tr>\n",
              "                        <th id=\"T_07d35756_b570_11eb_a698_0242ac1c0002level0_row3\" class=\"row_heading level0 row3\" >3</th>\n",
              "                        <td id=\"T_07d35756_b570_11eb_a698_0242ac1c0002row3_col0\" class=\"data row3 col0\" >50.0</td>\n",
              "                        <td id=\"T_07d35756_b570_11eb_a698_0242ac1c0002row3_col1\" class=\"data row3 col1\" ><div style=\"overflow-y: scroll; max-height: 300px;\" >5 (Crime)<br/>7 (Drama)</div></td>\n",
              "                        <td id=\"T_07d35756_b570_11eb_a698_0242ac1c0002row3_col2\" class=\"data row3 col2\" >b&#x27;56&#x27;</td>\n",
              "                        <td id=\"T_07d35756_b570_11eb_a698_0242ac1c0002row3_col3\" class=\"data row3 col3\" >b&#x27;Pulp Fiction (1994)&#x27;</td>\n",
              "                        <td id=\"T_07d35756_b570_11eb_a698_0242ac1c0002row3_col4\" class=\"data row3 col4\" >50.0</td>\n",
              "                        <td id=\"T_07d35756_b570_11eb_a698_0242ac1c0002row3_col5\" class=\"data row3 col5\" >883326919</td>\n",
              "                        <td id=\"T_07d35756_b570_11eb_a698_0242ac1c0002row3_col6\" class=\"data row3 col6\" >True</td>\n",
              "                        <td id=\"T_07d35756_b570_11eb_a698_0242ac1c0002row3_col7\" class=\"data row3 col7\" >b&#x27;60&#x27;</td>\n",
              "                        <td id=\"T_07d35756_b570_11eb_a698_0242ac1c0002row3_col8\" class=\"data row3 col8\" >4 (doctor/health care)</td>\n",
              "                        <td id=\"T_07d35756_b570_11eb_a698_0242ac1c0002row3_col9\" class=\"data row3 col9\" >b&#x27;healthcare&#x27;</td>\n",
              "                        <td id=\"T_07d35756_b570_11eb_a698_0242ac1c0002row3_col10\" class=\"data row3 col10\" >4.0</td>\n",
              "                        <td id=\"T_07d35756_b570_11eb_a698_0242ac1c0002row3_col11\" class=\"data row3 col11\" >b&#x27;06472&#x27;</td>\n",
              "            </tr>\n",
              "            <tr>\n",
              "                        <th id=\"T_07d35756_b570_11eb_a698_0242ac1c0002level0_row4\" class=\"row_heading level0 row4\" >4</th>\n",
              "                        <td id=\"T_07d35756_b570_11eb_a698_0242ac1c0002row4_col0\" class=\"data row4 col0\" >50.0</td>\n",
              "                        <td id=\"T_07d35756_b570_11eb_a698_0242ac1c0002row4_col1\" class=\"data row4 col1\" ><div style=\"overflow-y: scroll; max-height: 300px;\" >10 (Horror)<br/>16 (Thriller)</div></td>\n",
              "                        <td id=\"T_07d35756_b570_11eb_a698_0242ac1c0002row4_col2\" class=\"data row4 col2\" >b&#x27;895&#x27;</td>\n",
              "                        <td id=\"T_07d35756_b570_11eb_a698_0242ac1c0002row4_col3\" class=\"data row4 col3\" >b&#x27;Scream 2 (1997)&#x27;</td>\n",
              "                        <td id=\"T_07d35756_b570_11eb_a698_0242ac1c0002row4_col4\" class=\"data row4 col4\" >55.0</td>\n",
              "                        <td id=\"T_07d35756_b570_11eb_a698_0242ac1c0002row4_col5\" class=\"data row4 col5\" >891409199</td>\n",
              "                        <td id=\"T_07d35756_b570_11eb_a698_0242ac1c0002row4_col6\" class=\"data row4 col6\" >True</td>\n",
              "                        <td id=\"T_07d35756_b570_11eb_a698_0242ac1c0002row4_col7\" class=\"data row4 col7\" >b&#x27;197&#x27;</td>\n",
              "                        <td id=\"T_07d35756_b570_11eb_a698_0242ac1c0002row4_col8\" class=\"data row4 col8\" >18 (technician/engineer)</td>\n",
              "                        <td id=\"T_07d35756_b570_11eb_a698_0242ac1c0002row4_col9\" class=\"data row4 col9\" >b&#x27;technician&#x27;</td>\n",
              "                        <td id=\"T_07d35756_b570_11eb_a698_0242ac1c0002row4_col10\" class=\"data row4 col10\" >3.0</td>\n",
              "                        <td id=\"T_07d35756_b570_11eb_a698_0242ac1c0002row4_col11\" class=\"data row4 col11\" >b&#x27;75094&#x27;</td>\n",
              "            </tr>\n",
              "    </tbody></table>"
            ],
            "text/plain": [
              "   bucketized_user_age movie_genres  ... user_rating user_zip_code\n",
              "0                 45.0          [7]  ...         4.0      b'53211'\n",
              "1                 25.0      [4, 14]  ...         2.0      b'80525'\n",
              "2                 18.0          [4]  ...         4.0      b'55439'\n",
              "3                 50.0       [5, 7]  ...         4.0      b'06472'\n",
              "4                 50.0     [10, 16]  ...         3.0      b'75094'\n",
              "\n",
              "[5 rows x 12 columns]"
            ]
          },
          "metadata": {
            "tags": []
          },
          "execution_count": 11
        }
      ]
    },
    {
      "cell_type": "markdown",
      "metadata": {
        "id": "SkYyLiLJ8TCW"
      },
      "source": [
        "### Feature Selection"
      ]
    },
    {
      "cell_type": "code",
      "metadata": {
        "colab": {
          "base_uri": "https://localhost:8080/",
          "height": 145
        },
        "id": "kgvGWKzRxLUC",
        "outputId": "fc14ddaf-a204-4f23-ae16-be2e53a836ab"
      },
      "source": [
        "ratings_dataset = ratings_dataset.map(\n",
        "    lambda rating: {\n",
        "        'user_id': rating['user_id'],\n",
        "        'movie_id': rating['movie_id'],\n",
        "        'movie_title': rating['movie_title'],\n",
        "        'user_rating': rating['user_rating'],\n",
        "        'timestamp': rating['timestamp'],\n",
        "\n",
        "    }\n",
        ")\n",
        "\n",
        "tfds.as_dataframe(ds=ratings_dataset.take(5), ds_info=ratings_datasets_info)"
      ],
      "execution_count": 12,
      "outputs": [
        {
          "output_type": "execute_result",
          "data": {
            "text/html": [
              "<style  type=\"text/css\" >\n",
              "</style><table id=\"T_5857f126_b577_11eb_a698_0242ac1c0002\" ><thead>    <tr>        <th class=\"blank level0\" ></th>        <th class=\"col_heading level0 col0\" >movie_id</th>        <th class=\"col_heading level0 col1\" >movie_title</th>        <th class=\"col_heading level0 col2\" >timestamp</th>        <th class=\"col_heading level0 col3\" >user_id</th>        <th class=\"col_heading level0 col4\" >user_rating</th>    </tr></thead><tbody>\n",
              "                <tr>\n",
              "                        <th id=\"T_5857f126_b577_11eb_a698_0242ac1c0002level0_row0\" class=\"row_heading level0 row0\" >0</th>\n",
              "                        <td id=\"T_5857f126_b577_11eb_a698_0242ac1c0002row0_col0\" class=\"data row0 col0\" >b&#x27;357&#x27;</td>\n",
              "                        <td id=\"T_5857f126_b577_11eb_a698_0242ac1c0002row0_col1\" class=\"data row0 col1\" >b&quot;One Flew Over the Cuckoo&#x27;s Nest (1975)&quot;</td>\n",
              "                        <td id=\"T_5857f126_b577_11eb_a698_0242ac1c0002row0_col2\" class=\"data row0 col2\" >879024327</td>\n",
              "                        <td id=\"T_5857f126_b577_11eb_a698_0242ac1c0002row0_col3\" class=\"data row0 col3\" >b&#x27;138&#x27;</td>\n",
              "                        <td id=\"T_5857f126_b577_11eb_a698_0242ac1c0002row0_col4\" class=\"data row0 col4\" >4.0</td>\n",
              "            </tr>\n",
              "            <tr>\n",
              "                        <th id=\"T_5857f126_b577_11eb_a698_0242ac1c0002level0_row1\" class=\"row_heading level0 row1\" >1</th>\n",
              "                        <td id=\"T_5857f126_b577_11eb_a698_0242ac1c0002row1_col0\" class=\"data row1 col0\" >b&#x27;709&#x27;</td>\n",
              "                        <td id=\"T_5857f126_b577_11eb_a698_0242ac1c0002row1_col1\" class=\"data row1 col1\" >b&#x27;Strictly Ballroom (1992)&#x27;</td>\n",
              "                        <td id=\"T_5857f126_b577_11eb_a698_0242ac1c0002row1_col2\" class=\"data row1 col2\" >875654590</td>\n",
              "                        <td id=\"T_5857f126_b577_11eb_a698_0242ac1c0002row1_col3\" class=\"data row1 col3\" >b&#x27;92&#x27;</td>\n",
              "                        <td id=\"T_5857f126_b577_11eb_a698_0242ac1c0002row1_col4\" class=\"data row1 col4\" >2.0</td>\n",
              "            </tr>\n",
              "            <tr>\n",
              "                        <th id=\"T_5857f126_b577_11eb_a698_0242ac1c0002level0_row2\" class=\"row_heading level0 row2\" >2</th>\n",
              "                        <td id=\"T_5857f126_b577_11eb_a698_0242ac1c0002row2_col0\" class=\"data row2 col0\" >b&#x27;412&#x27;</td>\n",
              "                        <td id=\"T_5857f126_b577_11eb_a698_0242ac1c0002row2_col1\" class=\"data row2 col1\" >b&#x27;Very Brady Sequel, A (1996)&#x27;</td>\n",
              "                        <td id=\"T_5857f126_b577_11eb_a698_0242ac1c0002row2_col2\" class=\"data row2 col2\" >882075110</td>\n",
              "                        <td id=\"T_5857f126_b577_11eb_a698_0242ac1c0002row2_col3\" class=\"data row2 col3\" >b&#x27;301&#x27;</td>\n",
              "                        <td id=\"T_5857f126_b577_11eb_a698_0242ac1c0002row2_col4\" class=\"data row2 col4\" >4.0</td>\n",
              "            </tr>\n",
              "            <tr>\n",
              "                        <th id=\"T_5857f126_b577_11eb_a698_0242ac1c0002level0_row3\" class=\"row_heading level0 row3\" >3</th>\n",
              "                        <td id=\"T_5857f126_b577_11eb_a698_0242ac1c0002row3_col0\" class=\"data row3 col0\" >b&#x27;56&#x27;</td>\n",
              "                        <td id=\"T_5857f126_b577_11eb_a698_0242ac1c0002row3_col1\" class=\"data row3 col1\" >b&#x27;Pulp Fiction (1994)&#x27;</td>\n",
              "                        <td id=\"T_5857f126_b577_11eb_a698_0242ac1c0002row3_col2\" class=\"data row3 col2\" >883326919</td>\n",
              "                        <td id=\"T_5857f126_b577_11eb_a698_0242ac1c0002row3_col3\" class=\"data row3 col3\" >b&#x27;60&#x27;</td>\n",
              "                        <td id=\"T_5857f126_b577_11eb_a698_0242ac1c0002row3_col4\" class=\"data row3 col4\" >4.0</td>\n",
              "            </tr>\n",
              "            <tr>\n",
              "                        <th id=\"T_5857f126_b577_11eb_a698_0242ac1c0002level0_row4\" class=\"row_heading level0 row4\" >4</th>\n",
              "                        <td id=\"T_5857f126_b577_11eb_a698_0242ac1c0002row4_col0\" class=\"data row4 col0\" >b&#x27;895&#x27;</td>\n",
              "                        <td id=\"T_5857f126_b577_11eb_a698_0242ac1c0002row4_col1\" class=\"data row4 col1\" >b&#x27;Scream 2 (1997)&#x27;</td>\n",
              "                        <td id=\"T_5857f126_b577_11eb_a698_0242ac1c0002row4_col2\" class=\"data row4 col2\" >891409199</td>\n",
              "                        <td id=\"T_5857f126_b577_11eb_a698_0242ac1c0002row4_col3\" class=\"data row4 col3\" >b&#x27;197&#x27;</td>\n",
              "                        <td id=\"T_5857f126_b577_11eb_a698_0242ac1c0002row4_col4\" class=\"data row4 col4\" >3.0</td>\n",
              "            </tr>\n",
              "    </tbody></table>"
            ],
            "text/plain": [
              "  movie_id                                movie_title  ...  user_id user_rating\n",
              "0   b'357'  b\"One Flew Over the Cuckoo's Nest (1975)\"  ...   b'138'         4.0\n",
              "1   b'709'                b'Strictly Ballroom (1992)'  ...    b'92'         2.0\n",
              "2   b'412'             b'Very Brady Sequel, A (1996)'  ...   b'301'         4.0\n",
              "3    b'56'                     b'Pulp Fiction (1994)'  ...    b'60'         4.0\n",
              "4   b'895'                         b'Scream 2 (1997)'  ...   b'197'         3.0\n",
              "\n",
              "[5 rows x 5 columns]"
            ]
          },
          "metadata": {
            "tags": []
          },
          "execution_count": 12
        }
      ]
    },
    {
      "cell_type": "code",
      "metadata": {
        "id": "zwXkyv3_9KVj"
      },
      "source": [
        ""
      ],
      "execution_count": null,
      "outputs": []
    },
    {
      "cell_type": "markdown",
      "metadata": {
        "id": "A2KaPYp-9VYH"
      },
      "source": [
        "### What is Dataset Metadata?"
      ]
    },
    {
      "cell_type": "code",
      "metadata": {
        "colab": {
          "base_uri": "https://localhost:8080/"
        },
        "id": "vaT78lYm9YxK",
        "outputId": "d56f2164-46e6-4089-b312-899edd3b993c"
      },
      "source": [
        "ratings_datasets_info"
      ],
      "execution_count": 13,
      "outputs": [
        {
          "output_type": "execute_result",
          "data": {
            "text/plain": [
              "tfds.core.DatasetInfo(\n",
              "    name='movielens',\n",
              "    full_name='movielens/100k-ratings/0.1.0',\n",
              "    description=\"\"\"\n",
              "    This dataset contains a set of movie ratings from the MovieLens website, a movie\n",
              "    recommendation service. This dataset was collected and maintained by [GroupLens]\n",
              "    (https://grouplens.org/), a research group at the University of Minnesota. There\n",
              "    are 5 versions included: \"25m\", \"latest-small\", \"100k\", \"1m\", \"20m\". In all\n",
              "    datasets, the movies data and ratings data are joined on \"movieId\". The 25m\n",
              "    dataset, latest-small dataset, and 20m dataset contain only movie data and\n",
              "    rating data. The 1m dataset and 100k dataset contain demographic data in\n",
              "    addition to movie and rating data.\n",
              "    \n",
              "    - \"25m\": This is the latest stable version of the MovieLens dataset. It is\n",
              "    recommended for research purposes.\n",
              "    - \"latest-small\": This is a small subset of the latest version of the MovieLens\n",
              "    dataset. It is changed and updated over time by GroupLens.\n",
              "    - \"100k\": This is the oldest version of the MovieLens datasets. It is a small\n",
              "    dataset with demographic data.\n",
              "    - \"1m\": This is the largest MovieLens dataset that contains demographic data.\n",
              "    - \"20m\": This is one of the most used MovieLens datasets in academic papers\n",
              "    along with the 1m dataset.\n",
              "    \n",
              "    For each version, users can view either only the movies data by adding the\n",
              "    \"-movies\" suffix (e.g. \"25m-movies\") or the ratings data joined with the movies\n",
              "    data (and users data in the 1m and 100k datasets) by adding the \"-ratings\"\n",
              "    suffix (e.g. \"25m-ratings\").\n",
              "    \n",
              "    The features below are included in all versions with the \"-ratings\" suffix.\n",
              "    \n",
              "    - \"movie_id\": a unique identifier of the rated movie\n",
              "    - \"movie_title\": the title of the rated movie with the release year in\n",
              "    parentheses\n",
              "    - \"movie_genres\": a sequence of genres to which the rated movie belongs\n",
              "    - \"user_id\": a unique identifier of the user who made the rating\n",
              "    - \"user_rating\": the score of the rating on a five-star scale\n",
              "    - \"timestamp\": the timestamp of the ratings, represented in seconds since\n",
              "    midnight Coordinated Universal Time (UTC) of January 1, 1970\n",
              "    \n",
              "    The \"100k-ratings\" and \"1m-ratings\" versions in addition include the following\n",
              "    demographic features.\n",
              "    \n",
              "    - \"user_gender\": gender of the user who made the rating; a true value\n",
              "    corresponds to male\n",
              "    - \"bucketized_user_age\": bucketized age values of the user who made the rating,\n",
              "    the values and the corresponding ranges are:\n",
              "      - 1: \"Under 18\"\n",
              "      - 18: \"18-24\"\n",
              "      - 25: \"25-34\"\n",
              "      - 35: \"35-44\"\n",
              "      - 45: \"45-49\"\n",
              "      - 50: \"50-55\"\n",
              "      - 56: \"56+\"\n",
              "    - \"user_occupation_label\": the occupation of the user who made the rating\n",
              "    represented by an integer-encoded label; labels are preprocessed to be\n",
              "    consistent across different versions\n",
              "    - \"user_occupation_text\": the occupation of the user who made the rating in\n",
              "    the original string; different versions can have different set of raw text\n",
              "    labels\n",
              "    - \"user_zip_code\": the zip code of the user who made the rating\n",
              "    \n",
              "    In addition, the \"100k-ratings\" dataset would also have a feature \"raw_user_age\"\n",
              "    which is the exact ages of the users who made the rating\n",
              "    \n",
              "    Datasets with the \"-movies\" suffix contain only \"movie_id\", \"movie_title\", and\n",
              "    \"movie_genres\" features.\n",
              "    \"\"\",\n",
              "    config_description=\"\"\"\n",
              "    This dataset contains 100,000 ratings from 943 users on 1,682\n",
              "    movies. This dataset is the oldest version of the MovieLens\n",
              "    dataset.\n",
              "    \n",
              "    Each user has rated at least 20 movies. Ratings are in whole-star\n",
              "    increments. This dataset contains demographic data of users in\n",
              "    addition to data on movies and ratings.\n",
              "    \"\"\",\n",
              "    homepage='https://grouplens.org/datasets/movielens/',\n",
              "    data_path='/root/tensorflow_datasets/movielens/100k-ratings/0.1.0',\n",
              "    download_size=4.70 MiB,\n",
              "    dataset_size=32.41 MiB,\n",
              "    features=FeaturesDict({\n",
              "        'bucketized_user_age': tf.float32,\n",
              "        'movie_genres': Sequence(ClassLabel(shape=(), dtype=tf.int64, num_classes=21)),\n",
              "        'movie_id': tf.string,\n",
              "        'movie_title': tf.string,\n",
              "        'raw_user_age': tf.float32,\n",
              "        'timestamp': tf.int64,\n",
              "        'user_gender': tf.bool,\n",
              "        'user_id': tf.string,\n",
              "        'user_occupation_label': ClassLabel(shape=(), dtype=tf.int64, num_classes=22),\n",
              "        'user_occupation_text': tf.string,\n",
              "        'user_rating': tf.float32,\n",
              "        'user_zip_code': tf.string,\n",
              "    }),\n",
              "    supervised_keys=None,\n",
              "    disable_shuffling=False,\n",
              "    splits={\n",
              "        'train': <SplitInfo num_examples=100000, num_shards=1>,\n",
              "    },\n",
              "    citation=\"\"\"@article{10.1145/2827872,\n",
              "    author = {Harper, F. Maxwell and Konstan, Joseph A.},\n",
              "    title = {The MovieLens Datasets: History and Context},\n",
              "    year = {2015},\n",
              "    issue_date = {January 2016},\n",
              "    publisher = {Association for Computing Machinery},\n",
              "    address = {New York, NY, USA},\n",
              "    volume = {5},\n",
              "    number = {4},\n",
              "    issn = {2160-6455},\n",
              "    url = {https://doi.org/10.1145/2827872},\n",
              "    doi = {10.1145/2827872},\n",
              "    journal = {ACM Trans. Interact. Intell. Syst.},\n",
              "    month = dec,\n",
              "    articleno = {19},\n",
              "    numpages = {19},\n",
              "    keywords = {Datasets, recommendations, ratings, MovieLens}\n",
              "    }\"\"\",\n",
              ")"
            ]
          },
          "metadata": {
            "tags": []
          },
          "execution_count": 13
        }
      ]
    },
    {
      "cell_type": "code",
      "metadata": {
        "colab": {
          "base_uri": "https://localhost:8080/"
        },
        "id": "cu6PkG6a9aC6",
        "outputId": "4c703306-fb7c-40be-d0c9-d40a034f797b"
      },
      "source": [
        "ratings_datasets_info.splits['train'].num_examples"
      ],
      "execution_count": 16,
      "outputs": [
        {
          "output_type": "execute_result",
          "data": {
            "text/plain": [
              "100000"
            ]
          },
          "metadata": {
            "tags": []
          },
          "execution_count": 16
        }
      ]
    },
    {
      "cell_type": "markdown",
      "metadata": {
        "id": "t51Z2t4Z-Irz"
      },
      "source": [
        "### Train/Test split"
      ]
    },
    {
      "cell_type": "code",
      "metadata": {
        "id": "U1txAvak9ufc"
      },
      "source": [
        "tf.random.set_seed(42)\n",
        "ratings_dataset_shuffled = ratings_dataset.shuffle(\n",
        "    buffer_size=100_000,\n",
        "    seed=42,\n",
        "    reshuffle_each_iteration=False,\n",
        ")"
      ],
      "execution_count": 17,
      "outputs": []
    },
    {
      "cell_type": "code",
      "metadata": {
        "id": "ZlNhcGEeA__N"
      },
      "source": [
        "ratings_trainset = ratings_dataset_shuffled.take(80_000)\n",
        "ratings_testset = ratings_dataset_shuffled.skip(80_000)"
      ],
      "execution_count": 18,
      "outputs": []
    },
    {
      "cell_type": "code",
      "metadata": {
        "colab": {
          "base_uri": "https://localhost:8080/"
        },
        "id": "9Ph24J7-CxFy",
        "outputId": "17c40df3-416b-412d-eeba-78b1e89a4db3"
      },
      "source": [
        "len(ratings_trainset), len(ratings_testset)"
      ],
      "execution_count": 20,
      "outputs": [
        {
          "output_type": "execute_result",
          "data": {
            "text/plain": [
              "(80000, 20000)"
            ]
          },
          "metadata": {
            "tags": []
          },
          "execution_count": 20
        }
      ]
    },
    {
      "cell_type": "code",
      "metadata": {
        "id": "LdznoLJmCz4b"
      },
      "source": [
        ""
      ],
      "execution_count": null,
      "outputs": []
    }
  ]
}