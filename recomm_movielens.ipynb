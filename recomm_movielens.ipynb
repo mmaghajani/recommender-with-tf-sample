{
  "nbformat": 4,
  "nbformat_minor": 0,
  "metadata": {
    "colab": {
      "name": "recomm_movielens.ipynb",
      "provenance": [],
      "authorship_tag": "ABX9TyMt3T1eFAl8Cp0cxYhiD/tg",
      "include_colab_link": true
    },
    "kernelspec": {
      "name": "python3",
      "display_name": "Python 3"
    },
    "language_info": {
      "name": "python"
    },
    "widgets": {
      "application/vnd.jupyter.widget-state+json": {
        "f79b6ef0fcc643bf8fcbf99a19231097": {
          "model_module": "@jupyter-widgets/controls",
          "model_name": "HBoxModel",
          "state": {
            "_view_name": "HBoxView",
            "_dom_classes": [],
            "_model_name": "HBoxModel",
            "_view_module": "@jupyter-widgets/controls",
            "_model_module_version": "1.5.0",
            "_view_count": null,
            "_view_module_version": "1.5.0",
            "box_style": "",
            "layout": "IPY_MODEL_d1e6b535227a4e22b49e0c2a7f4b0f15",
            "_model_module": "@jupyter-widgets/controls",
            "children": [
              "IPY_MODEL_7b4f1c3d61794d4eb67bc4a154cf5410",
              "IPY_MODEL_097c83fac12c4c87a2ddc6db73f87f5e"
            ]
          }
        },
        "d1e6b535227a4e22b49e0c2a7f4b0f15": {
          "model_module": "@jupyter-widgets/base",
          "model_name": "LayoutModel",
          "state": {
            "_view_name": "LayoutView",
            "grid_template_rows": null,
            "right": null,
            "justify_content": null,
            "_view_module": "@jupyter-widgets/base",
            "overflow": null,
            "_model_module_version": "1.2.0",
            "_view_count": null,
            "flex_flow": null,
            "width": null,
            "min_width": null,
            "border": null,
            "align_items": null,
            "bottom": null,
            "_model_module": "@jupyter-widgets/base",
            "top": null,
            "grid_column": null,
            "overflow_y": null,
            "overflow_x": null,
            "grid_auto_flow": null,
            "grid_area": null,
            "grid_template_columns": null,
            "flex": null,
            "_model_name": "LayoutModel",
            "justify_items": null,
            "grid_row": null,
            "max_height": null,
            "align_content": null,
            "visibility": null,
            "align_self": null,
            "height": null,
            "min_height": null,
            "padding": null,
            "grid_auto_rows": null,
            "grid_gap": null,
            "max_width": null,
            "order": null,
            "_view_module_version": "1.2.0",
            "grid_template_areas": null,
            "object_position": null,
            "object_fit": null,
            "grid_auto_columns": null,
            "margin": null,
            "display": null,
            "left": null
          }
        },
        "7b4f1c3d61794d4eb67bc4a154cf5410": {
          "model_module": "@jupyter-widgets/controls",
          "model_name": "FloatProgressModel",
          "state": {
            "_view_name": "ProgressView",
            "style": "IPY_MODEL_1681930b420645dabfee0a1424e30057",
            "_dom_classes": [],
            "description": "Dl Completed...: 100%",
            "_model_name": "FloatProgressModel",
            "bar_style": "success",
            "max": 1,
            "_view_module": "@jupyter-widgets/controls",
            "_model_module_version": "1.5.0",
            "value": 1,
            "_view_count": null,
            "_view_module_version": "1.5.0",
            "orientation": "horizontal",
            "min": 0,
            "description_tooltip": null,
            "_model_module": "@jupyter-widgets/controls",
            "layout": "IPY_MODEL_2910bd8a09694c07bf57fafbd392b459"
          }
        },
        "097c83fac12c4c87a2ddc6db73f87f5e": {
          "model_module": "@jupyter-widgets/controls",
          "model_name": "HTMLModel",
          "state": {
            "_view_name": "HTMLView",
            "style": "IPY_MODEL_420de026ae094ea98ee8c6eb7cde077d",
            "_dom_classes": [],
            "description": "",
            "_model_name": "HTMLModel",
            "placeholder": "​",
            "_view_module": "@jupyter-widgets/controls",
            "_model_module_version": "1.5.0",
            "value": " 1/1 [29:10&lt;00:00, 1750.37s/ url]",
            "_view_count": null,
            "_view_module_version": "1.5.0",
            "description_tooltip": null,
            "_model_module": "@jupyter-widgets/controls",
            "layout": "IPY_MODEL_06da28f4d9de4c7a88be546fd93df6c1"
          }
        },
        "1681930b420645dabfee0a1424e30057": {
          "model_module": "@jupyter-widgets/controls",
          "model_name": "ProgressStyleModel",
          "state": {
            "_view_name": "StyleView",
            "_model_name": "ProgressStyleModel",
            "description_width": "initial",
            "_view_module": "@jupyter-widgets/base",
            "_model_module_version": "1.5.0",
            "_view_count": null,
            "_view_module_version": "1.2.0",
            "bar_color": null,
            "_model_module": "@jupyter-widgets/controls"
          }
        },
        "2910bd8a09694c07bf57fafbd392b459": {
          "model_module": "@jupyter-widgets/base",
          "model_name": "LayoutModel",
          "state": {
            "_view_name": "LayoutView",
            "grid_template_rows": null,
            "right": null,
            "justify_content": null,
            "_view_module": "@jupyter-widgets/base",
            "overflow": null,
            "_model_module_version": "1.2.0",
            "_view_count": null,
            "flex_flow": null,
            "width": null,
            "min_width": null,
            "border": null,
            "align_items": null,
            "bottom": null,
            "_model_module": "@jupyter-widgets/base",
            "top": null,
            "grid_column": null,
            "overflow_y": null,
            "overflow_x": null,
            "grid_auto_flow": null,
            "grid_area": null,
            "grid_template_columns": null,
            "flex": null,
            "_model_name": "LayoutModel",
            "justify_items": null,
            "grid_row": null,
            "max_height": null,
            "align_content": null,
            "visibility": null,
            "align_self": null,
            "height": null,
            "min_height": null,
            "padding": null,
            "grid_auto_rows": null,
            "grid_gap": null,
            "max_width": null,
            "order": null,
            "_view_module_version": "1.2.0",
            "grid_template_areas": null,
            "object_position": null,
            "object_fit": null,
            "grid_auto_columns": null,
            "margin": null,
            "display": null,
            "left": null
          }
        },
        "420de026ae094ea98ee8c6eb7cde077d": {
          "model_module": "@jupyter-widgets/controls",
          "model_name": "DescriptionStyleModel",
          "state": {
            "_view_name": "StyleView",
            "_model_name": "DescriptionStyleModel",
            "description_width": "",
            "_view_module": "@jupyter-widgets/base",
            "_model_module_version": "1.5.0",
            "_view_count": null,
            "_view_module_version": "1.2.0",
            "_model_module": "@jupyter-widgets/controls"
          }
        },
        "06da28f4d9de4c7a88be546fd93df6c1": {
          "model_module": "@jupyter-widgets/base",
          "model_name": "LayoutModel",
          "state": {
            "_view_name": "LayoutView",
            "grid_template_rows": null,
            "right": null,
            "justify_content": null,
            "_view_module": "@jupyter-widgets/base",
            "overflow": null,
            "_model_module_version": "1.2.0",
            "_view_count": null,
            "flex_flow": null,
            "width": null,
            "min_width": null,
            "border": null,
            "align_items": null,
            "bottom": null,
            "_model_module": "@jupyter-widgets/base",
            "top": null,
            "grid_column": null,
            "overflow_y": null,
            "overflow_x": null,
            "grid_auto_flow": null,
            "grid_area": null,
            "grid_template_columns": null,
            "flex": null,
            "_model_name": "LayoutModel",
            "justify_items": null,
            "grid_row": null,
            "max_height": null,
            "align_content": null,
            "visibility": null,
            "align_self": null,
            "height": null,
            "min_height": null,
            "padding": null,
            "grid_auto_rows": null,
            "grid_gap": null,
            "max_width": null,
            "order": null,
            "_view_module_version": "1.2.0",
            "grid_template_areas": null,
            "object_position": null,
            "object_fit": null,
            "grid_auto_columns": null,
            "margin": null,
            "display": null,
            "left": null
          }
        },
        "01b9d86a0b574a9295a46637c615056f": {
          "model_module": "@jupyter-widgets/controls",
          "model_name": "HBoxModel",
          "state": {
            "_view_name": "HBoxView",
            "_dom_classes": [],
            "_model_name": "HBoxModel",
            "_view_module": "@jupyter-widgets/controls",
            "_model_module_version": "1.5.0",
            "_view_count": null,
            "_view_module_version": "1.5.0",
            "box_style": "",
            "layout": "IPY_MODEL_9879d7ad7acb43a09920302c72496f28",
            "_model_module": "@jupyter-widgets/controls",
            "children": [
              "IPY_MODEL_1d8996dd00254f3c807f4577d36253a9",
              "IPY_MODEL_ac6c649376b6409a92420e39e63b4ee5"
            ]
          }
        },
        "9879d7ad7acb43a09920302c72496f28": {
          "model_module": "@jupyter-widgets/base",
          "model_name": "LayoutModel",
          "state": {
            "_view_name": "LayoutView",
            "grid_template_rows": null,
            "right": null,
            "justify_content": null,
            "_view_module": "@jupyter-widgets/base",
            "overflow": null,
            "_model_module_version": "1.2.0",
            "_view_count": null,
            "flex_flow": null,
            "width": null,
            "min_width": null,
            "border": null,
            "align_items": null,
            "bottom": null,
            "_model_module": "@jupyter-widgets/base",
            "top": null,
            "grid_column": null,
            "overflow_y": null,
            "overflow_x": null,
            "grid_auto_flow": null,
            "grid_area": null,
            "grid_template_columns": null,
            "flex": null,
            "_model_name": "LayoutModel",
            "justify_items": null,
            "grid_row": null,
            "max_height": null,
            "align_content": null,
            "visibility": null,
            "align_self": null,
            "height": null,
            "min_height": null,
            "padding": null,
            "grid_auto_rows": null,
            "grid_gap": null,
            "max_width": null,
            "order": null,
            "_view_module_version": "1.2.0",
            "grid_template_areas": null,
            "object_position": null,
            "object_fit": null,
            "grid_auto_columns": null,
            "margin": null,
            "display": null,
            "left": null
          }
        },
        "1d8996dd00254f3c807f4577d36253a9": {
          "model_module": "@jupyter-widgets/controls",
          "model_name": "FloatProgressModel",
          "state": {
            "_view_name": "ProgressView",
            "style": "IPY_MODEL_f6b1f96d78b14a788eb9689548be5f46",
            "_dom_classes": [],
            "description": "Dl Size...: 100%",
            "_model_name": "FloatProgressModel",
            "bar_style": "success",
            "max": 1,
            "_view_module": "@jupyter-widgets/controls",
            "_model_module_version": "1.5.0",
            "value": 1,
            "_view_count": null,
            "_view_module_version": "1.5.0",
            "orientation": "horizontal",
            "min": 0,
            "description_tooltip": null,
            "_model_module": "@jupyter-widgets/controls",
            "layout": "IPY_MODEL_47a50d70d75d4ebebafc577bb85dfe6b"
          }
        },
        "ac6c649376b6409a92420e39e63b4ee5": {
          "model_module": "@jupyter-widgets/controls",
          "model_name": "HTMLModel",
          "state": {
            "_view_name": "HTMLView",
            "style": "IPY_MODEL_3a3a076e258542ef909f0948693bbc3b",
            "_dom_classes": [],
            "description": "",
            "_model_name": "HTMLModel",
            "placeholder": "​",
            "_view_module": "@jupyter-widgets/controls",
            "_model_module_version": "1.5.0",
            "value": " 4/4 [29:10&lt;00:00, 437.58s/ MiB]",
            "_view_count": null,
            "_view_module_version": "1.5.0",
            "description_tooltip": null,
            "_model_module": "@jupyter-widgets/controls",
            "layout": "IPY_MODEL_9ab4b2a4f0fa4aea96a80eb52ecb35a8"
          }
        },
        "f6b1f96d78b14a788eb9689548be5f46": {
          "model_module": "@jupyter-widgets/controls",
          "model_name": "ProgressStyleModel",
          "state": {
            "_view_name": "StyleView",
            "_model_name": "ProgressStyleModel",
            "description_width": "initial",
            "_view_module": "@jupyter-widgets/base",
            "_model_module_version": "1.5.0",
            "_view_count": null,
            "_view_module_version": "1.2.0",
            "bar_color": null,
            "_model_module": "@jupyter-widgets/controls"
          }
        },
        "47a50d70d75d4ebebafc577bb85dfe6b": {
          "model_module": "@jupyter-widgets/base",
          "model_name": "LayoutModel",
          "state": {
            "_view_name": "LayoutView",
            "grid_template_rows": null,
            "right": null,
            "justify_content": null,
            "_view_module": "@jupyter-widgets/base",
            "overflow": null,
            "_model_module_version": "1.2.0",
            "_view_count": null,
            "flex_flow": null,
            "width": null,
            "min_width": null,
            "border": null,
            "align_items": null,
            "bottom": null,
            "_model_module": "@jupyter-widgets/base",
            "top": null,
            "grid_column": null,
            "overflow_y": null,
            "overflow_x": null,
            "grid_auto_flow": null,
            "grid_area": null,
            "grid_template_columns": null,
            "flex": null,
            "_model_name": "LayoutModel",
            "justify_items": null,
            "grid_row": null,
            "max_height": null,
            "align_content": null,
            "visibility": null,
            "align_self": null,
            "height": null,
            "min_height": null,
            "padding": null,
            "grid_auto_rows": null,
            "grid_gap": null,
            "max_width": null,
            "order": null,
            "_view_module_version": "1.2.0",
            "grid_template_areas": null,
            "object_position": null,
            "object_fit": null,
            "grid_auto_columns": null,
            "margin": null,
            "display": null,
            "left": null
          }
        },
        "3a3a076e258542ef909f0948693bbc3b": {
          "model_module": "@jupyter-widgets/controls",
          "model_name": "DescriptionStyleModel",
          "state": {
            "_view_name": "StyleView",
            "_model_name": "DescriptionStyleModel",
            "description_width": "",
            "_view_module": "@jupyter-widgets/base",
            "_model_module_version": "1.5.0",
            "_view_count": null,
            "_view_module_version": "1.2.0",
            "_model_module": "@jupyter-widgets/controls"
          }
        },
        "9ab4b2a4f0fa4aea96a80eb52ecb35a8": {
          "model_module": "@jupyter-widgets/base",
          "model_name": "LayoutModel",
          "state": {
            "_view_name": "LayoutView",
            "grid_template_rows": null,
            "right": null,
            "justify_content": null,
            "_view_module": "@jupyter-widgets/base",
            "overflow": null,
            "_model_module_version": "1.2.0",
            "_view_count": null,
            "flex_flow": null,
            "width": null,
            "min_width": null,
            "border": null,
            "align_items": null,
            "bottom": null,
            "_model_module": "@jupyter-widgets/base",
            "top": null,
            "grid_column": null,
            "overflow_y": null,
            "overflow_x": null,
            "grid_auto_flow": null,
            "grid_area": null,
            "grid_template_columns": null,
            "flex": null,
            "_model_name": "LayoutModel",
            "justify_items": null,
            "grid_row": null,
            "max_height": null,
            "align_content": null,
            "visibility": null,
            "align_self": null,
            "height": null,
            "min_height": null,
            "padding": null,
            "grid_auto_rows": null,
            "grid_gap": null,
            "max_width": null,
            "order": null,
            "_view_module_version": "1.2.0",
            "grid_template_areas": null,
            "object_position": null,
            "object_fit": null,
            "grid_auto_columns": null,
            "margin": null,
            "display": null,
            "left": null
          }
        },
        "2754460e50044e579b45ab1c3c109abd": {
          "model_module": "@jupyter-widgets/controls",
          "model_name": "HBoxModel",
          "state": {
            "_view_name": "HBoxView",
            "_dom_classes": [],
            "_model_name": "HBoxModel",
            "_view_module": "@jupyter-widgets/controls",
            "_model_module_version": "1.5.0",
            "_view_count": null,
            "_view_module_version": "1.5.0",
            "box_style": "",
            "layout": "IPY_MODEL_bebe222d8ffa4adeb4cd1bfe71da4e2a",
            "_model_module": "@jupyter-widgets/controls",
            "children": [
              "IPY_MODEL_282aff8b9e3d45d894019f24889e0c8d",
              "IPY_MODEL_7758576dcc324484bf49de281080f3ad"
            ]
          }
        },
        "bebe222d8ffa4adeb4cd1bfe71da4e2a": {
          "model_module": "@jupyter-widgets/base",
          "model_name": "LayoutModel",
          "state": {
            "_view_name": "LayoutView",
            "grid_template_rows": null,
            "right": null,
            "justify_content": null,
            "_view_module": "@jupyter-widgets/base",
            "overflow": null,
            "_model_module_version": "1.2.0",
            "_view_count": null,
            "flex_flow": null,
            "width": null,
            "min_width": null,
            "border": null,
            "align_items": null,
            "bottom": null,
            "_model_module": "@jupyter-widgets/base",
            "top": null,
            "grid_column": null,
            "overflow_y": null,
            "overflow_x": null,
            "grid_auto_flow": null,
            "grid_area": null,
            "grid_template_columns": null,
            "flex": null,
            "_model_name": "LayoutModel",
            "justify_items": null,
            "grid_row": null,
            "max_height": null,
            "align_content": null,
            "visibility": null,
            "align_self": null,
            "height": null,
            "min_height": null,
            "padding": null,
            "grid_auto_rows": null,
            "grid_gap": null,
            "max_width": null,
            "order": null,
            "_view_module_version": "1.2.0",
            "grid_template_areas": null,
            "object_position": null,
            "object_fit": null,
            "grid_auto_columns": null,
            "margin": null,
            "display": null,
            "left": null
          }
        },
        "282aff8b9e3d45d894019f24889e0c8d": {
          "model_module": "@jupyter-widgets/controls",
          "model_name": "FloatProgressModel",
          "state": {
            "_view_name": "ProgressView",
            "style": "IPY_MODEL_b96ff854480049c6b8da10d0e0191a0a",
            "_dom_classes": [],
            "description": "Extraction completed...: 100%",
            "_model_name": "FloatProgressModel",
            "bar_style": "success",
            "max": 1,
            "_view_module": "@jupyter-widgets/controls",
            "_model_module_version": "1.5.0",
            "value": 1,
            "_view_count": null,
            "_view_module_version": "1.5.0",
            "orientation": "horizontal",
            "min": 0,
            "description_tooltip": null,
            "_model_module": "@jupyter-widgets/controls",
            "layout": "IPY_MODEL_e89e86f10fd243a788ee04d0f3542a4d"
          }
        },
        "7758576dcc324484bf49de281080f3ad": {
          "model_module": "@jupyter-widgets/controls",
          "model_name": "HTMLModel",
          "state": {
            "_view_name": "HTMLView",
            "style": "IPY_MODEL_79b118b2fdff45bfad29c001a2403b8b",
            "_dom_classes": [],
            "description": "",
            "_model_name": "HTMLModel",
            "placeholder": "​",
            "_view_module": "@jupyter-widgets/controls",
            "_model_module_version": "1.5.0",
            "value": " 1/1 [29:10&lt;00:00, 1750.28s/ file]",
            "_view_count": null,
            "_view_module_version": "1.5.0",
            "description_tooltip": null,
            "_model_module": "@jupyter-widgets/controls",
            "layout": "IPY_MODEL_7f581f4d107e4f49a9973a9853610d89"
          }
        },
        "b96ff854480049c6b8da10d0e0191a0a": {
          "model_module": "@jupyter-widgets/controls",
          "model_name": "ProgressStyleModel",
          "state": {
            "_view_name": "StyleView",
            "_model_name": "ProgressStyleModel",
            "description_width": "initial",
            "_view_module": "@jupyter-widgets/base",
            "_model_module_version": "1.5.0",
            "_view_count": null,
            "_view_module_version": "1.2.0",
            "bar_color": null,
            "_model_module": "@jupyter-widgets/controls"
          }
        },
        "e89e86f10fd243a788ee04d0f3542a4d": {
          "model_module": "@jupyter-widgets/base",
          "model_name": "LayoutModel",
          "state": {
            "_view_name": "LayoutView",
            "grid_template_rows": null,
            "right": null,
            "justify_content": null,
            "_view_module": "@jupyter-widgets/base",
            "overflow": null,
            "_model_module_version": "1.2.0",
            "_view_count": null,
            "flex_flow": null,
            "width": null,
            "min_width": null,
            "border": null,
            "align_items": null,
            "bottom": null,
            "_model_module": "@jupyter-widgets/base",
            "top": null,
            "grid_column": null,
            "overflow_y": null,
            "overflow_x": null,
            "grid_auto_flow": null,
            "grid_area": null,
            "grid_template_columns": null,
            "flex": null,
            "_model_name": "LayoutModel",
            "justify_items": null,
            "grid_row": null,
            "max_height": null,
            "align_content": null,
            "visibility": null,
            "align_self": null,
            "height": null,
            "min_height": null,
            "padding": null,
            "grid_auto_rows": null,
            "grid_gap": null,
            "max_width": null,
            "order": null,
            "_view_module_version": "1.2.0",
            "grid_template_areas": null,
            "object_position": null,
            "object_fit": null,
            "grid_auto_columns": null,
            "margin": null,
            "display": null,
            "left": null
          }
        },
        "79b118b2fdff45bfad29c001a2403b8b": {
          "model_module": "@jupyter-widgets/controls",
          "model_name": "DescriptionStyleModel",
          "state": {
            "_view_name": "StyleView",
            "_model_name": "DescriptionStyleModel",
            "description_width": "",
            "_view_module": "@jupyter-widgets/base",
            "_model_module_version": "1.5.0",
            "_view_count": null,
            "_view_module_version": "1.2.0",
            "_model_module": "@jupyter-widgets/controls"
          }
        },
        "7f581f4d107e4f49a9973a9853610d89": {
          "model_module": "@jupyter-widgets/base",
          "model_name": "LayoutModel",
          "state": {
            "_view_name": "LayoutView",
            "grid_template_rows": null,
            "right": null,
            "justify_content": null,
            "_view_module": "@jupyter-widgets/base",
            "overflow": null,
            "_model_module_version": "1.2.0",
            "_view_count": null,
            "flex_flow": null,
            "width": null,
            "min_width": null,
            "border": null,
            "align_items": null,
            "bottom": null,
            "_model_module": "@jupyter-widgets/base",
            "top": null,
            "grid_column": null,
            "overflow_y": null,
            "overflow_x": null,
            "grid_auto_flow": null,
            "grid_area": null,
            "grid_template_columns": null,
            "flex": null,
            "_model_name": "LayoutModel",
            "justify_items": null,
            "grid_row": null,
            "max_height": null,
            "align_content": null,
            "visibility": null,
            "align_self": null,
            "height": null,
            "min_height": null,
            "padding": null,
            "grid_auto_rows": null,
            "grid_gap": null,
            "max_width": null,
            "order": null,
            "_view_module_version": "1.2.0",
            "grid_template_areas": null,
            "object_position": null,
            "object_fit": null,
            "grid_auto_columns": null,
            "margin": null,
            "display": null,
            "left": null
          }
        },
        "494b0fa519674e169a60fee0fef5f554": {
          "model_module": "@jupyter-widgets/controls",
          "model_name": "HBoxModel",
          "state": {
            "_view_name": "HBoxView",
            "_dom_classes": [],
            "_model_name": "HBoxModel",
            "_view_module": "@jupyter-widgets/controls",
            "_model_module_version": "1.5.0",
            "_view_count": null,
            "_view_module_version": "1.5.0",
            "box_style": "",
            "layout": "IPY_MODEL_0ffcba7aaf764b94a127a11afb47635b",
            "_model_module": "@jupyter-widgets/controls",
            "children": [
              "IPY_MODEL_5a6182787d2c4f2191e18108afa7cf9d",
              "IPY_MODEL_b45c2a3a7f9c4d0fb80a656f5fc549d3"
            ]
          }
        },
        "0ffcba7aaf764b94a127a11afb47635b": {
          "model_module": "@jupyter-widgets/base",
          "model_name": "LayoutModel",
          "state": {
            "_view_name": "LayoutView",
            "grid_template_rows": null,
            "right": null,
            "justify_content": null,
            "_view_module": "@jupyter-widgets/base",
            "overflow": null,
            "_model_module_version": "1.2.0",
            "_view_count": null,
            "flex_flow": null,
            "width": null,
            "min_width": null,
            "border": null,
            "align_items": null,
            "bottom": null,
            "_model_module": "@jupyter-widgets/base",
            "top": null,
            "grid_column": null,
            "overflow_y": null,
            "overflow_x": null,
            "grid_auto_flow": null,
            "grid_area": null,
            "grid_template_columns": null,
            "flex": null,
            "_model_name": "LayoutModel",
            "justify_items": null,
            "grid_row": null,
            "max_height": null,
            "align_content": null,
            "visibility": null,
            "align_self": null,
            "height": null,
            "min_height": null,
            "padding": null,
            "grid_auto_rows": null,
            "grid_gap": null,
            "max_width": null,
            "order": null,
            "_view_module_version": "1.2.0",
            "grid_template_areas": null,
            "object_position": null,
            "object_fit": null,
            "grid_auto_columns": null,
            "margin": null,
            "display": null,
            "left": null
          }
        },
        "5a6182787d2c4f2191e18108afa7cf9d": {
          "model_module": "@jupyter-widgets/controls",
          "model_name": "FloatProgressModel",
          "state": {
            "_view_name": "ProgressView",
            "style": "IPY_MODEL_3c7190893d1e46119da7599e0fa831cd",
            "_dom_classes": [],
            "description": "Generating splits...: 100%",
            "_model_name": "FloatProgressModel",
            "bar_style": "",
            "max": 1,
            "_view_module": "@jupyter-widgets/controls",
            "_model_module_version": "1.5.0",
            "value": 1,
            "_view_count": null,
            "_view_module_version": "1.5.0",
            "orientation": "horizontal",
            "min": 0,
            "description_tooltip": null,
            "_model_module": "@jupyter-widgets/controls",
            "layout": "IPY_MODEL_9dc6f58e27cb4067972fc3674f4ff290"
          }
        },
        "b45c2a3a7f9c4d0fb80a656f5fc549d3": {
          "model_module": "@jupyter-widgets/controls",
          "model_name": "HTMLModel",
          "state": {
            "_view_name": "HTMLView",
            "style": "IPY_MODEL_dca82e081480408c81d1087f8cd00736",
            "_dom_classes": [],
            "description": "",
            "_model_name": "HTMLModel",
            "placeholder": "​",
            "_view_module": "@jupyter-widgets/controls",
            "_model_module_version": "1.5.0",
            "value": " 1/1 [01:41&lt;00:00, 101.63s/ splits]",
            "_view_count": null,
            "_view_module_version": "1.5.0",
            "description_tooltip": null,
            "_model_module": "@jupyter-widgets/controls",
            "layout": "IPY_MODEL_adbd3ac032b64953b38cc6c87ad8d90a"
          }
        },
        "3c7190893d1e46119da7599e0fa831cd": {
          "model_module": "@jupyter-widgets/controls",
          "model_name": "ProgressStyleModel",
          "state": {
            "_view_name": "StyleView",
            "_model_name": "ProgressStyleModel",
            "description_width": "initial",
            "_view_module": "@jupyter-widgets/base",
            "_model_module_version": "1.5.0",
            "_view_count": null,
            "_view_module_version": "1.2.0",
            "bar_color": null,
            "_model_module": "@jupyter-widgets/controls"
          }
        },
        "9dc6f58e27cb4067972fc3674f4ff290": {
          "model_module": "@jupyter-widgets/base",
          "model_name": "LayoutModel",
          "state": {
            "_view_name": "LayoutView",
            "grid_template_rows": null,
            "right": null,
            "justify_content": null,
            "_view_module": "@jupyter-widgets/base",
            "overflow": null,
            "_model_module_version": "1.2.0",
            "_view_count": null,
            "flex_flow": null,
            "width": null,
            "min_width": null,
            "border": null,
            "align_items": null,
            "bottom": null,
            "_model_module": "@jupyter-widgets/base",
            "top": null,
            "grid_column": null,
            "overflow_y": null,
            "overflow_x": null,
            "grid_auto_flow": null,
            "grid_area": null,
            "grid_template_columns": null,
            "flex": null,
            "_model_name": "LayoutModel",
            "justify_items": null,
            "grid_row": null,
            "max_height": null,
            "align_content": null,
            "visibility": null,
            "align_self": null,
            "height": null,
            "min_height": null,
            "padding": null,
            "grid_auto_rows": null,
            "grid_gap": null,
            "max_width": null,
            "order": null,
            "_view_module_version": "1.2.0",
            "grid_template_areas": null,
            "object_position": null,
            "object_fit": null,
            "grid_auto_columns": null,
            "margin": null,
            "display": null,
            "left": null
          }
        },
        "dca82e081480408c81d1087f8cd00736": {
          "model_module": "@jupyter-widgets/controls",
          "model_name": "DescriptionStyleModel",
          "state": {
            "_view_name": "StyleView",
            "_model_name": "DescriptionStyleModel",
            "description_width": "",
            "_view_module": "@jupyter-widgets/base",
            "_model_module_version": "1.5.0",
            "_view_count": null,
            "_view_module_version": "1.2.0",
            "_model_module": "@jupyter-widgets/controls"
          }
        },
        "adbd3ac032b64953b38cc6c87ad8d90a": {
          "model_module": "@jupyter-widgets/base",
          "model_name": "LayoutModel",
          "state": {
            "_view_name": "LayoutView",
            "grid_template_rows": null,
            "right": null,
            "justify_content": null,
            "_view_module": "@jupyter-widgets/base",
            "overflow": null,
            "_model_module_version": "1.2.0",
            "_view_count": null,
            "flex_flow": null,
            "width": null,
            "min_width": null,
            "border": null,
            "align_items": null,
            "bottom": null,
            "_model_module": "@jupyter-widgets/base",
            "top": null,
            "grid_column": null,
            "overflow_y": null,
            "overflow_x": null,
            "grid_auto_flow": null,
            "grid_area": null,
            "grid_template_columns": null,
            "flex": null,
            "_model_name": "LayoutModel",
            "justify_items": null,
            "grid_row": null,
            "max_height": null,
            "align_content": null,
            "visibility": null,
            "align_self": null,
            "height": null,
            "min_height": null,
            "padding": null,
            "grid_auto_rows": null,
            "grid_gap": null,
            "max_width": null,
            "order": null,
            "_view_module_version": "1.2.0",
            "grid_template_areas": null,
            "object_position": null,
            "object_fit": null,
            "grid_auto_columns": null,
            "margin": null,
            "display": null,
            "left": null
          }
        },
        "a0c73082993b460aa09c2eb8f4576811": {
          "model_module": "@jupyter-widgets/controls",
          "model_name": "HBoxModel",
          "state": {
            "_view_name": "HBoxView",
            "_dom_classes": [],
            "_model_name": "HBoxModel",
            "_view_module": "@jupyter-widgets/controls",
            "_model_module_version": "1.5.0",
            "_view_count": null,
            "_view_module_version": "1.5.0",
            "box_style": "",
            "layout": "IPY_MODEL_8e578a9bb0fc41598be26913b756462f",
            "_model_module": "@jupyter-widgets/controls",
            "children": [
              "IPY_MODEL_ec116cd37c804926b90e2b3a82148178",
              "IPY_MODEL_d3fd8c4951f747c98b07b9689eb4f457"
            ]
          }
        },
        "8e578a9bb0fc41598be26913b756462f": {
          "model_module": "@jupyter-widgets/base",
          "model_name": "LayoutModel",
          "state": {
            "_view_name": "LayoutView",
            "grid_template_rows": null,
            "right": null,
            "justify_content": null,
            "_view_module": "@jupyter-widgets/base",
            "overflow": null,
            "_model_module_version": "1.2.0",
            "_view_count": null,
            "flex_flow": null,
            "width": null,
            "min_width": null,
            "border": null,
            "align_items": null,
            "bottom": null,
            "_model_module": "@jupyter-widgets/base",
            "top": null,
            "grid_column": null,
            "overflow_y": null,
            "overflow_x": null,
            "grid_auto_flow": null,
            "grid_area": null,
            "grid_template_columns": null,
            "flex": null,
            "_model_name": "LayoutModel",
            "justify_items": null,
            "grid_row": null,
            "max_height": null,
            "align_content": null,
            "visibility": null,
            "align_self": null,
            "height": null,
            "min_height": null,
            "padding": null,
            "grid_auto_rows": null,
            "grid_gap": null,
            "max_width": null,
            "order": null,
            "_view_module_version": "1.2.0",
            "grid_template_areas": null,
            "object_position": null,
            "object_fit": null,
            "grid_auto_columns": null,
            "margin": null,
            "display": null,
            "left": null
          }
        },
        "ec116cd37c804926b90e2b3a82148178": {
          "model_module": "@jupyter-widgets/controls",
          "model_name": "FloatProgressModel",
          "state": {
            "_view_name": "ProgressView",
            "style": "IPY_MODEL_cacd2858712342d5baf7d4585de91a74",
            "_dom_classes": [],
            "description": "Generating train examples...: 100%",
            "_model_name": "FloatProgressModel",
            "bar_style": "",
            "max": 100000,
            "_view_module": "@jupyter-widgets/controls",
            "_model_module_version": "1.5.0",
            "value": 100000,
            "_view_count": null,
            "_view_module_version": "1.5.0",
            "orientation": "horizontal",
            "min": 0,
            "description_tooltip": null,
            "_model_module": "@jupyter-widgets/controls",
            "layout": "IPY_MODEL_59869dc867a9474f9e48ad13e0162bdc"
          }
        },
        "d3fd8c4951f747c98b07b9689eb4f457": {
          "model_module": "@jupyter-widgets/controls",
          "model_name": "HTMLModel",
          "state": {
            "_view_name": "HTMLView",
            "style": "IPY_MODEL_3945974367724056a87a551a75522d12",
            "_dom_classes": [],
            "description": "",
            "_model_name": "HTMLModel",
            "placeholder": "​",
            "_view_module": "@jupyter-widgets/controls",
            "_model_module_version": "1.5.0",
            "value": " 100000/100000 [01:40&lt;00:00, 899.11 examples/s]",
            "_view_count": null,
            "_view_module_version": "1.5.0",
            "description_tooltip": null,
            "_model_module": "@jupyter-widgets/controls",
            "layout": "IPY_MODEL_822d5d7a8ebd4a13b196d34bca689571"
          }
        },
        "cacd2858712342d5baf7d4585de91a74": {
          "model_module": "@jupyter-widgets/controls",
          "model_name": "ProgressStyleModel",
          "state": {
            "_view_name": "StyleView",
            "_model_name": "ProgressStyleModel",
            "description_width": "initial",
            "_view_module": "@jupyter-widgets/base",
            "_model_module_version": "1.5.0",
            "_view_count": null,
            "_view_module_version": "1.2.0",
            "bar_color": null,
            "_model_module": "@jupyter-widgets/controls"
          }
        },
        "59869dc867a9474f9e48ad13e0162bdc": {
          "model_module": "@jupyter-widgets/base",
          "model_name": "LayoutModel",
          "state": {
            "_view_name": "LayoutView",
            "grid_template_rows": null,
            "right": null,
            "justify_content": null,
            "_view_module": "@jupyter-widgets/base",
            "overflow": null,
            "_model_module_version": "1.2.0",
            "_view_count": null,
            "flex_flow": null,
            "width": null,
            "min_width": null,
            "border": null,
            "align_items": null,
            "bottom": null,
            "_model_module": "@jupyter-widgets/base",
            "top": null,
            "grid_column": null,
            "overflow_y": null,
            "overflow_x": null,
            "grid_auto_flow": null,
            "grid_area": null,
            "grid_template_columns": null,
            "flex": null,
            "_model_name": "LayoutModel",
            "justify_items": null,
            "grid_row": null,
            "max_height": null,
            "align_content": null,
            "visibility": null,
            "align_self": null,
            "height": null,
            "min_height": null,
            "padding": null,
            "grid_auto_rows": null,
            "grid_gap": null,
            "max_width": null,
            "order": null,
            "_view_module_version": "1.2.0",
            "grid_template_areas": null,
            "object_position": null,
            "object_fit": null,
            "grid_auto_columns": null,
            "margin": null,
            "display": null,
            "left": null
          }
        },
        "3945974367724056a87a551a75522d12": {
          "model_module": "@jupyter-widgets/controls",
          "model_name": "DescriptionStyleModel",
          "state": {
            "_view_name": "StyleView",
            "_model_name": "DescriptionStyleModel",
            "description_width": "",
            "_view_module": "@jupyter-widgets/base",
            "_model_module_version": "1.5.0",
            "_view_count": null,
            "_view_module_version": "1.2.0",
            "_model_module": "@jupyter-widgets/controls"
          }
        },
        "822d5d7a8ebd4a13b196d34bca689571": {
          "model_module": "@jupyter-widgets/base",
          "model_name": "LayoutModel",
          "state": {
            "_view_name": "LayoutView",
            "grid_template_rows": null,
            "right": null,
            "justify_content": null,
            "_view_module": "@jupyter-widgets/base",
            "overflow": null,
            "_model_module_version": "1.2.0",
            "_view_count": null,
            "flex_flow": null,
            "width": null,
            "min_width": null,
            "border": null,
            "align_items": null,
            "bottom": null,
            "_model_module": "@jupyter-widgets/base",
            "top": null,
            "grid_column": null,
            "overflow_y": null,
            "overflow_x": null,
            "grid_auto_flow": null,
            "grid_area": null,
            "grid_template_columns": null,
            "flex": null,
            "_model_name": "LayoutModel",
            "justify_items": null,
            "grid_row": null,
            "max_height": null,
            "align_content": null,
            "visibility": null,
            "align_self": null,
            "height": null,
            "min_height": null,
            "padding": null,
            "grid_auto_rows": null,
            "grid_gap": null,
            "max_width": null,
            "order": null,
            "_view_module_version": "1.2.0",
            "grid_template_areas": null,
            "object_position": null,
            "object_fit": null,
            "grid_auto_columns": null,
            "margin": null,
            "display": null,
            "left": null
          }
        },
        "92c1328942d84f679fb3087b6e232d6f": {
          "model_module": "@jupyter-widgets/controls",
          "model_name": "HBoxModel",
          "state": {
            "_view_name": "HBoxView",
            "_dom_classes": [],
            "_model_name": "HBoxModel",
            "_view_module": "@jupyter-widgets/controls",
            "_model_module_version": "1.5.0",
            "_view_count": null,
            "_view_module_version": "1.5.0",
            "box_style": "",
            "layout": "IPY_MODEL_faab127a47434e6fba34917ec5f9a4bf",
            "_model_module": "@jupyter-widgets/controls",
            "children": [
              "IPY_MODEL_ead774a1bc964581a92f7ad34ffc0847",
              "IPY_MODEL_a6518b79cb2448ca9080a10f286698a5"
            ]
          }
        },
        "faab127a47434e6fba34917ec5f9a4bf": {
          "model_module": "@jupyter-widgets/base",
          "model_name": "LayoutModel",
          "state": {
            "_view_name": "LayoutView",
            "grid_template_rows": null,
            "right": null,
            "justify_content": null,
            "_view_module": "@jupyter-widgets/base",
            "overflow": null,
            "_model_module_version": "1.2.0",
            "_view_count": null,
            "flex_flow": null,
            "width": null,
            "min_width": null,
            "border": null,
            "align_items": null,
            "bottom": null,
            "_model_module": "@jupyter-widgets/base",
            "top": null,
            "grid_column": null,
            "overflow_y": null,
            "overflow_x": null,
            "grid_auto_flow": null,
            "grid_area": null,
            "grid_template_columns": null,
            "flex": null,
            "_model_name": "LayoutModel",
            "justify_items": null,
            "grid_row": null,
            "max_height": null,
            "align_content": null,
            "visibility": null,
            "align_self": null,
            "height": null,
            "min_height": null,
            "padding": null,
            "grid_auto_rows": null,
            "grid_gap": null,
            "max_width": null,
            "order": null,
            "_view_module_version": "1.2.0",
            "grid_template_areas": null,
            "object_position": null,
            "object_fit": null,
            "grid_auto_columns": null,
            "margin": null,
            "display": null,
            "left": null
          }
        },
        "ead774a1bc964581a92f7ad34ffc0847": {
          "model_module": "@jupyter-widgets/controls",
          "model_name": "FloatProgressModel",
          "state": {
            "_view_name": "ProgressView",
            "style": "IPY_MODEL_d2bef73ca74144709d6fe59c0277493b",
            "_dom_classes": [],
            "description": "Shuffling movielens-train.tfrecord...: 100%",
            "_model_name": "FloatProgressModel",
            "bar_style": "",
            "max": 100000,
            "_view_module": "@jupyter-widgets/controls",
            "_model_module_version": "1.5.0",
            "value": 100000,
            "_view_count": null,
            "_view_module_version": "1.5.0",
            "orientation": "horizontal",
            "min": 0,
            "description_tooltip": null,
            "_model_module": "@jupyter-widgets/controls",
            "layout": "IPY_MODEL_19eec1f763dd4a9d82acf80904629cb4"
          }
        },
        "a6518b79cb2448ca9080a10f286698a5": {
          "model_module": "@jupyter-widgets/controls",
          "model_name": "HTMLModel",
          "state": {
            "_view_name": "HTMLView",
            "style": "IPY_MODEL_383da845cdf94df5b369b5c054aed9db",
            "_dom_classes": [],
            "description": "",
            "_model_name": "HTMLModel",
            "placeholder": "​",
            "_view_module": "@jupyter-widgets/controls",
            "_model_module_version": "1.5.0",
            "value": " 100000/100000 [00:00&lt;00:00, 11.30 examples/s]",
            "_view_count": null,
            "_view_module_version": "1.5.0",
            "description_tooltip": null,
            "_model_module": "@jupyter-widgets/controls",
            "layout": "IPY_MODEL_e0f36716a25143c08198c7085d48558c"
          }
        },
        "d2bef73ca74144709d6fe59c0277493b": {
          "model_module": "@jupyter-widgets/controls",
          "model_name": "ProgressStyleModel",
          "state": {
            "_view_name": "StyleView",
            "_model_name": "ProgressStyleModel",
            "description_width": "initial",
            "_view_module": "@jupyter-widgets/base",
            "_model_module_version": "1.5.0",
            "_view_count": null,
            "_view_module_version": "1.2.0",
            "bar_color": null,
            "_model_module": "@jupyter-widgets/controls"
          }
        },
        "19eec1f763dd4a9d82acf80904629cb4": {
          "model_module": "@jupyter-widgets/base",
          "model_name": "LayoutModel",
          "state": {
            "_view_name": "LayoutView",
            "grid_template_rows": null,
            "right": null,
            "justify_content": null,
            "_view_module": "@jupyter-widgets/base",
            "overflow": null,
            "_model_module_version": "1.2.0",
            "_view_count": null,
            "flex_flow": null,
            "width": null,
            "min_width": null,
            "border": null,
            "align_items": null,
            "bottom": null,
            "_model_module": "@jupyter-widgets/base",
            "top": null,
            "grid_column": null,
            "overflow_y": null,
            "overflow_x": null,
            "grid_auto_flow": null,
            "grid_area": null,
            "grid_template_columns": null,
            "flex": null,
            "_model_name": "LayoutModel",
            "justify_items": null,
            "grid_row": null,
            "max_height": null,
            "align_content": null,
            "visibility": null,
            "align_self": null,
            "height": null,
            "min_height": null,
            "padding": null,
            "grid_auto_rows": null,
            "grid_gap": null,
            "max_width": null,
            "order": null,
            "_view_module_version": "1.2.0",
            "grid_template_areas": null,
            "object_position": null,
            "object_fit": null,
            "grid_auto_columns": null,
            "margin": null,
            "display": null,
            "left": null
          }
        },
        "383da845cdf94df5b369b5c054aed9db": {
          "model_module": "@jupyter-widgets/controls",
          "model_name": "DescriptionStyleModel",
          "state": {
            "_view_name": "StyleView",
            "_model_name": "DescriptionStyleModel",
            "description_width": "",
            "_view_module": "@jupyter-widgets/base",
            "_model_module_version": "1.5.0",
            "_view_count": null,
            "_view_module_version": "1.2.0",
            "_model_module": "@jupyter-widgets/controls"
          }
        },
        "e0f36716a25143c08198c7085d48558c": {
          "model_module": "@jupyter-widgets/base",
          "model_name": "LayoutModel",
          "state": {
            "_view_name": "LayoutView",
            "grid_template_rows": null,
            "right": null,
            "justify_content": null,
            "_view_module": "@jupyter-widgets/base",
            "overflow": null,
            "_model_module_version": "1.2.0",
            "_view_count": null,
            "flex_flow": null,
            "width": null,
            "min_width": null,
            "border": null,
            "align_items": null,
            "bottom": null,
            "_model_module": "@jupyter-widgets/base",
            "top": null,
            "grid_column": null,
            "overflow_y": null,
            "overflow_x": null,
            "grid_auto_flow": null,
            "grid_area": null,
            "grid_template_columns": null,
            "flex": null,
            "_model_name": "LayoutModel",
            "justify_items": null,
            "grid_row": null,
            "max_height": null,
            "align_content": null,
            "visibility": null,
            "align_self": null,
            "height": null,
            "min_height": null,
            "padding": null,
            "grid_auto_rows": null,
            "grid_gap": null,
            "max_width": null,
            "order": null,
            "_view_module_version": "1.2.0",
            "grid_template_areas": null,
            "object_position": null,
            "object_fit": null,
            "grid_auto_columns": null,
            "margin": null,
            "display": null,
            "left": null
          }
        },
        "3fe75e88cee344a1be5e622f47811302": {
          "model_module": "@jupyter-widgets/controls",
          "model_name": "HBoxModel",
          "state": {
            "_view_name": "HBoxView",
            "_dom_classes": [],
            "_model_name": "HBoxModel",
            "_view_module": "@jupyter-widgets/controls",
            "_model_module_version": "1.5.0",
            "_view_count": null,
            "_view_module_version": "1.5.0",
            "box_style": "",
            "layout": "IPY_MODEL_028401c0bb934fd5af5e8480ac188f42",
            "_model_module": "@jupyter-widgets/controls",
            "children": [
              "IPY_MODEL_a26f0e97c74e435a934d713c1caba1ea",
              "IPY_MODEL_10eac4c13adf4d47a9723296a7e9a3f5"
            ]
          }
        },
        "028401c0bb934fd5af5e8480ac188f42": {
          "model_module": "@jupyter-widgets/base",
          "model_name": "LayoutModel",
          "state": {
            "_view_name": "LayoutView",
            "grid_template_rows": null,
            "right": null,
            "justify_content": null,
            "_view_module": "@jupyter-widgets/base",
            "overflow": null,
            "_model_module_version": "1.2.0",
            "_view_count": null,
            "flex_flow": null,
            "width": null,
            "min_width": null,
            "border": null,
            "align_items": null,
            "bottom": null,
            "_model_module": "@jupyter-widgets/base",
            "top": null,
            "grid_column": null,
            "overflow_y": null,
            "overflow_x": null,
            "grid_auto_flow": null,
            "grid_area": null,
            "grid_template_columns": null,
            "flex": null,
            "_model_name": "LayoutModel",
            "justify_items": null,
            "grid_row": null,
            "max_height": null,
            "align_content": null,
            "visibility": null,
            "align_self": null,
            "height": null,
            "min_height": null,
            "padding": null,
            "grid_auto_rows": null,
            "grid_gap": null,
            "max_width": null,
            "order": null,
            "_view_module_version": "1.2.0",
            "grid_template_areas": null,
            "object_position": null,
            "object_fit": null,
            "grid_auto_columns": null,
            "margin": null,
            "display": null,
            "left": null
          }
        },
        "a26f0e97c74e435a934d713c1caba1ea": {
          "model_module": "@jupyter-widgets/controls",
          "model_name": "FloatProgressModel",
          "state": {
            "_view_name": "ProgressView",
            "style": "IPY_MODEL_7b931d600fa84d12881425d1866bb61c",
            "_dom_classes": [],
            "description": "Dl Completed...: ",
            "_model_name": "FloatProgressModel",
            "bar_style": "success",
            "max": 1,
            "_view_module": "@jupyter-widgets/controls",
            "_model_module_version": "1.5.0",
            "value": 0,
            "_view_count": null,
            "_view_module_version": "1.5.0",
            "orientation": "horizontal",
            "min": 0,
            "description_tooltip": null,
            "_model_module": "@jupyter-widgets/controls",
            "layout": "IPY_MODEL_3e824e55d2bd4d778fc13bfc9499dcb9"
          }
        },
        "10eac4c13adf4d47a9723296a7e9a3f5": {
          "model_module": "@jupyter-widgets/controls",
          "model_name": "HTMLModel",
          "state": {
            "_view_name": "HTMLView",
            "style": "IPY_MODEL_0d756853686a40199c9f93872c49fdcf",
            "_dom_classes": [],
            "description": "",
            "_model_name": "HTMLModel",
            "placeholder": "​",
            "_view_module": "@jupyter-widgets/controls",
            "_model_module_version": "1.5.0",
            "value": " 0/0 [00:00&lt;?, ? url/s]",
            "_view_count": null,
            "_view_module_version": "1.5.0",
            "description_tooltip": null,
            "_model_module": "@jupyter-widgets/controls",
            "layout": "IPY_MODEL_65a3b221e8af465dba5f4a8b591efc7e"
          }
        },
        "7b931d600fa84d12881425d1866bb61c": {
          "model_module": "@jupyter-widgets/controls",
          "model_name": "ProgressStyleModel",
          "state": {
            "_view_name": "StyleView",
            "_model_name": "ProgressStyleModel",
            "description_width": "initial",
            "_view_module": "@jupyter-widgets/base",
            "_model_module_version": "1.5.0",
            "_view_count": null,
            "_view_module_version": "1.2.0",
            "bar_color": null,
            "_model_module": "@jupyter-widgets/controls"
          }
        },
        "3e824e55d2bd4d778fc13bfc9499dcb9": {
          "model_module": "@jupyter-widgets/base",
          "model_name": "LayoutModel",
          "state": {
            "_view_name": "LayoutView",
            "grid_template_rows": null,
            "right": null,
            "justify_content": null,
            "_view_module": "@jupyter-widgets/base",
            "overflow": null,
            "_model_module_version": "1.2.0",
            "_view_count": null,
            "flex_flow": null,
            "width": null,
            "min_width": null,
            "border": null,
            "align_items": null,
            "bottom": null,
            "_model_module": "@jupyter-widgets/base",
            "top": null,
            "grid_column": null,
            "overflow_y": null,
            "overflow_x": null,
            "grid_auto_flow": null,
            "grid_area": null,
            "grid_template_columns": null,
            "flex": null,
            "_model_name": "LayoutModel",
            "justify_items": null,
            "grid_row": null,
            "max_height": null,
            "align_content": null,
            "visibility": null,
            "align_self": null,
            "height": null,
            "min_height": null,
            "padding": null,
            "grid_auto_rows": null,
            "grid_gap": null,
            "max_width": null,
            "order": null,
            "_view_module_version": "1.2.0",
            "grid_template_areas": null,
            "object_position": null,
            "object_fit": null,
            "grid_auto_columns": null,
            "margin": null,
            "display": null,
            "left": null
          }
        },
        "0d756853686a40199c9f93872c49fdcf": {
          "model_module": "@jupyter-widgets/controls",
          "model_name": "DescriptionStyleModel",
          "state": {
            "_view_name": "StyleView",
            "_model_name": "DescriptionStyleModel",
            "description_width": "",
            "_view_module": "@jupyter-widgets/base",
            "_model_module_version": "1.5.0",
            "_view_count": null,
            "_view_module_version": "1.2.0",
            "_model_module": "@jupyter-widgets/controls"
          }
        },
        "65a3b221e8af465dba5f4a8b591efc7e": {
          "model_module": "@jupyter-widgets/base",
          "model_name": "LayoutModel",
          "state": {
            "_view_name": "LayoutView",
            "grid_template_rows": null,
            "right": null,
            "justify_content": null,
            "_view_module": "@jupyter-widgets/base",
            "overflow": null,
            "_model_module_version": "1.2.0",
            "_view_count": null,
            "flex_flow": null,
            "width": null,
            "min_width": null,
            "border": null,
            "align_items": null,
            "bottom": null,
            "_model_module": "@jupyter-widgets/base",
            "top": null,
            "grid_column": null,
            "overflow_y": null,
            "overflow_x": null,
            "grid_auto_flow": null,
            "grid_area": null,
            "grid_template_columns": null,
            "flex": null,
            "_model_name": "LayoutModel",
            "justify_items": null,
            "grid_row": null,
            "max_height": null,
            "align_content": null,
            "visibility": null,
            "align_self": null,
            "height": null,
            "min_height": null,
            "padding": null,
            "grid_auto_rows": null,
            "grid_gap": null,
            "max_width": null,
            "order": null,
            "_view_module_version": "1.2.0",
            "grid_template_areas": null,
            "object_position": null,
            "object_fit": null,
            "grid_auto_columns": null,
            "margin": null,
            "display": null,
            "left": null
          }
        },
        "5b2d3ce9b00049329724638bede1c995": {
          "model_module": "@jupyter-widgets/controls",
          "model_name": "HBoxModel",
          "state": {
            "_view_name": "HBoxView",
            "_dom_classes": [],
            "_model_name": "HBoxModel",
            "_view_module": "@jupyter-widgets/controls",
            "_model_module_version": "1.5.0",
            "_view_count": null,
            "_view_module_version": "1.5.0",
            "box_style": "",
            "layout": "IPY_MODEL_dfb85dd8492047e7a1198ff5aed81b86",
            "_model_module": "@jupyter-widgets/controls",
            "children": [
              "IPY_MODEL_98cf0de19d3e4e1ab0a11c9d44388f2c",
              "IPY_MODEL_8d121f7570f1474a86894f3816fa7c74"
            ]
          }
        },
        "dfb85dd8492047e7a1198ff5aed81b86": {
          "model_module": "@jupyter-widgets/base",
          "model_name": "LayoutModel",
          "state": {
            "_view_name": "LayoutView",
            "grid_template_rows": null,
            "right": null,
            "justify_content": null,
            "_view_module": "@jupyter-widgets/base",
            "overflow": null,
            "_model_module_version": "1.2.0",
            "_view_count": null,
            "flex_flow": null,
            "width": null,
            "min_width": null,
            "border": null,
            "align_items": null,
            "bottom": null,
            "_model_module": "@jupyter-widgets/base",
            "top": null,
            "grid_column": null,
            "overflow_y": null,
            "overflow_x": null,
            "grid_auto_flow": null,
            "grid_area": null,
            "grid_template_columns": null,
            "flex": null,
            "_model_name": "LayoutModel",
            "justify_items": null,
            "grid_row": null,
            "max_height": null,
            "align_content": null,
            "visibility": null,
            "align_self": null,
            "height": null,
            "min_height": null,
            "padding": null,
            "grid_auto_rows": null,
            "grid_gap": null,
            "max_width": null,
            "order": null,
            "_view_module_version": "1.2.0",
            "grid_template_areas": null,
            "object_position": null,
            "object_fit": null,
            "grid_auto_columns": null,
            "margin": null,
            "display": null,
            "left": null
          }
        },
        "98cf0de19d3e4e1ab0a11c9d44388f2c": {
          "model_module": "@jupyter-widgets/controls",
          "model_name": "FloatProgressModel",
          "state": {
            "_view_name": "ProgressView",
            "style": "IPY_MODEL_520826b06792457f86f8b702109ddf61",
            "_dom_classes": [],
            "description": "Dl Size...: ",
            "_model_name": "FloatProgressModel",
            "bar_style": "success",
            "max": 1,
            "_view_module": "@jupyter-widgets/controls",
            "_model_module_version": "1.5.0",
            "value": 0,
            "_view_count": null,
            "_view_module_version": "1.5.0",
            "orientation": "horizontal",
            "min": 0,
            "description_tooltip": null,
            "_model_module": "@jupyter-widgets/controls",
            "layout": "IPY_MODEL_f60a8912849f4b71a291e95ded21161a"
          }
        },
        "8d121f7570f1474a86894f3816fa7c74": {
          "model_module": "@jupyter-widgets/controls",
          "model_name": "HTMLModel",
          "state": {
            "_view_name": "HTMLView",
            "style": "IPY_MODEL_c9811e94f3f34c9e9aa08f74c0e8e84b",
            "_dom_classes": [],
            "description": "",
            "_model_name": "HTMLModel",
            "placeholder": "​",
            "_view_module": "@jupyter-widgets/controls",
            "_model_module_version": "1.5.0",
            "value": " 0/0 [00:00&lt;?, ? MiB/s]",
            "_view_count": null,
            "_view_module_version": "1.5.0",
            "description_tooltip": null,
            "_model_module": "@jupyter-widgets/controls",
            "layout": "IPY_MODEL_e559964871274920bfad5dcae4b4c787"
          }
        },
        "520826b06792457f86f8b702109ddf61": {
          "model_module": "@jupyter-widgets/controls",
          "model_name": "ProgressStyleModel",
          "state": {
            "_view_name": "StyleView",
            "_model_name": "ProgressStyleModel",
            "description_width": "initial",
            "_view_module": "@jupyter-widgets/base",
            "_model_module_version": "1.5.0",
            "_view_count": null,
            "_view_module_version": "1.2.0",
            "bar_color": null,
            "_model_module": "@jupyter-widgets/controls"
          }
        },
        "f60a8912849f4b71a291e95ded21161a": {
          "model_module": "@jupyter-widgets/base",
          "model_name": "LayoutModel",
          "state": {
            "_view_name": "LayoutView",
            "grid_template_rows": null,
            "right": null,
            "justify_content": null,
            "_view_module": "@jupyter-widgets/base",
            "overflow": null,
            "_model_module_version": "1.2.0",
            "_view_count": null,
            "flex_flow": null,
            "width": null,
            "min_width": null,
            "border": null,
            "align_items": null,
            "bottom": null,
            "_model_module": "@jupyter-widgets/base",
            "top": null,
            "grid_column": null,
            "overflow_y": null,
            "overflow_x": null,
            "grid_auto_flow": null,
            "grid_area": null,
            "grid_template_columns": null,
            "flex": null,
            "_model_name": "LayoutModel",
            "justify_items": null,
            "grid_row": null,
            "max_height": null,
            "align_content": null,
            "visibility": null,
            "align_self": null,
            "height": null,
            "min_height": null,
            "padding": null,
            "grid_auto_rows": null,
            "grid_gap": null,
            "max_width": null,
            "order": null,
            "_view_module_version": "1.2.0",
            "grid_template_areas": null,
            "object_position": null,
            "object_fit": null,
            "grid_auto_columns": null,
            "margin": null,
            "display": null,
            "left": null
          }
        },
        "c9811e94f3f34c9e9aa08f74c0e8e84b": {
          "model_module": "@jupyter-widgets/controls",
          "model_name": "DescriptionStyleModel",
          "state": {
            "_view_name": "StyleView",
            "_model_name": "DescriptionStyleModel",
            "description_width": "",
            "_view_module": "@jupyter-widgets/base",
            "_model_module_version": "1.5.0",
            "_view_count": null,
            "_view_module_version": "1.2.0",
            "_model_module": "@jupyter-widgets/controls"
          }
        },
        "e559964871274920bfad5dcae4b4c787": {
          "model_module": "@jupyter-widgets/base",
          "model_name": "LayoutModel",
          "state": {
            "_view_name": "LayoutView",
            "grid_template_rows": null,
            "right": null,
            "justify_content": null,
            "_view_module": "@jupyter-widgets/base",
            "overflow": null,
            "_model_module_version": "1.2.0",
            "_view_count": null,
            "flex_flow": null,
            "width": null,
            "min_width": null,
            "border": null,
            "align_items": null,
            "bottom": null,
            "_model_module": "@jupyter-widgets/base",
            "top": null,
            "grid_column": null,
            "overflow_y": null,
            "overflow_x": null,
            "grid_auto_flow": null,
            "grid_area": null,
            "grid_template_columns": null,
            "flex": null,
            "_model_name": "LayoutModel",
            "justify_items": null,
            "grid_row": null,
            "max_height": null,
            "align_content": null,
            "visibility": null,
            "align_self": null,
            "height": null,
            "min_height": null,
            "padding": null,
            "grid_auto_rows": null,
            "grid_gap": null,
            "max_width": null,
            "order": null,
            "_view_module_version": "1.2.0",
            "grid_template_areas": null,
            "object_position": null,
            "object_fit": null,
            "grid_auto_columns": null,
            "margin": null,
            "display": null,
            "left": null
          }
        },
        "5f2a2e55784343b0a4867e8f17f3f691": {
          "model_module": "@jupyter-widgets/controls",
          "model_name": "HBoxModel",
          "state": {
            "_view_name": "HBoxView",
            "_dom_classes": [],
            "_model_name": "HBoxModel",
            "_view_module": "@jupyter-widgets/controls",
            "_model_module_version": "1.5.0",
            "_view_count": null,
            "_view_module_version": "1.5.0",
            "box_style": "",
            "layout": "IPY_MODEL_c978a114db8a4a6093bfd75294fe481e",
            "_model_module": "@jupyter-widgets/controls",
            "children": [
              "IPY_MODEL_e39f5493aabe41deae32bd23cde0b56b",
              "IPY_MODEL_167b069899f1404290c26137da7486d0"
            ]
          }
        },
        "c978a114db8a4a6093bfd75294fe481e": {
          "model_module": "@jupyter-widgets/base",
          "model_name": "LayoutModel",
          "state": {
            "_view_name": "LayoutView",
            "grid_template_rows": null,
            "right": null,
            "justify_content": null,
            "_view_module": "@jupyter-widgets/base",
            "overflow": null,
            "_model_module_version": "1.2.0",
            "_view_count": null,
            "flex_flow": null,
            "width": null,
            "min_width": null,
            "border": null,
            "align_items": null,
            "bottom": null,
            "_model_module": "@jupyter-widgets/base",
            "top": null,
            "grid_column": null,
            "overflow_y": null,
            "overflow_x": null,
            "grid_auto_flow": null,
            "grid_area": null,
            "grid_template_columns": null,
            "flex": null,
            "_model_name": "LayoutModel",
            "justify_items": null,
            "grid_row": null,
            "max_height": null,
            "align_content": null,
            "visibility": null,
            "align_self": null,
            "height": null,
            "min_height": null,
            "padding": null,
            "grid_auto_rows": null,
            "grid_gap": null,
            "max_width": null,
            "order": null,
            "_view_module_version": "1.2.0",
            "grid_template_areas": null,
            "object_position": null,
            "object_fit": null,
            "grid_auto_columns": null,
            "margin": null,
            "display": null,
            "left": null
          }
        },
        "e39f5493aabe41deae32bd23cde0b56b": {
          "model_module": "@jupyter-widgets/controls",
          "model_name": "FloatProgressModel",
          "state": {
            "_view_name": "ProgressView",
            "style": "IPY_MODEL_57e577823afe44d49315a13b6550e9d3",
            "_dom_classes": [],
            "description": "Extraction completed...: ",
            "_model_name": "FloatProgressModel",
            "bar_style": "success",
            "max": 1,
            "_view_module": "@jupyter-widgets/controls",
            "_model_module_version": "1.5.0",
            "value": 0,
            "_view_count": null,
            "_view_module_version": "1.5.0",
            "orientation": "horizontal",
            "min": 0,
            "description_tooltip": null,
            "_model_module": "@jupyter-widgets/controls",
            "layout": "IPY_MODEL_8b28d594481a4b9b8d12d0fbe8902ce3"
          }
        },
        "167b069899f1404290c26137da7486d0": {
          "model_module": "@jupyter-widgets/controls",
          "model_name": "HTMLModel",
          "state": {
            "_view_name": "HTMLView",
            "style": "IPY_MODEL_e2be5c45e5014c3cbb1cf8a69751be81",
            "_dom_classes": [],
            "description": "",
            "_model_name": "HTMLModel",
            "placeholder": "​",
            "_view_module": "@jupyter-widgets/controls",
            "_model_module_version": "1.5.0",
            "value": " 0/0 [00:00&lt;?, ? file/s]",
            "_view_count": null,
            "_view_module_version": "1.5.0",
            "description_tooltip": null,
            "_model_module": "@jupyter-widgets/controls",
            "layout": "IPY_MODEL_6b74de757f52464d98184c748da663a0"
          }
        },
        "57e577823afe44d49315a13b6550e9d3": {
          "model_module": "@jupyter-widgets/controls",
          "model_name": "ProgressStyleModel",
          "state": {
            "_view_name": "StyleView",
            "_model_name": "ProgressStyleModel",
            "description_width": "initial",
            "_view_module": "@jupyter-widgets/base",
            "_model_module_version": "1.5.0",
            "_view_count": null,
            "_view_module_version": "1.2.0",
            "bar_color": null,
            "_model_module": "@jupyter-widgets/controls"
          }
        },
        "8b28d594481a4b9b8d12d0fbe8902ce3": {
          "model_module": "@jupyter-widgets/base",
          "model_name": "LayoutModel",
          "state": {
            "_view_name": "LayoutView",
            "grid_template_rows": null,
            "right": null,
            "justify_content": null,
            "_view_module": "@jupyter-widgets/base",
            "overflow": null,
            "_model_module_version": "1.2.0",
            "_view_count": null,
            "flex_flow": null,
            "width": null,
            "min_width": null,
            "border": null,
            "align_items": null,
            "bottom": null,
            "_model_module": "@jupyter-widgets/base",
            "top": null,
            "grid_column": null,
            "overflow_y": null,
            "overflow_x": null,
            "grid_auto_flow": null,
            "grid_area": null,
            "grid_template_columns": null,
            "flex": null,
            "_model_name": "LayoutModel",
            "justify_items": null,
            "grid_row": null,
            "max_height": null,
            "align_content": null,
            "visibility": null,
            "align_self": null,
            "height": null,
            "min_height": null,
            "padding": null,
            "grid_auto_rows": null,
            "grid_gap": null,
            "max_width": null,
            "order": null,
            "_view_module_version": "1.2.0",
            "grid_template_areas": null,
            "object_position": null,
            "object_fit": null,
            "grid_auto_columns": null,
            "margin": null,
            "display": null,
            "left": null
          }
        },
        "e2be5c45e5014c3cbb1cf8a69751be81": {
          "model_module": "@jupyter-widgets/controls",
          "model_name": "DescriptionStyleModel",
          "state": {
            "_view_name": "StyleView",
            "_model_name": "DescriptionStyleModel",
            "description_width": "",
            "_view_module": "@jupyter-widgets/base",
            "_model_module_version": "1.5.0",
            "_view_count": null,
            "_view_module_version": "1.2.0",
            "_model_module": "@jupyter-widgets/controls"
          }
        },
        "6b74de757f52464d98184c748da663a0": {
          "model_module": "@jupyter-widgets/base",
          "model_name": "LayoutModel",
          "state": {
            "_view_name": "LayoutView",
            "grid_template_rows": null,
            "right": null,
            "justify_content": null,
            "_view_module": "@jupyter-widgets/base",
            "overflow": null,
            "_model_module_version": "1.2.0",
            "_view_count": null,
            "flex_flow": null,
            "width": null,
            "min_width": null,
            "border": null,
            "align_items": null,
            "bottom": null,
            "_model_module": "@jupyter-widgets/base",
            "top": null,
            "grid_column": null,
            "overflow_y": null,
            "overflow_x": null,
            "grid_auto_flow": null,
            "grid_area": null,
            "grid_template_columns": null,
            "flex": null,
            "_model_name": "LayoutModel",
            "justify_items": null,
            "grid_row": null,
            "max_height": null,
            "align_content": null,
            "visibility": null,
            "align_self": null,
            "height": null,
            "min_height": null,
            "padding": null,
            "grid_auto_rows": null,
            "grid_gap": null,
            "max_width": null,
            "order": null,
            "_view_module_version": "1.2.0",
            "grid_template_areas": null,
            "object_position": null,
            "object_fit": null,
            "grid_auto_columns": null,
            "margin": null,
            "display": null,
            "left": null
          }
        },
        "1248e0af83ae4cbfa9d73467a7067571": {
          "model_module": "@jupyter-widgets/controls",
          "model_name": "HBoxModel",
          "state": {
            "_view_name": "HBoxView",
            "_dom_classes": [],
            "_model_name": "HBoxModel",
            "_view_module": "@jupyter-widgets/controls",
            "_model_module_version": "1.5.0",
            "_view_count": null,
            "_view_module_version": "1.5.0",
            "box_style": "",
            "layout": "IPY_MODEL_f48002df2d244d13ae7826dd86901559",
            "_model_module": "@jupyter-widgets/controls",
            "children": [
              "IPY_MODEL_49fee6ed4b0842408cc42743bb037a6b",
              "IPY_MODEL_1ddece5933d740f29a3a1e3ef899256a"
            ]
          }
        },
        "f48002df2d244d13ae7826dd86901559": {
          "model_module": "@jupyter-widgets/base",
          "model_name": "LayoutModel",
          "state": {
            "_view_name": "LayoutView",
            "grid_template_rows": null,
            "right": null,
            "justify_content": null,
            "_view_module": "@jupyter-widgets/base",
            "overflow": null,
            "_model_module_version": "1.2.0",
            "_view_count": null,
            "flex_flow": null,
            "width": null,
            "min_width": null,
            "border": null,
            "align_items": null,
            "bottom": null,
            "_model_module": "@jupyter-widgets/base",
            "top": null,
            "grid_column": null,
            "overflow_y": null,
            "overflow_x": null,
            "grid_auto_flow": null,
            "grid_area": null,
            "grid_template_columns": null,
            "flex": null,
            "_model_name": "LayoutModel",
            "justify_items": null,
            "grid_row": null,
            "max_height": null,
            "align_content": null,
            "visibility": null,
            "align_self": null,
            "height": null,
            "min_height": null,
            "padding": null,
            "grid_auto_rows": null,
            "grid_gap": null,
            "max_width": null,
            "order": null,
            "_view_module_version": "1.2.0",
            "grid_template_areas": null,
            "object_position": null,
            "object_fit": null,
            "grid_auto_columns": null,
            "margin": null,
            "display": null,
            "left": null
          }
        },
        "49fee6ed4b0842408cc42743bb037a6b": {
          "model_module": "@jupyter-widgets/controls",
          "model_name": "FloatProgressModel",
          "state": {
            "_view_name": "ProgressView",
            "style": "IPY_MODEL_865f516bc77f42489f7fe461217f67d5",
            "_dom_classes": [],
            "description": "Generating splits...: 100%",
            "_model_name": "FloatProgressModel",
            "bar_style": "",
            "max": 1,
            "_view_module": "@jupyter-widgets/controls",
            "_model_module_version": "1.5.0",
            "value": 1,
            "_view_count": null,
            "_view_module_version": "1.5.0",
            "orientation": "horizontal",
            "min": 0,
            "description_tooltip": null,
            "_model_module": "@jupyter-widgets/controls",
            "layout": "IPY_MODEL_785ddbba0ece4e8dbe39da2745e9f370"
          }
        },
        "1ddece5933d740f29a3a1e3ef899256a": {
          "model_module": "@jupyter-widgets/controls",
          "model_name": "HTMLModel",
          "state": {
            "_view_name": "HTMLView",
            "style": "IPY_MODEL_6ce7cc769ae74bf9bd0c4c111bba5b01",
            "_dom_classes": [],
            "description": "",
            "_model_name": "HTMLModel",
            "placeholder": "​",
            "_view_module": "@jupyter-widgets/controls",
            "_model_module_version": "1.5.0",
            "value": " 1/1 [00:00&lt;00:00,  1.04 splits/s]",
            "_view_count": null,
            "_view_module_version": "1.5.0",
            "description_tooltip": null,
            "_model_module": "@jupyter-widgets/controls",
            "layout": "IPY_MODEL_1440fadf89854884b157d13118217b2c"
          }
        },
        "865f516bc77f42489f7fe461217f67d5": {
          "model_module": "@jupyter-widgets/controls",
          "model_name": "ProgressStyleModel",
          "state": {
            "_view_name": "StyleView",
            "_model_name": "ProgressStyleModel",
            "description_width": "initial",
            "_view_module": "@jupyter-widgets/base",
            "_model_module_version": "1.5.0",
            "_view_count": null,
            "_view_module_version": "1.2.0",
            "bar_color": null,
            "_model_module": "@jupyter-widgets/controls"
          }
        },
        "785ddbba0ece4e8dbe39da2745e9f370": {
          "model_module": "@jupyter-widgets/base",
          "model_name": "LayoutModel",
          "state": {
            "_view_name": "LayoutView",
            "grid_template_rows": null,
            "right": null,
            "justify_content": null,
            "_view_module": "@jupyter-widgets/base",
            "overflow": null,
            "_model_module_version": "1.2.0",
            "_view_count": null,
            "flex_flow": null,
            "width": null,
            "min_width": null,
            "border": null,
            "align_items": null,
            "bottom": null,
            "_model_module": "@jupyter-widgets/base",
            "top": null,
            "grid_column": null,
            "overflow_y": null,
            "overflow_x": null,
            "grid_auto_flow": null,
            "grid_area": null,
            "grid_template_columns": null,
            "flex": null,
            "_model_name": "LayoutModel",
            "justify_items": null,
            "grid_row": null,
            "max_height": null,
            "align_content": null,
            "visibility": null,
            "align_self": null,
            "height": null,
            "min_height": null,
            "padding": null,
            "grid_auto_rows": null,
            "grid_gap": null,
            "max_width": null,
            "order": null,
            "_view_module_version": "1.2.0",
            "grid_template_areas": null,
            "object_position": null,
            "object_fit": null,
            "grid_auto_columns": null,
            "margin": null,
            "display": null,
            "left": null
          }
        },
        "6ce7cc769ae74bf9bd0c4c111bba5b01": {
          "model_module": "@jupyter-widgets/controls",
          "model_name": "DescriptionStyleModel",
          "state": {
            "_view_name": "StyleView",
            "_model_name": "DescriptionStyleModel",
            "description_width": "",
            "_view_module": "@jupyter-widgets/base",
            "_model_module_version": "1.5.0",
            "_view_count": null,
            "_view_module_version": "1.2.0",
            "_model_module": "@jupyter-widgets/controls"
          }
        },
        "1440fadf89854884b157d13118217b2c": {
          "model_module": "@jupyter-widgets/base",
          "model_name": "LayoutModel",
          "state": {
            "_view_name": "LayoutView",
            "grid_template_rows": null,
            "right": null,
            "justify_content": null,
            "_view_module": "@jupyter-widgets/base",
            "overflow": null,
            "_model_module_version": "1.2.0",
            "_view_count": null,
            "flex_flow": null,
            "width": null,
            "min_width": null,
            "border": null,
            "align_items": null,
            "bottom": null,
            "_model_module": "@jupyter-widgets/base",
            "top": null,
            "grid_column": null,
            "overflow_y": null,
            "overflow_x": null,
            "grid_auto_flow": null,
            "grid_area": null,
            "grid_template_columns": null,
            "flex": null,
            "_model_name": "LayoutModel",
            "justify_items": null,
            "grid_row": null,
            "max_height": null,
            "align_content": null,
            "visibility": null,
            "align_self": null,
            "height": null,
            "min_height": null,
            "padding": null,
            "grid_auto_rows": null,
            "grid_gap": null,
            "max_width": null,
            "order": null,
            "_view_module_version": "1.2.0",
            "grid_template_areas": null,
            "object_position": null,
            "object_fit": null,
            "grid_auto_columns": null,
            "margin": null,
            "display": null,
            "left": null
          }
        },
        "d048a42b70f34532b9f18951fb189ba6": {
          "model_module": "@jupyter-widgets/controls",
          "model_name": "HBoxModel",
          "state": {
            "_view_name": "HBoxView",
            "_dom_classes": [],
            "_model_name": "HBoxModel",
            "_view_module": "@jupyter-widgets/controls",
            "_model_module_version": "1.5.0",
            "_view_count": null,
            "_view_module_version": "1.5.0",
            "box_style": "",
            "layout": "IPY_MODEL_d835e34131824ad397d144bc27a1591e",
            "_model_module": "@jupyter-widgets/controls",
            "children": [
              "IPY_MODEL_b33a100cf17042059d6339d07310690e",
              "IPY_MODEL_b6f373ae8366402bbd32b97e1fd383ca"
            ]
          }
        },
        "d835e34131824ad397d144bc27a1591e": {
          "model_module": "@jupyter-widgets/base",
          "model_name": "LayoutModel",
          "state": {
            "_view_name": "LayoutView",
            "grid_template_rows": null,
            "right": null,
            "justify_content": null,
            "_view_module": "@jupyter-widgets/base",
            "overflow": null,
            "_model_module_version": "1.2.0",
            "_view_count": null,
            "flex_flow": null,
            "width": null,
            "min_width": null,
            "border": null,
            "align_items": null,
            "bottom": null,
            "_model_module": "@jupyter-widgets/base",
            "top": null,
            "grid_column": null,
            "overflow_y": null,
            "overflow_x": null,
            "grid_auto_flow": null,
            "grid_area": null,
            "grid_template_columns": null,
            "flex": null,
            "_model_name": "LayoutModel",
            "justify_items": null,
            "grid_row": null,
            "max_height": null,
            "align_content": null,
            "visibility": null,
            "align_self": null,
            "height": null,
            "min_height": null,
            "padding": null,
            "grid_auto_rows": null,
            "grid_gap": null,
            "max_width": null,
            "order": null,
            "_view_module_version": "1.2.0",
            "grid_template_areas": null,
            "object_position": null,
            "object_fit": null,
            "grid_auto_columns": null,
            "margin": null,
            "display": null,
            "left": null
          }
        },
        "b33a100cf17042059d6339d07310690e": {
          "model_module": "@jupyter-widgets/controls",
          "model_name": "FloatProgressModel",
          "state": {
            "_view_name": "ProgressView",
            "style": "IPY_MODEL_120109a9c64e49bc8fa2259ac32f26a7",
            "_dom_classes": [],
            "description": "Generating train examples...: 100%",
            "_model_name": "FloatProgressModel",
            "bar_style": "",
            "max": 1682,
            "_view_module": "@jupyter-widgets/controls",
            "_model_module_version": "1.5.0",
            "value": 1682,
            "_view_count": null,
            "_view_module_version": "1.5.0",
            "orientation": "horizontal",
            "min": 0,
            "description_tooltip": null,
            "_model_module": "@jupyter-widgets/controls",
            "layout": "IPY_MODEL_a09a7bc743014745abbf24c9a4ea9844"
          }
        },
        "b6f373ae8366402bbd32b97e1fd383ca": {
          "model_module": "@jupyter-widgets/controls",
          "model_name": "HTMLModel",
          "state": {
            "_view_name": "HTMLView",
            "style": "IPY_MODEL_909417c4d63b4067bcda472cfdf90851",
            "_dom_classes": [],
            "description": "",
            "_model_name": "HTMLModel",
            "placeholder": "​",
            "_view_module": "@jupyter-widgets/controls",
            "_model_module_version": "1.5.0",
            "value": " 1682/1682 [00:00&lt;00:00, 954.89 examples/s]",
            "_view_count": null,
            "_view_module_version": "1.5.0",
            "description_tooltip": null,
            "_model_module": "@jupyter-widgets/controls",
            "layout": "IPY_MODEL_b9c5346531b94eebbaa1af7c22041b43"
          }
        },
        "120109a9c64e49bc8fa2259ac32f26a7": {
          "model_module": "@jupyter-widgets/controls",
          "model_name": "ProgressStyleModel",
          "state": {
            "_view_name": "StyleView",
            "_model_name": "ProgressStyleModel",
            "description_width": "initial",
            "_view_module": "@jupyter-widgets/base",
            "_model_module_version": "1.5.0",
            "_view_count": null,
            "_view_module_version": "1.2.0",
            "bar_color": null,
            "_model_module": "@jupyter-widgets/controls"
          }
        },
        "a09a7bc743014745abbf24c9a4ea9844": {
          "model_module": "@jupyter-widgets/base",
          "model_name": "LayoutModel",
          "state": {
            "_view_name": "LayoutView",
            "grid_template_rows": null,
            "right": null,
            "justify_content": null,
            "_view_module": "@jupyter-widgets/base",
            "overflow": null,
            "_model_module_version": "1.2.0",
            "_view_count": null,
            "flex_flow": null,
            "width": null,
            "min_width": null,
            "border": null,
            "align_items": null,
            "bottom": null,
            "_model_module": "@jupyter-widgets/base",
            "top": null,
            "grid_column": null,
            "overflow_y": null,
            "overflow_x": null,
            "grid_auto_flow": null,
            "grid_area": null,
            "grid_template_columns": null,
            "flex": null,
            "_model_name": "LayoutModel",
            "justify_items": null,
            "grid_row": null,
            "max_height": null,
            "align_content": null,
            "visibility": null,
            "align_self": null,
            "height": null,
            "min_height": null,
            "padding": null,
            "grid_auto_rows": null,
            "grid_gap": null,
            "max_width": null,
            "order": null,
            "_view_module_version": "1.2.0",
            "grid_template_areas": null,
            "object_position": null,
            "object_fit": null,
            "grid_auto_columns": null,
            "margin": null,
            "display": null,
            "left": null
          }
        },
        "909417c4d63b4067bcda472cfdf90851": {
          "model_module": "@jupyter-widgets/controls",
          "model_name": "DescriptionStyleModel",
          "state": {
            "_view_name": "StyleView",
            "_model_name": "DescriptionStyleModel",
            "description_width": "",
            "_view_module": "@jupyter-widgets/base",
            "_model_module_version": "1.5.0",
            "_view_count": null,
            "_view_module_version": "1.2.0",
            "_model_module": "@jupyter-widgets/controls"
          }
        },
        "b9c5346531b94eebbaa1af7c22041b43": {
          "model_module": "@jupyter-widgets/base",
          "model_name": "LayoutModel",
          "state": {
            "_view_name": "LayoutView",
            "grid_template_rows": null,
            "right": null,
            "justify_content": null,
            "_view_module": "@jupyter-widgets/base",
            "overflow": null,
            "_model_module_version": "1.2.0",
            "_view_count": null,
            "flex_flow": null,
            "width": null,
            "min_width": null,
            "border": null,
            "align_items": null,
            "bottom": null,
            "_model_module": "@jupyter-widgets/base",
            "top": null,
            "grid_column": null,
            "overflow_y": null,
            "overflow_x": null,
            "grid_auto_flow": null,
            "grid_area": null,
            "grid_template_columns": null,
            "flex": null,
            "_model_name": "LayoutModel",
            "justify_items": null,
            "grid_row": null,
            "max_height": null,
            "align_content": null,
            "visibility": null,
            "align_self": null,
            "height": null,
            "min_height": null,
            "padding": null,
            "grid_auto_rows": null,
            "grid_gap": null,
            "max_width": null,
            "order": null,
            "_view_module_version": "1.2.0",
            "grid_template_areas": null,
            "object_position": null,
            "object_fit": null,
            "grid_auto_columns": null,
            "margin": null,
            "display": null,
            "left": null
          }
        },
        "42a3b08bf9a3430f93b1aeef60e26b93": {
          "model_module": "@jupyter-widgets/controls",
          "model_name": "HBoxModel",
          "state": {
            "_view_name": "HBoxView",
            "_dom_classes": [],
            "_model_name": "HBoxModel",
            "_view_module": "@jupyter-widgets/controls",
            "_model_module_version": "1.5.0",
            "_view_count": null,
            "_view_module_version": "1.5.0",
            "box_style": "",
            "layout": "IPY_MODEL_1cd88407db19442aae63f21bf34c73d2",
            "_model_module": "@jupyter-widgets/controls",
            "children": [
              "IPY_MODEL_ba19538c9a9c48c39feb27cae578190d",
              "IPY_MODEL_19ef1b292e4a434d9a0332583ae6a080"
            ]
          }
        },
        "1cd88407db19442aae63f21bf34c73d2": {
          "model_module": "@jupyter-widgets/base",
          "model_name": "LayoutModel",
          "state": {
            "_view_name": "LayoutView",
            "grid_template_rows": null,
            "right": null,
            "justify_content": null,
            "_view_module": "@jupyter-widgets/base",
            "overflow": null,
            "_model_module_version": "1.2.0",
            "_view_count": null,
            "flex_flow": null,
            "width": null,
            "min_width": null,
            "border": null,
            "align_items": null,
            "bottom": null,
            "_model_module": "@jupyter-widgets/base",
            "top": null,
            "grid_column": null,
            "overflow_y": null,
            "overflow_x": null,
            "grid_auto_flow": null,
            "grid_area": null,
            "grid_template_columns": null,
            "flex": null,
            "_model_name": "LayoutModel",
            "justify_items": null,
            "grid_row": null,
            "max_height": null,
            "align_content": null,
            "visibility": null,
            "align_self": null,
            "height": null,
            "min_height": null,
            "padding": null,
            "grid_auto_rows": null,
            "grid_gap": null,
            "max_width": null,
            "order": null,
            "_view_module_version": "1.2.0",
            "grid_template_areas": null,
            "object_position": null,
            "object_fit": null,
            "grid_auto_columns": null,
            "margin": null,
            "display": null,
            "left": null
          }
        },
        "ba19538c9a9c48c39feb27cae578190d": {
          "model_module": "@jupyter-widgets/controls",
          "model_name": "FloatProgressModel",
          "state": {
            "_view_name": "ProgressView",
            "style": "IPY_MODEL_9fb48b79e6b34556ba431d767df9d2d1",
            "_dom_classes": [],
            "description": "Shuffling movielens-train.tfrecord...: 100%",
            "_model_name": "FloatProgressModel",
            "bar_style": "",
            "max": 1682,
            "_view_module": "@jupyter-widgets/controls",
            "_model_module_version": "1.5.0",
            "value": 1682,
            "_view_count": null,
            "_view_module_version": "1.5.0",
            "orientation": "horizontal",
            "min": 0,
            "description_tooltip": null,
            "_model_module": "@jupyter-widgets/controls",
            "layout": "IPY_MODEL_d1fea1eb9628439693862fe51601f9c0"
          }
        },
        "19ef1b292e4a434d9a0332583ae6a080": {
          "model_module": "@jupyter-widgets/controls",
          "model_name": "HTMLModel",
          "state": {
            "_view_name": "HTMLView",
            "style": "IPY_MODEL_8f5ef8fe126f4c44a184811a63b01003",
            "_dom_classes": [],
            "description": "",
            "_model_name": "HTMLModel",
            "placeholder": "​",
            "_view_module": "@jupyter-widgets/controls",
            "_model_module_version": "1.5.0",
            "value": " 1682/1682 [00:00&lt;00:00, 33746.24 examples/s]",
            "_view_count": null,
            "_view_module_version": "1.5.0",
            "description_tooltip": null,
            "_model_module": "@jupyter-widgets/controls",
            "layout": "IPY_MODEL_9b5110fb38984f008bda26f2ca95ea0a"
          }
        },
        "9fb48b79e6b34556ba431d767df9d2d1": {
          "model_module": "@jupyter-widgets/controls",
          "model_name": "ProgressStyleModel",
          "state": {
            "_view_name": "StyleView",
            "_model_name": "ProgressStyleModel",
            "description_width": "initial",
            "_view_module": "@jupyter-widgets/base",
            "_model_module_version": "1.5.0",
            "_view_count": null,
            "_view_module_version": "1.2.0",
            "bar_color": null,
            "_model_module": "@jupyter-widgets/controls"
          }
        },
        "d1fea1eb9628439693862fe51601f9c0": {
          "model_module": "@jupyter-widgets/base",
          "model_name": "LayoutModel",
          "state": {
            "_view_name": "LayoutView",
            "grid_template_rows": null,
            "right": null,
            "justify_content": null,
            "_view_module": "@jupyter-widgets/base",
            "overflow": null,
            "_model_module_version": "1.2.0",
            "_view_count": null,
            "flex_flow": null,
            "width": null,
            "min_width": null,
            "border": null,
            "align_items": null,
            "bottom": null,
            "_model_module": "@jupyter-widgets/base",
            "top": null,
            "grid_column": null,
            "overflow_y": null,
            "overflow_x": null,
            "grid_auto_flow": null,
            "grid_area": null,
            "grid_template_columns": null,
            "flex": null,
            "_model_name": "LayoutModel",
            "justify_items": null,
            "grid_row": null,
            "max_height": null,
            "align_content": null,
            "visibility": null,
            "align_self": null,
            "height": null,
            "min_height": null,
            "padding": null,
            "grid_auto_rows": null,
            "grid_gap": null,
            "max_width": null,
            "order": null,
            "_view_module_version": "1.2.0",
            "grid_template_areas": null,
            "object_position": null,
            "object_fit": null,
            "grid_auto_columns": null,
            "margin": null,
            "display": null,
            "left": null
          }
        },
        "8f5ef8fe126f4c44a184811a63b01003": {
          "model_module": "@jupyter-widgets/controls",
          "model_name": "DescriptionStyleModel",
          "state": {
            "_view_name": "StyleView",
            "_model_name": "DescriptionStyleModel",
            "description_width": "",
            "_view_module": "@jupyter-widgets/base",
            "_model_module_version": "1.5.0",
            "_view_count": null,
            "_view_module_version": "1.2.0",
            "_model_module": "@jupyter-widgets/controls"
          }
        },
        "9b5110fb38984f008bda26f2ca95ea0a": {
          "model_module": "@jupyter-widgets/base",
          "model_name": "LayoutModel",
          "state": {
            "_view_name": "LayoutView",
            "grid_template_rows": null,
            "right": null,
            "justify_content": null,
            "_view_module": "@jupyter-widgets/base",
            "overflow": null,
            "_model_module_version": "1.2.0",
            "_view_count": null,
            "flex_flow": null,
            "width": null,
            "min_width": null,
            "border": null,
            "align_items": null,
            "bottom": null,
            "_model_module": "@jupyter-widgets/base",
            "top": null,
            "grid_column": null,
            "overflow_y": null,
            "overflow_x": null,
            "grid_auto_flow": null,
            "grid_area": null,
            "grid_template_columns": null,
            "flex": null,
            "_model_name": "LayoutModel",
            "justify_items": null,
            "grid_row": null,
            "max_height": null,
            "align_content": null,
            "visibility": null,
            "align_self": null,
            "height": null,
            "min_height": null,
            "padding": null,
            "grid_auto_rows": null,
            "grid_gap": null,
            "max_width": null,
            "order": null,
            "_view_module_version": "1.2.0",
            "grid_template_areas": null,
            "object_position": null,
            "object_fit": null,
            "grid_auto_columns": null,
            "margin": null,
            "display": null,
            "left": null
          }
        }
      }
    }
  },
  "cells": [
    {
      "cell_type": "markdown",
      "metadata": {
        "id": "view-in-github",
        "colab_type": "text"
      },
      "source": [
        "<a href=\"https://colab.research.google.com/github/mmaghajani/recommender-with-tf-sample/blob/main/recomm_movielens.ipynb\" target=\"_parent\"><img src=\"https://colab.research.google.com/assets/colab-badge.svg\" alt=\"Open In Colab\"/></a>"
      ]
    },
    {
      "cell_type": "markdown",
      "metadata": {
        "id": "nel0rgwgoh8e"
      },
      "source": [
        "## MovieLens Recommender System"
      ]
    },
    {
      "cell_type": "code",
      "metadata": {
        "colab": {
          "base_uri": "https://localhost:8080/"
        },
        "id": "jG0mCc0NpES_",
        "outputId": "1fafa1ce-9044-4e66-802f-e084e4388194"
      },
      "source": [
        "!pip install -q --upgrade tensorflow-datasets"
      ],
      "execution_count": 1,
      "outputs": [
        {
          "output_type": "stream",
          "text": [
            "\u001b[K     |████████████████████████████████| 3.9MB 4.0MB/s \n",
            "\u001b[?25h"
          ],
          "name": "stdout"
        }
      ]
    },
    {
      "cell_type": "code",
      "metadata": {
        "id": "UEoPcvuBqkMS"
      },
      "source": [
        "import tensorflow_datasets as tfds\n",
        "import tensorflow as tf"
      ],
      "execution_count": 2,
      "outputs": []
    },
    {
      "cell_type": "code",
      "metadata": {
        "colab": {
          "base_uri": "https://localhost:8080/",
          "height": 218,
          "referenced_widgets": [
            "f79b6ef0fcc643bf8fcbf99a19231097",
            "d1e6b535227a4e22b49e0c2a7f4b0f15",
            "7b4f1c3d61794d4eb67bc4a154cf5410",
            "097c83fac12c4c87a2ddc6db73f87f5e",
            "1681930b420645dabfee0a1424e30057",
            "2910bd8a09694c07bf57fafbd392b459",
            "420de026ae094ea98ee8c6eb7cde077d",
            "06da28f4d9de4c7a88be546fd93df6c1",
            "01b9d86a0b574a9295a46637c615056f",
            "9879d7ad7acb43a09920302c72496f28",
            "1d8996dd00254f3c807f4577d36253a9",
            "ac6c649376b6409a92420e39e63b4ee5",
            "f6b1f96d78b14a788eb9689548be5f46",
            "47a50d70d75d4ebebafc577bb85dfe6b",
            "3a3a076e258542ef909f0948693bbc3b",
            "9ab4b2a4f0fa4aea96a80eb52ecb35a8",
            "2754460e50044e579b45ab1c3c109abd",
            "bebe222d8ffa4adeb4cd1bfe71da4e2a",
            "282aff8b9e3d45d894019f24889e0c8d",
            "7758576dcc324484bf49de281080f3ad",
            "b96ff854480049c6b8da10d0e0191a0a",
            "e89e86f10fd243a788ee04d0f3542a4d",
            "79b118b2fdff45bfad29c001a2403b8b",
            "7f581f4d107e4f49a9973a9853610d89",
            "494b0fa519674e169a60fee0fef5f554",
            "0ffcba7aaf764b94a127a11afb47635b",
            "5a6182787d2c4f2191e18108afa7cf9d",
            "b45c2a3a7f9c4d0fb80a656f5fc549d3",
            "3c7190893d1e46119da7599e0fa831cd",
            "9dc6f58e27cb4067972fc3674f4ff290",
            "dca82e081480408c81d1087f8cd00736",
            "adbd3ac032b64953b38cc6c87ad8d90a",
            "a0c73082993b460aa09c2eb8f4576811",
            "8e578a9bb0fc41598be26913b756462f",
            "ec116cd37c804926b90e2b3a82148178",
            "d3fd8c4951f747c98b07b9689eb4f457",
            "cacd2858712342d5baf7d4585de91a74",
            "59869dc867a9474f9e48ad13e0162bdc",
            "3945974367724056a87a551a75522d12",
            "822d5d7a8ebd4a13b196d34bca689571",
            "92c1328942d84f679fb3087b6e232d6f",
            "faab127a47434e6fba34917ec5f9a4bf",
            "ead774a1bc964581a92f7ad34ffc0847",
            "a6518b79cb2448ca9080a10f286698a5",
            "d2bef73ca74144709d6fe59c0277493b",
            "19eec1f763dd4a9d82acf80904629cb4",
            "383da845cdf94df5b369b5c054aed9db",
            "e0f36716a25143c08198c7085d48558c"
          ]
        },
        "id": "jml7zzsuqqfX",
        "outputId": "2fa4b16a-2aff-4366-fc5f-3a01ff35f064"
      },
      "source": [
        "ratings_dataset, ratings_datasets_info = tfds.load(\n",
        "    name='movielens/100k-ratings',\n",
        "    with_info=True,\n",
        "    split='train',\n",
        ")"
      ],
      "execution_count": 3,
      "outputs": [
        {
          "output_type": "stream",
          "text": [
            "\u001b[1mDownloading and preparing dataset 4.70 MiB (download: 4.70 MiB, generated: 32.41 MiB, total: 37.10 MiB) to /root/tensorflow_datasets/movielens/100k-ratings/0.1.0...\u001b[0m\n"
          ],
          "name": "stdout"
        },
        {
          "output_type": "display_data",
          "data": {
            "application/vnd.jupyter.widget-view+json": {
              "model_id": "f79b6ef0fcc643bf8fcbf99a19231097",
              "version_minor": 0,
              "version_major": 2
            },
            "text/plain": [
              "HBox(children=(FloatProgress(value=1.0, bar_style='info', description='Dl Completed...', max=1.0, style=Progre…"
            ]
          },
          "metadata": {
            "tags": []
          }
        },
        {
          "output_type": "display_data",
          "data": {
            "application/vnd.jupyter.widget-view+json": {
              "model_id": "01b9d86a0b574a9295a46637c615056f",
              "version_minor": 0,
              "version_major": 2
            },
            "text/plain": [
              "HBox(children=(FloatProgress(value=1.0, bar_style='info', description='Dl Size...', max=1.0, style=ProgressSty…"
            ]
          },
          "metadata": {
            "tags": []
          }
        },
        {
          "output_type": "display_data",
          "data": {
            "application/vnd.jupyter.widget-view+json": {
              "model_id": "2754460e50044e579b45ab1c3c109abd",
              "version_minor": 0,
              "version_major": 2
            },
            "text/plain": [
              "HBox(children=(FloatProgress(value=1.0, bar_style='info', description='Extraction completed...', max=1.0, styl…"
            ]
          },
          "metadata": {
            "tags": []
          }
        },
        {
          "output_type": "stream",
          "text": [
            "\n",
            "\n",
            "\n"
          ],
          "name": "stdout"
        },
        {
          "output_type": "display_data",
          "data": {
            "application/vnd.jupyter.widget-view+json": {
              "model_id": "494b0fa519674e169a60fee0fef5f554",
              "version_minor": 0,
              "version_major": 2
            },
            "text/plain": [
              "HBox(children=(FloatProgress(value=0.0, description='Generating splits...', max=1.0, style=ProgressStyle(descr…"
            ]
          },
          "metadata": {
            "tags": []
          }
        },
        {
          "output_type": "display_data",
          "data": {
            "application/vnd.jupyter.widget-view+json": {
              "model_id": "a0c73082993b460aa09c2eb8f4576811",
              "version_minor": 0,
              "version_major": 2
            },
            "text/plain": [
              "HBox(children=(FloatProgress(value=0.0, description='Generating train examples...', max=100000.0, style=Progre…"
            ]
          },
          "metadata": {
            "tags": []
          }
        },
        {
          "output_type": "display_data",
          "data": {
            "application/vnd.jupyter.widget-view+json": {
              "model_id": "92c1328942d84f679fb3087b6e232d6f",
              "version_minor": 0,
              "version_major": 2
            },
            "text/plain": [
              "HBox(children=(FloatProgress(value=0.0, description='Shuffling movielens-train.tfrecord...', max=100000.0, sty…"
            ]
          },
          "metadata": {
            "tags": []
          }
        },
        {
          "output_type": "stream",
          "text": [
            "\r\u001b[1mDataset movielens downloaded and prepared to /root/tensorflow_datasets/movielens/100k-ratings/0.1.0. Subsequent calls will reuse this data.\u001b[0m\n"
          ],
          "name": "stdout"
        }
      ]
    },
    {
      "cell_type": "code",
      "metadata": {
        "id": "ilPDf23Vtjex"
      },
      "source": [
        "assert isinstance(ratings_dataset, tf.data.Dataset)"
      ],
      "execution_count": 4,
      "outputs": []
    },
    {
      "cell_type": "code",
      "metadata": {
        "colab": {
          "base_uri": "https://localhost:8080/"
        },
        "id": "jeldFdn4uGiB",
        "outputId": "8106df06-b305-4ebb-90de-4430058db5de"
      },
      "source": [
        "len(ratings_dataset)"
      ],
      "execution_count": 5,
      "outputs": [
        {
          "output_type": "execute_result",
          "data": {
            "text/plain": [
              "100000"
            ]
          },
          "metadata": {
            "tags": []
          },
          "execution_count": 5
        }
      ]
    },
    {
      "cell_type": "code",
      "metadata": {
        "colab": {
          "base_uri": "https://localhost:8080/"
        },
        "id": "tHgDtBqQuWfp",
        "outputId": "fa5bc057-b6da-4b21-bcfb-60db0401e76d"
      },
      "source": [
        "ratings_dataset_head = ratings_dataset.take(5)\n",
        "\n",
        "for rating in ratings_dataset_head.as_numpy_iterator():\n",
        "  print(rating)"
      ],
      "execution_count": 6,
      "outputs": [
        {
          "output_type": "stream",
          "text": [
            "{'bucketized_user_age': 45.0, 'movie_genres': array([7]), 'movie_id': b'357', 'movie_title': b\"One Flew Over the Cuckoo's Nest (1975)\", 'raw_user_age': 46.0, 'timestamp': 879024327, 'user_gender': True, 'user_id': b'138', 'user_occupation_label': 4, 'user_occupation_text': b'doctor', 'user_rating': 4.0, 'user_zip_code': b'53211'}\n",
            "{'bucketized_user_age': 25.0, 'movie_genres': array([ 4, 14]), 'movie_id': b'709', 'movie_title': b'Strictly Ballroom (1992)', 'raw_user_age': 32.0, 'timestamp': 875654590, 'user_gender': True, 'user_id': b'92', 'user_occupation_label': 5, 'user_occupation_text': b'entertainment', 'user_rating': 2.0, 'user_zip_code': b'80525'}\n",
            "{'bucketized_user_age': 18.0, 'movie_genres': array([4]), 'movie_id': b'412', 'movie_title': b'Very Brady Sequel, A (1996)', 'raw_user_age': 24.0, 'timestamp': 882075110, 'user_gender': True, 'user_id': b'301', 'user_occupation_label': 17, 'user_occupation_text': b'student', 'user_rating': 4.0, 'user_zip_code': b'55439'}\n",
            "{'bucketized_user_age': 50.0, 'movie_genres': array([5, 7]), 'movie_id': b'56', 'movie_title': b'Pulp Fiction (1994)', 'raw_user_age': 50.0, 'timestamp': 883326919, 'user_gender': True, 'user_id': b'60', 'user_occupation_label': 4, 'user_occupation_text': b'healthcare', 'user_rating': 4.0, 'user_zip_code': b'06472'}\n",
            "{'bucketized_user_age': 50.0, 'movie_genres': array([10, 16]), 'movie_id': b'895', 'movie_title': b'Scream 2 (1997)', 'raw_user_age': 55.0, 'timestamp': 891409199, 'user_gender': True, 'user_id': b'197', 'user_occupation_label': 18, 'user_occupation_text': b'technician', 'user_rating': 3.0, 'user_zip_code': b'75094'}\n"
          ],
          "name": "stdout"
        }
      ]
    },
    {
      "cell_type": "code",
      "metadata": {
        "colab": {
          "base_uri": "https://localhost:8080/"
        },
        "id": "mU29qJEyvVzD",
        "outputId": "0091cb11-b100-43fa-f714-a91ccdf32059"
      },
      "source": [
        "len(ratings_dataset_head)"
      ],
      "execution_count": 7,
      "outputs": [
        {
          "output_type": "execute_result",
          "data": {
            "text/plain": [
              "5"
            ]
          },
          "metadata": {
            "tags": []
          },
          "execution_count": 7
        }
      ]
    },
    {
      "cell_type": "code",
      "metadata": {
        "colab": {
          "base_uri": "https://localhost:8080/",
          "height": 247
        },
        "id": "bdLuinB_veee",
        "outputId": "aa8c2e78-9a6d-444d-9aed-25276d28a81b"
      },
      "source": [
        "tfds.as_dataframe(ds=ratings_dataset_head, ds_info=ratings_datasets_info)"
      ],
      "execution_count": 8,
      "outputs": [
        {
          "output_type": "execute_result",
          "data": {
            "text/html": [
              "<style  type=\"text/css\" >\n",
              "</style><table id=\"T_82b08b6c_b64f_11eb_b341_0242ac1c0002\" ><thead>    <tr>        <th class=\"blank level0\" ></th>        <th class=\"col_heading level0 col0\" >bucketized_user_age</th>        <th class=\"col_heading level0 col1\" >movie_genres</th>        <th class=\"col_heading level0 col2\" >movie_id</th>        <th class=\"col_heading level0 col3\" >movie_title</th>        <th class=\"col_heading level0 col4\" >raw_user_age</th>        <th class=\"col_heading level0 col5\" >timestamp</th>        <th class=\"col_heading level0 col6\" >user_gender</th>        <th class=\"col_heading level0 col7\" >user_id</th>        <th class=\"col_heading level0 col8\" >user_occupation_label</th>        <th class=\"col_heading level0 col9\" >user_occupation_text</th>        <th class=\"col_heading level0 col10\" >user_rating</th>        <th class=\"col_heading level0 col11\" >user_zip_code</th>    </tr></thead><tbody>\n",
              "                <tr>\n",
              "                        <th id=\"T_82b08b6c_b64f_11eb_b341_0242ac1c0002level0_row0\" class=\"row_heading level0 row0\" >0</th>\n",
              "                        <td id=\"T_82b08b6c_b64f_11eb_b341_0242ac1c0002row0_col0\" class=\"data row0 col0\" >45.0</td>\n",
              "                        <td id=\"T_82b08b6c_b64f_11eb_b341_0242ac1c0002row0_col1\" class=\"data row0 col1\" ><div style=\"overflow-y: scroll; max-height: 300px;\" >7 (Drama)</div></td>\n",
              "                        <td id=\"T_82b08b6c_b64f_11eb_b341_0242ac1c0002row0_col2\" class=\"data row0 col2\" >b&#x27;357&#x27;</td>\n",
              "                        <td id=\"T_82b08b6c_b64f_11eb_b341_0242ac1c0002row0_col3\" class=\"data row0 col3\" >b&quot;One Flew Over the Cuckoo&#x27;s Nest (1975)&quot;</td>\n",
              "                        <td id=\"T_82b08b6c_b64f_11eb_b341_0242ac1c0002row0_col4\" class=\"data row0 col4\" >46.0</td>\n",
              "                        <td id=\"T_82b08b6c_b64f_11eb_b341_0242ac1c0002row0_col5\" class=\"data row0 col5\" >879024327</td>\n",
              "                        <td id=\"T_82b08b6c_b64f_11eb_b341_0242ac1c0002row0_col6\" class=\"data row0 col6\" >True</td>\n",
              "                        <td id=\"T_82b08b6c_b64f_11eb_b341_0242ac1c0002row0_col7\" class=\"data row0 col7\" >b&#x27;138&#x27;</td>\n",
              "                        <td id=\"T_82b08b6c_b64f_11eb_b341_0242ac1c0002row0_col8\" class=\"data row0 col8\" >4 (doctor/health care)</td>\n",
              "                        <td id=\"T_82b08b6c_b64f_11eb_b341_0242ac1c0002row0_col9\" class=\"data row0 col9\" >b&#x27;doctor&#x27;</td>\n",
              "                        <td id=\"T_82b08b6c_b64f_11eb_b341_0242ac1c0002row0_col10\" class=\"data row0 col10\" >4.0</td>\n",
              "                        <td id=\"T_82b08b6c_b64f_11eb_b341_0242ac1c0002row0_col11\" class=\"data row0 col11\" >b&#x27;53211&#x27;</td>\n",
              "            </tr>\n",
              "            <tr>\n",
              "                        <th id=\"T_82b08b6c_b64f_11eb_b341_0242ac1c0002level0_row1\" class=\"row_heading level0 row1\" >1</th>\n",
              "                        <td id=\"T_82b08b6c_b64f_11eb_b341_0242ac1c0002row1_col0\" class=\"data row1 col0\" >25.0</td>\n",
              "                        <td id=\"T_82b08b6c_b64f_11eb_b341_0242ac1c0002row1_col1\" class=\"data row1 col1\" ><div style=\"overflow-y: scroll; max-height: 300px;\" >4 (Comedy)<br/>14 (Romance)</div></td>\n",
              "                        <td id=\"T_82b08b6c_b64f_11eb_b341_0242ac1c0002row1_col2\" class=\"data row1 col2\" >b&#x27;709&#x27;</td>\n",
              "                        <td id=\"T_82b08b6c_b64f_11eb_b341_0242ac1c0002row1_col3\" class=\"data row1 col3\" >b&#x27;Strictly Ballroom (1992)&#x27;</td>\n",
              "                        <td id=\"T_82b08b6c_b64f_11eb_b341_0242ac1c0002row1_col4\" class=\"data row1 col4\" >32.0</td>\n",
              "                        <td id=\"T_82b08b6c_b64f_11eb_b341_0242ac1c0002row1_col5\" class=\"data row1 col5\" >875654590</td>\n",
              "                        <td id=\"T_82b08b6c_b64f_11eb_b341_0242ac1c0002row1_col6\" class=\"data row1 col6\" >True</td>\n",
              "                        <td id=\"T_82b08b6c_b64f_11eb_b341_0242ac1c0002row1_col7\" class=\"data row1 col7\" >b&#x27;92&#x27;</td>\n",
              "                        <td id=\"T_82b08b6c_b64f_11eb_b341_0242ac1c0002row1_col8\" class=\"data row1 col8\" >5 (entertainment)</td>\n",
              "                        <td id=\"T_82b08b6c_b64f_11eb_b341_0242ac1c0002row1_col9\" class=\"data row1 col9\" >b&#x27;entertainment&#x27;</td>\n",
              "                        <td id=\"T_82b08b6c_b64f_11eb_b341_0242ac1c0002row1_col10\" class=\"data row1 col10\" >2.0</td>\n",
              "                        <td id=\"T_82b08b6c_b64f_11eb_b341_0242ac1c0002row1_col11\" class=\"data row1 col11\" >b&#x27;80525&#x27;</td>\n",
              "            </tr>\n",
              "            <tr>\n",
              "                        <th id=\"T_82b08b6c_b64f_11eb_b341_0242ac1c0002level0_row2\" class=\"row_heading level0 row2\" >2</th>\n",
              "                        <td id=\"T_82b08b6c_b64f_11eb_b341_0242ac1c0002row2_col0\" class=\"data row2 col0\" >18.0</td>\n",
              "                        <td id=\"T_82b08b6c_b64f_11eb_b341_0242ac1c0002row2_col1\" class=\"data row2 col1\" ><div style=\"overflow-y: scroll; max-height: 300px;\" >4 (Comedy)</div></td>\n",
              "                        <td id=\"T_82b08b6c_b64f_11eb_b341_0242ac1c0002row2_col2\" class=\"data row2 col2\" >b&#x27;412&#x27;</td>\n",
              "                        <td id=\"T_82b08b6c_b64f_11eb_b341_0242ac1c0002row2_col3\" class=\"data row2 col3\" >b&#x27;Very Brady Sequel, A (1996)&#x27;</td>\n",
              "                        <td id=\"T_82b08b6c_b64f_11eb_b341_0242ac1c0002row2_col4\" class=\"data row2 col4\" >24.0</td>\n",
              "                        <td id=\"T_82b08b6c_b64f_11eb_b341_0242ac1c0002row2_col5\" class=\"data row2 col5\" >882075110</td>\n",
              "                        <td id=\"T_82b08b6c_b64f_11eb_b341_0242ac1c0002row2_col6\" class=\"data row2 col6\" >True</td>\n",
              "                        <td id=\"T_82b08b6c_b64f_11eb_b341_0242ac1c0002row2_col7\" class=\"data row2 col7\" >b&#x27;301&#x27;</td>\n",
              "                        <td id=\"T_82b08b6c_b64f_11eb_b341_0242ac1c0002row2_col8\" class=\"data row2 col8\" >17 (student)</td>\n",
              "                        <td id=\"T_82b08b6c_b64f_11eb_b341_0242ac1c0002row2_col9\" class=\"data row2 col9\" >b&#x27;student&#x27;</td>\n",
              "                        <td id=\"T_82b08b6c_b64f_11eb_b341_0242ac1c0002row2_col10\" class=\"data row2 col10\" >4.0</td>\n",
              "                        <td id=\"T_82b08b6c_b64f_11eb_b341_0242ac1c0002row2_col11\" class=\"data row2 col11\" >b&#x27;55439&#x27;</td>\n",
              "            </tr>\n",
              "            <tr>\n",
              "                        <th id=\"T_82b08b6c_b64f_11eb_b341_0242ac1c0002level0_row3\" class=\"row_heading level0 row3\" >3</th>\n",
              "                        <td id=\"T_82b08b6c_b64f_11eb_b341_0242ac1c0002row3_col0\" class=\"data row3 col0\" >50.0</td>\n",
              "                        <td id=\"T_82b08b6c_b64f_11eb_b341_0242ac1c0002row3_col1\" class=\"data row3 col1\" ><div style=\"overflow-y: scroll; max-height: 300px;\" >5 (Crime)<br/>7 (Drama)</div></td>\n",
              "                        <td id=\"T_82b08b6c_b64f_11eb_b341_0242ac1c0002row3_col2\" class=\"data row3 col2\" >b&#x27;56&#x27;</td>\n",
              "                        <td id=\"T_82b08b6c_b64f_11eb_b341_0242ac1c0002row3_col3\" class=\"data row3 col3\" >b&#x27;Pulp Fiction (1994)&#x27;</td>\n",
              "                        <td id=\"T_82b08b6c_b64f_11eb_b341_0242ac1c0002row3_col4\" class=\"data row3 col4\" >50.0</td>\n",
              "                        <td id=\"T_82b08b6c_b64f_11eb_b341_0242ac1c0002row3_col5\" class=\"data row3 col5\" >883326919</td>\n",
              "                        <td id=\"T_82b08b6c_b64f_11eb_b341_0242ac1c0002row3_col6\" class=\"data row3 col6\" >True</td>\n",
              "                        <td id=\"T_82b08b6c_b64f_11eb_b341_0242ac1c0002row3_col7\" class=\"data row3 col7\" >b&#x27;60&#x27;</td>\n",
              "                        <td id=\"T_82b08b6c_b64f_11eb_b341_0242ac1c0002row3_col8\" class=\"data row3 col8\" >4 (doctor/health care)</td>\n",
              "                        <td id=\"T_82b08b6c_b64f_11eb_b341_0242ac1c0002row3_col9\" class=\"data row3 col9\" >b&#x27;healthcare&#x27;</td>\n",
              "                        <td id=\"T_82b08b6c_b64f_11eb_b341_0242ac1c0002row3_col10\" class=\"data row3 col10\" >4.0</td>\n",
              "                        <td id=\"T_82b08b6c_b64f_11eb_b341_0242ac1c0002row3_col11\" class=\"data row3 col11\" >b&#x27;06472&#x27;</td>\n",
              "            </tr>\n",
              "            <tr>\n",
              "                        <th id=\"T_82b08b6c_b64f_11eb_b341_0242ac1c0002level0_row4\" class=\"row_heading level0 row4\" >4</th>\n",
              "                        <td id=\"T_82b08b6c_b64f_11eb_b341_0242ac1c0002row4_col0\" class=\"data row4 col0\" >50.0</td>\n",
              "                        <td id=\"T_82b08b6c_b64f_11eb_b341_0242ac1c0002row4_col1\" class=\"data row4 col1\" ><div style=\"overflow-y: scroll; max-height: 300px;\" >10 (Horror)<br/>16 (Thriller)</div></td>\n",
              "                        <td id=\"T_82b08b6c_b64f_11eb_b341_0242ac1c0002row4_col2\" class=\"data row4 col2\" >b&#x27;895&#x27;</td>\n",
              "                        <td id=\"T_82b08b6c_b64f_11eb_b341_0242ac1c0002row4_col3\" class=\"data row4 col3\" >b&#x27;Scream 2 (1997)&#x27;</td>\n",
              "                        <td id=\"T_82b08b6c_b64f_11eb_b341_0242ac1c0002row4_col4\" class=\"data row4 col4\" >55.0</td>\n",
              "                        <td id=\"T_82b08b6c_b64f_11eb_b341_0242ac1c0002row4_col5\" class=\"data row4 col5\" >891409199</td>\n",
              "                        <td id=\"T_82b08b6c_b64f_11eb_b341_0242ac1c0002row4_col6\" class=\"data row4 col6\" >True</td>\n",
              "                        <td id=\"T_82b08b6c_b64f_11eb_b341_0242ac1c0002row4_col7\" class=\"data row4 col7\" >b&#x27;197&#x27;</td>\n",
              "                        <td id=\"T_82b08b6c_b64f_11eb_b341_0242ac1c0002row4_col8\" class=\"data row4 col8\" >18 (technician/engineer)</td>\n",
              "                        <td id=\"T_82b08b6c_b64f_11eb_b341_0242ac1c0002row4_col9\" class=\"data row4 col9\" >b&#x27;technician&#x27;</td>\n",
              "                        <td id=\"T_82b08b6c_b64f_11eb_b341_0242ac1c0002row4_col10\" class=\"data row4 col10\" >3.0</td>\n",
              "                        <td id=\"T_82b08b6c_b64f_11eb_b341_0242ac1c0002row4_col11\" class=\"data row4 col11\" >b&#x27;75094&#x27;</td>\n",
              "            </tr>\n",
              "    </tbody></table>"
            ],
            "text/plain": [
              "   bucketized_user_age movie_genres  ... user_rating user_zip_code\n",
              "0                 45.0          [7]  ...         4.0      b'53211'\n",
              "1                 25.0      [4, 14]  ...         2.0      b'80525'\n",
              "2                 18.0          [4]  ...         4.0      b'55439'\n",
              "3                 50.0       [5, 7]  ...         4.0      b'06472'\n",
              "4                 50.0     [10, 16]  ...         3.0      b'75094'\n",
              "\n",
              "[5 rows x 12 columns]"
            ]
          },
          "metadata": {
            "tags": []
          },
          "execution_count": 8
        }
      ]
    },
    {
      "cell_type": "markdown",
      "metadata": {
        "id": "SkYyLiLJ8TCW"
      },
      "source": [
        "### Feature Selection"
      ]
    },
    {
      "cell_type": "code",
      "metadata": {
        "colab": {
          "base_uri": "https://localhost:8080/",
          "height": 145
        },
        "id": "kgvGWKzRxLUC",
        "outputId": "46161141-4ce4-4b61-f017-be0cfc17003b"
      },
      "source": [
        "ratings_dataset = ratings_dataset.map(\n",
        "    lambda rating: {\n",
        "        'user_id': rating['user_id'],\n",
        "        'movie_id': rating['movie_id'],\n",
        "        'movie_title': rating['movie_title'],\n",
        "        'user_rating': rating['user_rating'],\n",
        "        'timestamp': rating['timestamp'],\n",
        "\n",
        "    }\n",
        ")\n",
        "\n",
        "tfds.as_dataframe(ds=ratings_dataset.take(5), ds_info=ratings_datasets_info)"
      ],
      "execution_count": 9,
      "outputs": [
        {
          "output_type": "execute_result",
          "data": {
            "text/html": [
              "<style  type=\"text/css\" >\n",
              "</style><table id=\"T_82c6dc1e_b64f_11eb_b341_0242ac1c0002\" ><thead>    <tr>        <th class=\"blank level0\" ></th>        <th class=\"col_heading level0 col0\" >movie_id</th>        <th class=\"col_heading level0 col1\" >movie_title</th>        <th class=\"col_heading level0 col2\" >timestamp</th>        <th class=\"col_heading level0 col3\" >user_id</th>        <th class=\"col_heading level0 col4\" >user_rating</th>    </tr></thead><tbody>\n",
              "                <tr>\n",
              "                        <th id=\"T_82c6dc1e_b64f_11eb_b341_0242ac1c0002level0_row0\" class=\"row_heading level0 row0\" >0</th>\n",
              "                        <td id=\"T_82c6dc1e_b64f_11eb_b341_0242ac1c0002row0_col0\" class=\"data row0 col0\" >b&#x27;357&#x27;</td>\n",
              "                        <td id=\"T_82c6dc1e_b64f_11eb_b341_0242ac1c0002row0_col1\" class=\"data row0 col1\" >b&quot;One Flew Over the Cuckoo&#x27;s Nest (1975)&quot;</td>\n",
              "                        <td id=\"T_82c6dc1e_b64f_11eb_b341_0242ac1c0002row0_col2\" class=\"data row0 col2\" >879024327</td>\n",
              "                        <td id=\"T_82c6dc1e_b64f_11eb_b341_0242ac1c0002row0_col3\" class=\"data row0 col3\" >b&#x27;138&#x27;</td>\n",
              "                        <td id=\"T_82c6dc1e_b64f_11eb_b341_0242ac1c0002row0_col4\" class=\"data row0 col4\" >4.0</td>\n",
              "            </tr>\n",
              "            <tr>\n",
              "                        <th id=\"T_82c6dc1e_b64f_11eb_b341_0242ac1c0002level0_row1\" class=\"row_heading level0 row1\" >1</th>\n",
              "                        <td id=\"T_82c6dc1e_b64f_11eb_b341_0242ac1c0002row1_col0\" class=\"data row1 col0\" >b&#x27;709&#x27;</td>\n",
              "                        <td id=\"T_82c6dc1e_b64f_11eb_b341_0242ac1c0002row1_col1\" class=\"data row1 col1\" >b&#x27;Strictly Ballroom (1992)&#x27;</td>\n",
              "                        <td id=\"T_82c6dc1e_b64f_11eb_b341_0242ac1c0002row1_col2\" class=\"data row1 col2\" >875654590</td>\n",
              "                        <td id=\"T_82c6dc1e_b64f_11eb_b341_0242ac1c0002row1_col3\" class=\"data row1 col3\" >b&#x27;92&#x27;</td>\n",
              "                        <td id=\"T_82c6dc1e_b64f_11eb_b341_0242ac1c0002row1_col4\" class=\"data row1 col4\" >2.0</td>\n",
              "            </tr>\n",
              "            <tr>\n",
              "                        <th id=\"T_82c6dc1e_b64f_11eb_b341_0242ac1c0002level0_row2\" class=\"row_heading level0 row2\" >2</th>\n",
              "                        <td id=\"T_82c6dc1e_b64f_11eb_b341_0242ac1c0002row2_col0\" class=\"data row2 col0\" >b&#x27;412&#x27;</td>\n",
              "                        <td id=\"T_82c6dc1e_b64f_11eb_b341_0242ac1c0002row2_col1\" class=\"data row2 col1\" >b&#x27;Very Brady Sequel, A (1996)&#x27;</td>\n",
              "                        <td id=\"T_82c6dc1e_b64f_11eb_b341_0242ac1c0002row2_col2\" class=\"data row2 col2\" >882075110</td>\n",
              "                        <td id=\"T_82c6dc1e_b64f_11eb_b341_0242ac1c0002row2_col3\" class=\"data row2 col3\" >b&#x27;301&#x27;</td>\n",
              "                        <td id=\"T_82c6dc1e_b64f_11eb_b341_0242ac1c0002row2_col4\" class=\"data row2 col4\" >4.0</td>\n",
              "            </tr>\n",
              "            <tr>\n",
              "                        <th id=\"T_82c6dc1e_b64f_11eb_b341_0242ac1c0002level0_row3\" class=\"row_heading level0 row3\" >3</th>\n",
              "                        <td id=\"T_82c6dc1e_b64f_11eb_b341_0242ac1c0002row3_col0\" class=\"data row3 col0\" >b&#x27;56&#x27;</td>\n",
              "                        <td id=\"T_82c6dc1e_b64f_11eb_b341_0242ac1c0002row3_col1\" class=\"data row3 col1\" >b&#x27;Pulp Fiction (1994)&#x27;</td>\n",
              "                        <td id=\"T_82c6dc1e_b64f_11eb_b341_0242ac1c0002row3_col2\" class=\"data row3 col2\" >883326919</td>\n",
              "                        <td id=\"T_82c6dc1e_b64f_11eb_b341_0242ac1c0002row3_col3\" class=\"data row3 col3\" >b&#x27;60&#x27;</td>\n",
              "                        <td id=\"T_82c6dc1e_b64f_11eb_b341_0242ac1c0002row3_col4\" class=\"data row3 col4\" >4.0</td>\n",
              "            </tr>\n",
              "            <tr>\n",
              "                        <th id=\"T_82c6dc1e_b64f_11eb_b341_0242ac1c0002level0_row4\" class=\"row_heading level0 row4\" >4</th>\n",
              "                        <td id=\"T_82c6dc1e_b64f_11eb_b341_0242ac1c0002row4_col0\" class=\"data row4 col0\" >b&#x27;895&#x27;</td>\n",
              "                        <td id=\"T_82c6dc1e_b64f_11eb_b341_0242ac1c0002row4_col1\" class=\"data row4 col1\" >b&#x27;Scream 2 (1997)&#x27;</td>\n",
              "                        <td id=\"T_82c6dc1e_b64f_11eb_b341_0242ac1c0002row4_col2\" class=\"data row4 col2\" >891409199</td>\n",
              "                        <td id=\"T_82c6dc1e_b64f_11eb_b341_0242ac1c0002row4_col3\" class=\"data row4 col3\" >b&#x27;197&#x27;</td>\n",
              "                        <td id=\"T_82c6dc1e_b64f_11eb_b341_0242ac1c0002row4_col4\" class=\"data row4 col4\" >3.0</td>\n",
              "            </tr>\n",
              "    </tbody></table>"
            ],
            "text/plain": [
              "  movie_id                                movie_title  ...  user_id user_rating\n",
              "0   b'357'  b\"One Flew Over the Cuckoo's Nest (1975)\"  ...   b'138'         4.0\n",
              "1   b'709'                b'Strictly Ballroom (1992)'  ...    b'92'         2.0\n",
              "2   b'412'             b'Very Brady Sequel, A (1996)'  ...   b'301'         4.0\n",
              "3    b'56'                     b'Pulp Fiction (1994)'  ...    b'60'         4.0\n",
              "4   b'895'                         b'Scream 2 (1997)'  ...   b'197'         3.0\n",
              "\n",
              "[5 rows x 5 columns]"
            ]
          },
          "metadata": {
            "tags": []
          },
          "execution_count": 9
        }
      ]
    },
    {
      "cell_type": "code",
      "metadata": {
        "id": "zwXkyv3_9KVj"
      },
      "source": [
        ""
      ],
      "execution_count": 9,
      "outputs": []
    },
    {
      "cell_type": "markdown",
      "metadata": {
        "id": "A2KaPYp-9VYH"
      },
      "source": [
        "### What is Dataset Metadata?"
      ]
    },
    {
      "cell_type": "code",
      "metadata": {
        "colab": {
          "base_uri": "https://localhost:8080/"
        },
        "id": "vaT78lYm9YxK",
        "outputId": "3427c49f-7349-46d7-f32d-965f13d189c2"
      },
      "source": [
        "ratings_datasets_info"
      ],
      "execution_count": 10,
      "outputs": [
        {
          "output_type": "execute_result",
          "data": {
            "text/plain": [
              "tfds.core.DatasetInfo(\n",
              "    name='movielens',\n",
              "    full_name='movielens/100k-ratings/0.1.0',\n",
              "    description=\"\"\"\n",
              "    This dataset contains a set of movie ratings from the MovieLens website, a movie\n",
              "    recommendation service. This dataset was collected and maintained by [GroupLens]\n",
              "    (https://grouplens.org/), a research group at the University of Minnesota. There\n",
              "    are 5 versions included: \"25m\", \"latest-small\", \"100k\", \"1m\", \"20m\". In all\n",
              "    datasets, the movies data and ratings data are joined on \"movieId\". The 25m\n",
              "    dataset, latest-small dataset, and 20m dataset contain only movie data and\n",
              "    rating data. The 1m dataset and 100k dataset contain demographic data in\n",
              "    addition to movie and rating data.\n",
              "    \n",
              "    - \"25m\": This is the latest stable version of the MovieLens dataset. It is\n",
              "    recommended for research purposes.\n",
              "    - \"latest-small\": This is a small subset of the latest version of the MovieLens\n",
              "    dataset. It is changed and updated over time by GroupLens.\n",
              "    - \"100k\": This is the oldest version of the MovieLens datasets. It is a small\n",
              "    dataset with demographic data.\n",
              "    - \"1m\": This is the largest MovieLens dataset that contains demographic data.\n",
              "    - \"20m\": This is one of the most used MovieLens datasets in academic papers\n",
              "    along with the 1m dataset.\n",
              "    \n",
              "    For each version, users can view either only the movies data by adding the\n",
              "    \"-movies\" suffix (e.g. \"25m-movies\") or the ratings data joined with the movies\n",
              "    data (and users data in the 1m and 100k datasets) by adding the \"-ratings\"\n",
              "    suffix (e.g. \"25m-ratings\").\n",
              "    \n",
              "    The features below are included in all versions with the \"-ratings\" suffix.\n",
              "    \n",
              "    - \"movie_id\": a unique identifier of the rated movie\n",
              "    - \"movie_title\": the title of the rated movie with the release year in\n",
              "    parentheses\n",
              "    - \"movie_genres\": a sequence of genres to which the rated movie belongs\n",
              "    - \"user_id\": a unique identifier of the user who made the rating\n",
              "    - \"user_rating\": the score of the rating on a five-star scale\n",
              "    - \"timestamp\": the timestamp of the ratings, represented in seconds since\n",
              "    midnight Coordinated Universal Time (UTC) of January 1, 1970\n",
              "    \n",
              "    The \"100k-ratings\" and \"1m-ratings\" versions in addition include the following\n",
              "    demographic features.\n",
              "    \n",
              "    - \"user_gender\": gender of the user who made the rating; a true value\n",
              "    corresponds to male\n",
              "    - \"bucketized_user_age\": bucketized age values of the user who made the rating,\n",
              "    the values and the corresponding ranges are:\n",
              "      - 1: \"Under 18\"\n",
              "      - 18: \"18-24\"\n",
              "      - 25: \"25-34\"\n",
              "      - 35: \"35-44\"\n",
              "      - 45: \"45-49\"\n",
              "      - 50: \"50-55\"\n",
              "      - 56: \"56+\"\n",
              "    - \"user_occupation_label\": the occupation of the user who made the rating\n",
              "    represented by an integer-encoded label; labels are preprocessed to be\n",
              "    consistent across different versions\n",
              "    - \"user_occupation_text\": the occupation of the user who made the rating in\n",
              "    the original string; different versions can have different set of raw text\n",
              "    labels\n",
              "    - \"user_zip_code\": the zip code of the user who made the rating\n",
              "    \n",
              "    In addition, the \"100k-ratings\" dataset would also have a feature \"raw_user_age\"\n",
              "    which is the exact ages of the users who made the rating\n",
              "    \n",
              "    Datasets with the \"-movies\" suffix contain only \"movie_id\", \"movie_title\", and\n",
              "    \"movie_genres\" features.\n",
              "    \"\"\",\n",
              "    config_description=\"\"\"\n",
              "    This dataset contains 100,000 ratings from 943 users on 1,682\n",
              "    movies. This dataset is the oldest version of the MovieLens\n",
              "    dataset.\n",
              "    \n",
              "    Each user has rated at least 20 movies. Ratings are in whole-star\n",
              "    increments. This dataset contains demographic data of users in\n",
              "    addition to data on movies and ratings.\n",
              "    \"\"\",\n",
              "    homepage='https://grouplens.org/datasets/movielens/',\n",
              "    data_path='/root/tensorflow_datasets/movielens/100k-ratings/0.1.0',\n",
              "    download_size=4.70 MiB,\n",
              "    dataset_size=32.41 MiB,\n",
              "    features=FeaturesDict({\n",
              "        'bucketized_user_age': tf.float32,\n",
              "        'movie_genres': Sequence(ClassLabel(shape=(), dtype=tf.int64, num_classes=21)),\n",
              "        'movie_id': tf.string,\n",
              "        'movie_title': tf.string,\n",
              "        'raw_user_age': tf.float32,\n",
              "        'timestamp': tf.int64,\n",
              "        'user_gender': tf.bool,\n",
              "        'user_id': tf.string,\n",
              "        'user_occupation_label': ClassLabel(shape=(), dtype=tf.int64, num_classes=22),\n",
              "        'user_occupation_text': tf.string,\n",
              "        'user_rating': tf.float32,\n",
              "        'user_zip_code': tf.string,\n",
              "    }),\n",
              "    supervised_keys=None,\n",
              "    disable_shuffling=False,\n",
              "    splits={\n",
              "        'train': <SplitInfo num_examples=100000, num_shards=1>,\n",
              "    },\n",
              "    citation=\"\"\"@article{10.1145/2827872,\n",
              "    author = {Harper, F. Maxwell and Konstan, Joseph A.},\n",
              "    title = {The MovieLens Datasets: History and Context},\n",
              "    year = {2015},\n",
              "    issue_date = {January 2016},\n",
              "    publisher = {Association for Computing Machinery},\n",
              "    address = {New York, NY, USA},\n",
              "    volume = {5},\n",
              "    number = {4},\n",
              "    issn = {2160-6455},\n",
              "    url = {https://doi.org/10.1145/2827872},\n",
              "    doi = {10.1145/2827872},\n",
              "    journal = {ACM Trans. Interact. Intell. Syst.},\n",
              "    month = dec,\n",
              "    articleno = {19},\n",
              "    numpages = {19},\n",
              "    keywords = {Datasets, recommendations, ratings, MovieLens}\n",
              "    }\"\"\",\n",
              ")"
            ]
          },
          "metadata": {
            "tags": []
          },
          "execution_count": 10
        }
      ]
    },
    {
      "cell_type": "code",
      "metadata": {
        "colab": {
          "base_uri": "https://localhost:8080/"
        },
        "id": "cu6PkG6a9aC6",
        "outputId": "4f4171b4-21e1-43b6-858d-8bc865a9904d"
      },
      "source": [
        "ratings_datasets_info.splits['train'].num_examples"
      ],
      "execution_count": 11,
      "outputs": [
        {
          "output_type": "execute_result",
          "data": {
            "text/plain": [
              "100000"
            ]
          },
          "metadata": {
            "tags": []
          },
          "execution_count": 11
        }
      ]
    },
    {
      "cell_type": "markdown",
      "metadata": {
        "id": "t51Z2t4Z-Irz"
      },
      "source": [
        "### Train/Test split"
      ]
    },
    {
      "cell_type": "code",
      "metadata": {
        "id": "U1txAvak9ufc"
      },
      "source": [
        "tf.random.set_seed(42)\n",
        "ratings_dataset_shuffled = ratings_dataset.shuffle(\n",
        "    buffer_size=100_000,\n",
        "    seed=42,\n",
        "    reshuffle_each_iteration=False,\n",
        ")"
      ],
      "execution_count": 12,
      "outputs": []
    },
    {
      "cell_type": "code",
      "metadata": {
        "id": "ZlNhcGEeA__N"
      },
      "source": [
        "ratings_trainset = ratings_dataset_shuffled.take(80_000)\n",
        "ratings_testset = ratings_dataset_shuffled.skip(80_000)"
      ],
      "execution_count": 13,
      "outputs": []
    },
    {
      "cell_type": "code",
      "metadata": {
        "colab": {
          "base_uri": "https://localhost:8080/"
        },
        "id": "9Ph24J7-CxFy",
        "outputId": "d56f6c8d-6ede-47a7-93ea-de720f39e920"
      },
      "source": [
        "len(ratings_trainset), len(ratings_testset)"
      ],
      "execution_count": 14,
      "outputs": [
        {
          "output_type": "execute_result",
          "data": {
            "text/plain": [
              "(80000, 20000)"
            ]
          },
          "metadata": {
            "tags": []
          },
          "execution_count": 14
        }
      ]
    },
    {
      "cell_type": "markdown",
      "metadata": {
        "id": "xioCN5dERlZf"
      },
      "source": [
        "### End-to-End Preprocessing"
      ]
    },
    {
      "cell_type": "code",
      "metadata": {
        "id": "LdznoLJmCz4b"
      },
      "source": [
        "timestamp_normalization_layer = tf.keras.layers.experimental.preprocessing.Normalization(axis=None)\n",
        "timestamp_normalization_layer.adapt(\n",
        "    ratings_trainset.map(\n",
        "        lambda rating: rating['timestamp']\n",
        "    )\n",
        ")"
      ],
      "execution_count": 15,
      "outputs": []
    },
    {
      "cell_type": "code",
      "metadata": {
        "colab": {
          "base_uri": "https://localhost:8080/"
        },
        "id": "wbeuDyMqZITN",
        "outputId": "e00111e1-d37c-4485-a210-8646cb374534"
      },
      "source": [
        "for rating in ratings_trainset.take(3).as_numpy_iterator():\n",
        "  print(rating['timestamp'])\n",
        "  print(timestamp_normalization_layer(rating['timestamp']))"
      ],
      "execution_count": 16,
      "outputs": [
        {
          "output_type": "stream",
          "text": [
            "885409515\n",
            "tf.Tensor(0.3526018, shape=(), dtype=float32)\n",
            "883388887\n",
            "tf.Tensor(-0.026022714, shape=(), dtype=float32)\n",
            "891249586\n",
            "tf.Tensor(1.4468869, shape=(), dtype=float32)\n"
          ],
          "name": "stdout"
        }
      ]
    },
    {
      "cell_type": "code",
      "metadata": {
        "id": "gGamLQHsl5F_"
      },
      "source": [
        "user_id_lookup_layer = tf.keras.layers.experimental.preprocessing.StringLookup(mask_token=None)\n",
        "user_id_lookup_layer.adapt(\n",
        "    ratings_trainset.map(\n",
        "        lambda rating: rating['user_id']\n",
        "    )\n",
        ")"
      ],
      "execution_count": 17,
      "outputs": []
    },
    {
      "cell_type": "code",
      "metadata": {
        "colab": {
          "base_uri": "https://localhost:8080/"
        },
        "id": "7mzVO6FUm8gN",
        "outputId": "54e28466-ff52-4bf3-af6c-354e3bc356ef"
      },
      "source": [
        "print(\n",
        "    user_id_lookup_layer.get_vocabulary(),\n",
        ")"
      ],
      "execution_count": 18,
      "outputs": [
        {
          "output_type": "stream",
          "text": [
            "['[UNK]', '405', '655', '13', '450', '276', '303', '416', '537', '234', '393', '181', '429', '279', '682', '846', '308', '378', '293', '94', '92', '7', '222', '435', '417', '201', '880', '561', '592', '796', '59', '896', '406', '758', '334', '551', '474', '130', '889', '804', '642', '268', '727', '363', '650', '194', '269', '151', '916', '387', '648', '399', '145', '749', '524', '291', '90', '864', '311', '747', '457', '299', '85', '385', '286', '374', '497', '805', '716', '327', '271', '653', '301', '883', '833', '18', '95', '389', '328', '532', '178', '506', '894', '437', '184', '881', '870', '533', '280', '339', '314', '1', '666', '472', '788', '707', '504', '798', '313', '886', '244', '62', '606', '500', '373', '343', '454', '345', '932', '782', '109', '892', '711', '588', '354', '487', '207', '774', '790', '660', '43', '622', '618', '407', '6', '87', '868', '535', '305', '425', '495', '456', '144', '102', '919', '843', '643', '49', '854', '409', '312', '851', '807', '346', '256', '200', '514', '479', '64', '379', '60', '246', '347', '295', '452', '897', '823', '297', '344', '577', '342', '267', '840', '332', '543', '198', '659', '458', '318', '56', '128', '455', '326', '766', '5', '158', '933', '943', '627', '11', '10', '82', '751', '721', '815', '174', '757', '486', '21', '887', '398', '934', '862', '693', '42', '189', '795', '536', '125', '119', '712', '715', '621', '503', '694', '401', '320', '254', '249', '848', '548', '488', '44', '663', '593', '58', '380', '608', '601', '586', '453', '83', '545', '262', '664', '521', '221', '773', '566', '290', '224', '847', '294', '699', '738', '567', '442', '239', '825', '394', '296', '23', '907', '498', '654', '447', '903', '634', '936', '445', '330', '116', '527', '336', '214', '436', '698', '468', '325', '99', '639', '624', '110', '806', '927', '72', '671', '665', '270', '22', '16', '541', '484', '321', '236', '230', '882', '878', '391', '899', '381', '70', '542', '709', '645', '493', '210', '922', '496', '463', '193', '913', '264', '263', '250', '216', '197', '763', '632', '901', '786', '661', '361', '307', '921', '705', '188', '160', '890', '292', '213', '871', '826', '177', '629', '478', '392', '38', '57', '554', '505', '298', '748', '690', '233', '764', '630', '459', '940', '938', '756', '640', '620', '885', '104', '828', '560', '499', '741', '733', '697', '141', '91', '617', '159', '863', '830', '669', '637', '615', '595', '26', '152', '625', '466', '223', '15', '867', '776', '708', '587', '553', '523', '489', '451', '397', '275', '14', '835', '360', '704', '426', '911', '600', '323', '552', '422', '253', '186', '918', '717', '605', '838', '63', '115', '195', '924', '232', '215', '942', '235', '875', '684', '315', '76', '731', '724', '538', '508', '476', '75', '316', '251', '255', '25', '619', '591', '585', '117', '844', '77', '579', '28', '243', '568', '465', '383', '357', '217', '710', '683', '167', '89', '802', '771', '562', '534', '449', '121', '923', '908', '831', '752', '518', '501', '338', '324', '288', '872', '118', '860', '686', '65', '48', '331', '180', '176', '877', '719', '676', '658', '569', '148', '865', '778', '54', '526', '460', '402', '372', '24', '910', '84', '73', '638', '540', '423', '421', '370', '206', '168', '101', '893', '679', '610', '274', '106', '930', '829', '770', '734', '432', '821', '69', '546', '329', '122', '746', '647', '582', '507', '470', '348', '161', '81', '768', '761', '745', '287', '283', '164', '97', '8', '633', '559', '480', '430', '365', '793', '539', '52', '395', '388', '96', '787', '557', '492', '440', '396', '37', '367', '272', '248', '237', '123', '100', '912', '780', '573', '428', '411', '257', '227', '187', '183', '852', '79', '525', '483', '464', '412', '3', '259', '2', '135', '839', '753', '555', '490', '45', '277', '190', '12', '931', '850', '834', '528', '371', '322', '284', '138', '902', '590', '519', '481', '382', '939', '929', '735', '677', '580', '574', '494', '41', '403', '226', '792', '668', '667', '530', '350', '218', '154', '114', '113', '112', '900', '837', '589', '126', '904', '869', '861', '836', '722', '603', '529', '424', '349', '340', '204', '196', '185', '162', '157', '884', '794', '781', '641', '623', '556', '413', '199', '179', '906', '853', '714', '644', '599', '434', '404', '20', '935', '74', '703', '670', '517', '467', '352', '32', '30', '891', '784', '777', '692', '674', '616', '611', '597', '550', '433', '358', '175', '173', '169', '937', '859', '760', '718', '695', '66', '646', '515', '469', '446', '368', '351', '31', '203', '137', '917', '905', '737', '635', '576', '565', '477', '473', '208', '925', '817', '779', '772', '767', '730', '680', '68', '675', '614', '607', '522', '448', '427', '420', '337', '265', '192', '149', '874', '814', '759', '755', '739', '689', '509', '502', '491', '150', '108', '841', '789', '754', '71', '564', '471', '40', '390', '29', '142', '129', '80', '728', '702', '701', '696', '673', '462', '439', '376', '136', '928', '879', '803', '769', '744', '743', '713', '544', '438', '285', '211', '182', '915', '845', '842', '783', '750', '691', '678', '67', '531', '510', '410', '306', '304', '281', '229', '165', '146', '800', '797', '775', '628', '581', '578', '575', '563', '53', '414', '362', '261', '133', '120', '898', '819', '726', '720', '609', '598', '444', '419', '377', '356', '35', '289', '219', '191', '17', '156', '131', '111', '909', '856', '827', '822', '813', '810', '742', '672', '657', '626', '613', '612', '602', '549', '547', '511', '485', '47', '408', '366', '359', '353', '33', '260', '240', '225', '209', '132', '124', '98', '914', '849', '832', '816', '725', '706', '681', '570', '513', '415', '375', '333', '317', '247', '172', '139', '134', '920', '876', '86', '801', '799', '785', '662', '604', '583', '50', '482', '46', '443', '369', '355', '319', '282', '258', '238', '220', '212', '202', '103', '9', '888', '88', '866', '858', '818', '811', '791', '688', '656', '636', '594', '558', '51', '4', '39', '335', '302', '27', '266', '241', '205', '171', '155', '153', '105', '855', '820', '808', '78', '765', '732', '687', '652', '649', '512', '441', '418', '384', '36', '245', '19', '941', '93', '809', '736', '729', '700', '651', '631', '61', '584', '516', '431', '400', '341', '300', '278', '273', '252', '242', '166', '147', '143', '127', '107', '895', '857', '824', '812', '723', '571', '55', '475', '34', '309', '926', '873', '740', '572', '520', '461', '310', '231', '163', '140', '762', '596', '386', '228', '170', '685', '364']\n"
          ],
          "name": "stdout"
        }
      ]
    },
    {
      "cell_type": "code",
      "metadata": {
        "colab": {
          "base_uri": "https://localhost:8080/"
        },
        "id": "ljSj_e84nH-y",
        "outputId": "a7b3937a-a1b4-4e0b-b356-693a899be688"
      },
      "source": [
        "print(\n",
        "    user_id_lookup_layer(\n",
        "        ['-2', '13', '655']\n",
        "    )\n",
        ")"
      ],
      "execution_count": 19,
      "outputs": [
        {
          "output_type": "stream",
          "text": [
            "tf.Tensor([0 3 2], shape=(3,), dtype=int64)\n"
          ],
          "name": "stdout"
        }
      ]
    },
    {
      "cell_type": "code",
      "metadata": {
        "id": "ufizy9lbn8pM"
      },
      "source": [
        "user_id_embedding_dim = 32\n",
        "user_id_embedding_layer = tf.keras.layers.Embedding(\n",
        "    input_dim=user_id_lookup_layer.vocab_size(),\n",
        "    output_dim=user_id_embedding_dim,\n",
        ")\n",
        "user_id_model = tf.keras.Sequential([\n",
        "    user_id_lookup_layer,\n",
        "    user_id_embedding_layer,                                      \n",
        "])"
      ],
      "execution_count": 20,
      "outputs": []
    },
    {
      "cell_type": "code",
      "metadata": {
        "colab": {
          "base_uri": "https://localhost:8080/"
        },
        "id": "X62wauX_p2Kd",
        "outputId": "c95fe487-3e88-4120-a418-8bcbd88754bb"
      },
      "source": [
        "user_id_model(['-2', '13'])"
      ],
      "execution_count": 21,
      "outputs": [
        {
          "output_type": "stream",
          "text": [
            "WARNING:tensorflow:Layers in a Sequential model should only have a single input tensor, but we receive a <class 'list'> input: ['-2', '13']\n",
            "Consider rewriting this model with the Functional API.\n"
          ],
          "name": "stdout"
        },
        {
          "output_type": "stream",
          "text": [
            "WARNING:tensorflow:Layers in a Sequential model should only have a single input tensor, but we receive a <class 'list'> input: ['-2', '13']\n",
            "Consider rewriting this model with the Functional API.\n"
          ],
          "name": "stderr"
        },
        {
          "output_type": "execute_result",
          "data": {
            "text/plain": [
              "<tf.Tensor: shape=(2, 32), dtype=float32, numpy=\n",
              "array([[ 0.01645621, -0.00589932, -0.01471175, -0.00355174, -0.04663396,\n",
              "         0.01846724,  0.02401174,  0.03724445, -0.02736737, -0.02768031,\n",
              "        -0.01896119,  0.02223358, -0.03668128,  0.00480639,  0.00746088,\n",
              "         0.03996835, -0.04905364,  0.00212307,  0.01345445, -0.03006717,\n",
              "         0.02294225,  0.00458346, -0.03924345,  0.01767061,  0.01602763,\n",
              "        -0.01630496,  0.01014177, -0.02893742,  0.03527372, -0.00593783,\n",
              "         0.04485276, -0.02624741],\n",
              "       [ 0.04355587, -0.04048269, -0.04138212,  0.01247839, -0.01294935,\n",
              "         0.00139042,  0.01233207,  0.03024682, -0.03334862, -0.02790955,\n",
              "         0.01242272, -0.04128085,  0.04214266,  0.04348017,  0.01045523,\n",
              "        -0.00205957, -0.03556986, -0.01739997,  0.04255753,  0.02757342,\n",
              "         0.0136765 ,  0.01282351, -0.01459817, -0.00855327, -0.03894869,\n",
              "        -0.0358853 , -0.03112409,  0.01894793,  0.02213276, -0.02511839,\n",
              "         0.00912381, -0.00024097]], dtype=float32)>"
            ]
          },
          "metadata": {
            "tags": []
          },
          "execution_count": 21
        }
      ]
    },
    {
      "cell_type": "code",
      "metadata": {
        "id": "NhfoXIr5qEAo"
      },
      "source": [
        "movie_id_lookup_layer = tf.keras.layers.experimental.preprocessing.StringLookup(mask_token=None)\n",
        "movie_id_lookup_layer.adapt(\n",
        "    ratings_trainset.map(\n",
        "        lambda rating: rating['movie_id']\n",
        "    )\n",
        ")"
      ],
      "execution_count": 22,
      "outputs": []
    },
    {
      "cell_type": "code",
      "metadata": {
        "colab": {
          "base_uri": "https://localhost:8080/"
        },
        "id": "gFaKwFu8q6uX",
        "outputId": "7ad2636a-a169-4d80-9bb0-cf1ff302687c"
      },
      "source": [
        "print(\n",
        "    movie_id_lookup_layer.get_vocabulary(),\n",
        ")"
      ],
      "execution_count": 23,
      "outputs": [
        {
          "output_type": "stream",
          "text": [
            "['[UNK]', '50', '181', '100', '286', '288', '258', '294', '1', '174', '300', '121', '127', '7', '98', '56', '172', '117', '237', '222', '313', '204', '405', '210', '173', '168', '748', '151', '79', '257', '69', '195', '302', '423', '269', '118', '9', '276', '15', '22', '328', '202', '96', '64', '318', '234', '216', '176', '275', '183', '25', '111', '89', '28', '191', '12', '357', '82', '135', '238', '196', '742', '97', '268', '289', '186', '153', '125', '70', '132', '323', '11', '185', '333', '245', '483', '228', '197', '546', '194', '475', '144', '655', '568', '182', '496', '180', '179', '273', '301', '265', '161', '282', '211', '95', '8', '71', '678', '471', '322', '143', '215', '187', '427', '235', '588', '271', '250', '88', '508', '597', '435', '603', '4', '403', '385', '208', '298', '284', '272', '175', '134', '474', '307', '200', '515', '527', '479', '230', '147', '393', '209', '340', '99', '83', '23', '13', '58', '566', '274', '419', '14', '124', '326', '24', '732', '327', '229', '203', '514', '751', '739', '218', '283', '199', '137', '692', '591', '433', '255', '628', '248', '651', '411', '285', '133', '845', '319', '66', '432', '451', '227', '523', '511', '480', '410', '321', '443', '315', '259', '367', '304', '240', '154', '472', '226', '660', '252', '685', '582', '476', '293', '188', '402', '684', '193', '156', '550', '223', '690', '55', '358', '77', '654', '498', '332', '150', '763', '31', '239', '231', '462', '281', '1016', '879', '310', '164', '94', '455', '68', '418', '91', '86', '431', '1028', '559', '213', '205', '42', '177', '129', '735', '484', '705', '657', '47', '428', '325', '510', '249', '2', '157', '1047', '87', '750', '501', '291', '198', '148', '109', '521', '485', '53', '509', '347', '346', '303', '73', '520', '343', '217', '233', '756', '631', '482', '473', '270', '260', '241', '866', '72', '663', '192', '746', '596', '504', '48', '449', '382', '38', '190', '62', '526', '447', '243', '214', '116', '81', '659', '242', '331', '184', '531', '324', '219', '65', '528', '470', '421', '380', '169', '762', '316', '246', '178', '170', '815', '708', '29', '136', '895', '747', '225', '478', '123', '92', '699', '408', '1014', '709', '292', '928', '679', '54', '317', '162', '155', '67', '159', '122', '1012', '93', '682', '290', '264', '212', '126', '926', '90', '232', '820', '744', '554', '507', '436', '378', '356', '458', '919', '755', '715', '665', '636', '429', '381', '693', '412', '578', '529', '430', '404', '338', '306', '517', '506', '1039', '652', '33', '305', '201', '1011', '831', '5', '163', '823', '662', '640', '576', '549', '477', '448', '280', '864', '720', '59', '519', '3', '17', '131', '826', '689', '673', '518', '386', '10', '661', '658', '63', '51', '465', '399', '312', '873', '584', '530', '988', '792', '729', '105', '924', '717', '604', '52', '44', '420', '32', '969', '930', '710', '39', '949', '781', '736', '642', '625', '425', '409', '311', '629', '21', '825', '696', '676', '627', '461', '49', '417', '401', '221', '778', '724', '45', '287', '20', '141', '1101', '1048', '871', '647', '354', '26', '1074', '707', '544', '525', '497', '487', '295', '277', '171', '152', '114', '887', '633', '607', '513', '434', '106', '855', '650', '469', '463', '392', '167', '101', '727', '713', '616', '606', '516', '450', '189', '160', '128', '108', '1073', '934', '880', '687', '558', '491', '486', '452', '416', '414', '384', '371', '345', '220', '165', '145', '939', '80', '619', '595', '569', '495', '387', '632', '581', '553', '505', '493', '488', '468', '299', '120', '1119', '790', '672', '27', '254', '207', '19', '740', '609', '60', '481', '1009', '959', '780', '61', '538', '499', '494', '344', '334', '262', '946', '827', '770', '741', '716', '648', '561', '849', '721', '615', '369', '140', '1041', '1035', '931', '923', '85', '813', '722', '702', '542', '512', '396', '342', '166', '158', '993', '898', '768', '737', '535', '502', '40', '395', '886', '824', '562', '466', '456', '142', '139', '977', '952', '942', '76', '664', '391', '206', '892', '877', '846', '806', '772', '754', '614', '602', '444', '413', '406', '278', '1065', '1025', '875', '847', '686', '674', '570', '492', '490', '339', '224', '1017', '789', '749', '712', '656', '1228', '1135', '102', '984', '975', '955', '833', '683', '649', '539', '489', '251', '244', '1142', '1118', '1067', '1007', '941', '876', '761', '728', '694', '675', '671', '638', '407', '365', '363', '329', '297', '956', '944', '881', '844', '577', '552', '467', '330', '261', '1010', '963', '948', '841', '810', '794', '769', '620', '585', '540', '524', '441', '336', '236', '1197', '1091', '921', '902', '900', '840', '771', '752', '688', '623', '611', '610', '589', '547', '541', '379', '370', '350', '1210', '1098', '107', '1046', '951', '932', '896', '809', '731', '644', '639', '41', '366', '355', '30', '1089', '1051', '1020', '760', '697', '622', '583', '503', '1188', '1079', '1050', '1013', '943', '937', '874', '796', '785', '646', '575', '57', '373', '16', '1090', '1044', '890', '872', '856', '819', '743', '653', '1244', '1217', '1110', '1063', '922', '882', '829', '779', '43', '1221', '1134', '1060', '1008', '971', '945', '783', '637', '522', '364', '1267', '1033', '1021', '950', '929', '925', '878', '802', '670', '641', '612', '605', '586', '580', '567', '308', '1136', '1023', '990', '979', '974', '961', '940', '808', '680', '563', '500', '46', '426', '383', '1059', '1019', '936', '800', '797', '78', '765', '719', '681', '389', '372', '362', '349', '266', '1132', '1126', '1115', '1042', '1018', '972', '905', '843', '738', '6', '368', '1240', '1061', '1022', '995', '938', '834', '764', '630', '608', '573', '572', '459', '309', '1411', '1226', '1220', '1194', '1157', '1152', '1139', '110', '1070', '775', '774', '645', '634', '537', '422', '376', '375', '279', '1218', '1215', '1163', '1093', '1054', '986', '978', '734', '723', '460', '415', '398', '130', '1284', '1258', '1137', '1133', '1129', '1095', '837', '565', '464', '457', '352', '348', '253', '1168', '1147', '1005', '989', '960', '906', '842', '836', '832', '753', '730', '704', '1170', '1149', '1113', '1109', '1084', '1049', '1040', '1006', '991', '966', '965', '962', '904', '903', '894', '821', '818', '816', '805', '795', '624', '571', '564', '560', '551', '543', '532', '445', '388', '1315', '1219', '1203', '1160', '1086', '1069', '1057', '1053', '1045', '982', '980', '869', '865', '758', '703', '635', '590', '337', '320', '149', '1296', '1222', '1208', '1199', '1176', '1078', '1034', '953', '916', '863', '557', '1478', '1283', '1277', '1239', '1121', '1052', '1037', '985', '933', '908', '84', '812', '811', '613', '601', '579', '359', '335', '1407', '138', '1303', '1248', '1231', '1230', '1206', '1185', '1183', '1153', '1117', '1103', '1097', '1071', '1036', '1030', '859', '801', '745', '718', '700', '691', '618', '453', '400', '263', '1446', '1401', '1311', '1291', '1286', '1265', '1245', '1225', '1207', '1178', '1140', '1107', '998', '958', '854', '733', '617', '587', '574', '440', '351', '1263', '1209', '1204', '115', '1120', '112', '1066', '1058', '1024', '1001', '996', '983', '888', '885', '862', '860', '835', '787', '786', '773', '726', '725', '667', '534', '454', '424', '353', '256', '1451', '1285', '1280', '1273', '1232', '1171', '1161', '1131', '1112', '1092', '1088', '1038', '1032', '103', '1029', '997', '968', '947', '915', '893', '883', '714', '533', '1469', '1444', '1421', '1404', '1313', '1229', '1192', '1182', '1172', '1128', '914', '701', '695', '669', '621', '593', '397', '394', '377', '1540', '1483', '1428', '1419', '1314', '1297', '1269', '1154', '1143', '1127', '1124', '1116', '1094', '1055', '967', '853', '828', '791', '782', '698', '556', '555', '548', '545', '446', '374', '361', '360', '36', '35', '1503', '1471', '1335', '1281', '1279', '1268', '1266', '1254', '1252', '1249', '1211', '1184', '1181', '1180', '1169', '1165', '1159', '1105', '1099', '1087', '1085', '1076', '1068', '1062', '1015', '999', '976', '912', '909', '901', '899', '807', '776', '759', '390', '341', '1518', '1480', '1475', '146', '1375', '1299', '1298', '1278', '1276', '1274', '1214', '1190', '1187', '1179', '1141', '113', '1114', '1043', '1004', '1003', '994', '970', '954', '889', '870', '848', '803', '767', '536', '37', '267', '1615', '1558', '1524', '1473', '1459', '1441', '1439', '1434', '1425', '1415', '1409', '1400', '1394', '1381', '1336', '1295', '1294', '1271', '1270', '1262', '1251', '1238', '1234', '1224', '1200', '1198', '1195', '1193', '1167', '1166', '1150', '1072', '1000', '964', '935', '918', '917', '766', '74', '592', '18', '1620', '1522', '1512', '1479', '1474', '1468', '1466', '1462', '1456', '1437', '1435', '1413', '1399', '1395', '1376', '1355', '1337', '1316', '1300', '1289', '1282', '1250', '1237', '1227', '1212', '1174', '1148', '1145', '1111', '1082', '1056', '1002', '927', '884', '804', '799', '798', '793', '706', '668', '34', '314', '296', '247', '1597', '1592', '1531', '1530', '1529', '1527', '1449', '1442', '1426', '1416', '1412', '1397', '1388', '1378', '1346', '1326', '1324', '1322', '1312', '1305', '1302', '1288', '1287', '1253', '1247', '1246', '1216', '1213', '1205', '1202', '1177', '1151', '1108', '1102', '1081', '1077', '1031', '920', '910', '891', '867', '851', '850', '777', '666', '626', '598', '442', '439', '438', '437', '1643', '1612', '1605', '1598', '1591', '1589', '1560', '1555', '1553', '1545', '1539', '1535', '1534', '1514', '1511', '1495', '1487', '1440', '1438', '1431', '1429', '1427', '1406', '1405', '1403', '1396', '1392', '1386', '1385', '1383', '1382', '1380', '1368', '1367', '1353', '1338', '1333', '1330', '1328', '1317', '1301', '1272', '1264', '1255', '1243', '1242', '1233', '1175', '1164', '1162', '1158', '1104', '1100', '1083', '1075', '1064', '992', '981', '973', '911', '868', '839', '75', '643', '594', '1664', '1628', '1623', '1622', '1610', '1608', '1602', '1552', '1538', '1537', '1528', '1521', '1509', '1508', '1504', '1501', '1499', '1496', '1489', '1485', '1484', '1470', '1465', '1454', '1445', '1443', '1432', '1424', '1410', '1408', '1393', '1389', '1387', '1379', '1377', '1369', '1357', '1347', '1344', '1331', '1323', '1319', '1318', '1292', '1275', '1261', '1260', '1259', '1257', '1241', '1223', '1191', '119', '1173', '1155', '1138', '1125', '1123', '1096', '104', '1026', '987', '957', '913', '907', '861', '838', '822', '817', '788', '757', '1658', '1646', '1642', '1639', '1631', '1629', '1611', '1600', '1594', '1590', '1578', '1551', '1550', '1544', '1542', '1541', '1532', '1523', '1519', '1517', '1516', '1513', '1506', '1500', '1490', '1488', '1481', '1477', '1463', '1450', '1448', '1436', '1430', '1423', '1422', '1420', '1402', '1391', '1390', '1370', '1362', '1361', '1360', '1359', '1358', '1356', '1354', '1351', '1345', '1342', '1334', '1332', '1327', '1308', '1307', '1306', '1293', '1290', '1256', '1189', '1186', '1146', '1144', '1106', '1080', '1027', '897', '858', '857', '852', '830', '814', '784', '711', '677', '600', '599', '1681', '1679', '1678', '1677', '1676', '1675', '1673', '1672', '1671', '1670', '1669', '1668', '1667', '1665', '1662', '1661', '1659', '1657', '1656', '1655', '1654', '1652', '1651', '1648', '1647', '1645', '1644', '1641', '1638', '1637', '1636', '1635', '1634', '1633', '1630', '1627', '1626', '1625', '1624', '1621', '1619', '1616', '1613', '1609', '1607', '1606', '1604', '1603', '1601', '1599', '1596', '1588', '1587', '1585', '1584', '1583', '1582', '1580', '1579', '1577', '1576', '1574', '1573', '1572', '1571', '1570', '1569', '1568', '1567', '1564', '1562', '1559', '1556', '1554', '1549', '1548', '1546', '1543', '1525', '1515', '1507', '1505', '1502', '1498', '1497', '1492', '1491', '1486', '1482', '1472', '1467', '1464', '1461', '1460', '1458', '1457', '1455', '1453', '1452', '1447', '1433', '1418', '1417', '1398', '1384', '1374', '1373', '1372', '1371', '1365', '1364', '1352', '1349', '1348', '1343', '1340', '1339', '1329', '1320', '1310', '1309', '1304', '1236', '1201', '1196', '1156', '1130', '1122']\n"
          ],
          "name": "stdout"
        }
      ]
    },
    {
      "cell_type": "code",
      "metadata": {
        "id": "3gam0R0Wq_Nz"
      },
      "source": [
        "movie_id_embedding_dim = 32\n",
        "movie_id_embedding_layer = tf.keras.layers.Embedding(\n",
        "    input_dim=movie_id_lookup_layer.vocab_size(),\n",
        "    output_dim=movie_id_embedding_dim,\n",
        ")\n",
        "movie_id_model = tf.keras.Sequential([\n",
        "    movie_id_lookup_layer,\n",
        "    movie_id_embedding_layer,                                      \n",
        "])"
      ],
      "execution_count": 24,
      "outputs": []
    },
    {
      "cell_type": "code",
      "metadata": {
        "colab": {
          "base_uri": "https://localhost:8080/"
        },
        "id": "AAIRLlnkrON2",
        "outputId": "f043513f-ba8e-443a-dbdb-f917ce0359f4"
      },
      "source": [
        "movie_id_model(['181'])"
      ],
      "execution_count": 25,
      "outputs": [
        {
          "output_type": "stream",
          "text": [
            "WARNING:tensorflow:Layers in a Sequential model should only have a single input tensor, but we receive a <class 'list'> input: ['181']\n",
            "Consider rewriting this model with the Functional API.\n"
          ],
          "name": "stdout"
        },
        {
          "output_type": "stream",
          "text": [
            "WARNING:tensorflow:Layers in a Sequential model should only have a single input tensor, but we receive a <class 'list'> input: ['181']\n",
            "Consider rewriting this model with the Functional API.\n"
          ],
          "name": "stderr"
        },
        {
          "output_type": "execute_result",
          "data": {
            "text/plain": [
              "<tf.Tensor: shape=(1, 32), dtype=float32, numpy=\n",
              "array([[ 0.03616878,  0.04707202,  0.01779593,  0.00641242,  0.01253701,\n",
              "         0.03653159, -0.03389543, -0.03889864,  0.01164722,  0.0103556 ,\n",
              "         0.01303868,  0.00213008,  0.03186623, -0.02943003, -0.03095821,\n",
              "        -0.03535131, -0.0350804 ,  0.03594816,  0.04167328,  0.00044954,\n",
              "         0.03656684,  0.02033374,  0.00343715, -0.01490697,  0.01331348,\n",
              "         0.03415987, -0.00653956, -0.02034122,  0.0349067 , -0.02944384,\n",
              "        -0.01097735,  0.009092  ]], dtype=float32)>"
            ]
          },
          "metadata": {
            "tags": []
          },
          "execution_count": 25
        }
      ]
    },
    {
      "cell_type": "code",
      "metadata": {
        "id": "76qt_zrSsrkf"
      },
      "source": [
        "movie_title_vectorization_layer = tf.keras.layers.experimental.preprocessing.TextVectorization()\n",
        "movie_title_vectorization_layer.adapt(\n",
        "    ratings_trainset.map(\n",
        "        lambda rating: rating['movie_title']\n",
        "    )\n",
        ")"
      ],
      "execution_count": 26,
      "outputs": []
    },
    {
      "cell_type": "code",
      "metadata": {
        "colab": {
          "base_uri": "https://localhost:8080/"
        },
        "id": "_j67pLOFu5to",
        "outputId": "7fb62634-42ad-4076-8bfd-1a0228176b9f"
      },
      "source": [
        "print(\n",
        "    movie_title_vectorization_layer.get_vocabulary(),\n",
        ")"
      ],
      "execution_count": 27,
      "outputs": [
        {
          "output_type": "stream",
          "text": [
            "['', '[UNK]', 'the', '1996', '1997', '1995', '1994', 'of', '1993', 'and', 'a', 'in', '1989', '1992', 'star', 'to', '1990', '1991', '1986', 'day', '1982', 'man', 'trek', '1981', '1984', 'for', '1987', '1980', 'dead', '1979', 'with', '1974', 'one', 'liar', '1988', 'lost', '1985', '2', 'my', '1998', 'first', 'contact', '1971', '1977', 'monty', '1983', 'love', 'on', 'last', 'men', 'back', 'die', 'seven', 'you', '1975', 'hard', 'life', 'i', '1963', 'ii', 'chocolate', 'air', 'return', 'la', 'story', 'home', 'godfather', 'terminator', '1962', 'scream', 'about', 'wars', '1939', 'bride', '1967', '1940', '1954', 'it', 'good', 'batman', 'when', '1957', 'time', 'night', 'jedi', 'alien', 'by', 'lies', '1941', 'fear', 'fargo', 'english', 'red', 'patient', 'mrs', '1951', 'full', 'kiss', 'blade', 'under', 'toy', 'do', '1972', 'king', 'mr', 'kill', 'dogs', '1959', '1968', 'raiders', 'devils', 'ark', 'rock', 'park', 'force', 'american', 'fire', '1970', 'jurassic', 'independence', 'id4', '1958', 'black', '1976', 'from', '1978', 'an', 'princess', 'part', 'white', 'twelve', 'monkeys', 'willy', 'game', 'at', 'young', 'silence', 'lambs', 'up', 'strikes', 'space', 'pulp', 'fiction', 'empire', 'murder', 'jones', '1960', 'maguire', 'jerry', 'vegas', 'chasing', 'amy', 'old', 'jaws', 'big', 'me', 'out', 'brothers', 'titanic', 'ghost', 'city', 'over', 'world', 'true', 'future', '1946', 'tin', 'harry', 'four', 'mission', 'impossible', 'wedding', 'escape', '1950', '1969', 'indiana', 'crusade', '13', 'sense', 'conspiracy', 'girls', 'dreams', 'three', '1964', 'python', 'holy', 'grail', 'saint', 'wonka', 'factory', 'as', 'fugitive', '1973', 'hall', 'river', 'iii', 'gump', 'forrest', 'brown', 'de', 'cats', 'beauty', 'walking', 'society', 'confidential', 'et', 'wonderful', 'judgment', 'frankenstein', 'twister', 'extraterrestrial', 'fish', 'days', 'like', 'leaving', 'las', 'little', 'opus', 'hollands', 'how', 'truth', 'braveheart', 'beast', 'queen', 'gun', 'great', 'theory', 'groundhog', 'father', 'blues', 'woman', 'nightmare', 'shawshank', 'redemption', 'schindlers', 'list', 'mystery', 'movie', 'mary', '1965', 'speed', 'sally', 'robin', 'met', 'kid', 'aliens', 'sensibility', 'birdcage', '1952', 'line', 'runner', 'hunt', 'hood', 'apollo', 'usual', 'suspects', 'amadeus', 'were', 'own', 'is', 'now', 'nest', 'jackie', 'flew', 'cuckoos', 'peak', 'funeral', 'or', 'odyssey', 'down', 'cape', 'blue', 'best', 'america', '2001', 'raising', 'poets', 'arizona', 'ransom', 'nikita', 'people', '1942', 'wolves', 'its', 'dog', 'dances', 'evita', 'jungle', 'dr', 'away', 'wanda', 'phenomenon', 'michael', 'high', 'called', 'wizard', 'wild', 'weddings', 'sabrina', 'oz', 'hot', 'friends', 'top', 'that', 'street', 'stand', 'se7en', 'get', 'darkness', 'dantes', 'broken', 'psycho', 'george', 'aladdin', '1944', 'wrath', 'khan', 'graduate', 'citizen', 'casablanca', 'philadelphia', 'jane', 'arrow', 'thing', 'sting', 'her', '1937', 'trainspotting', 'some', 'snow', 'adventures', 'bad', 'pink', 'goodfellas', 'clockwork', 'orange', 'apocalypse', '1955', 'heat', 'bound', 'being', 'before', 'october', 'metal', 'il', 'bronx', 'room', 'gold', 'family', 'cool', 'colors', 'music', 'mash', 'mighty', 'courage', 'volcano', 'sound', 'lion', 'babe', '1600', 'field', 'evil', 'picture', 'paris', 'mockingbird', 'mars', 'attacks', 'troopers', 'starship', 'fifth', 'element', 'vs', 'sleepless', 'seattle', 'larry', 'flynt', 'christmas', '1938', 'window', 'sundance', 'eraser', 'cassidy', 'butch', 'shorty', 'rear', 'glory', 'cop', 'faceoff', 'country', 'while', 'garden', 'cup', 'will', 'private', 'kane', 'hunting', 'brazil', 'worrying', 'strangelove', 'stop', 'shining', 'learned', 'bomb', 'advocate', 'das', 'boot', '1956', 'show', 'long', 'fly', 'close', 'voyage', 'vertigo', 'v', 'sling', 'iv', 'gandhi', 'nothing', 'much', 'goodnight', 'this', 'tap', 'spinal', 'doubtfire', 'nights', 'land', 'boogie', 'mother', 'green', 'grease', 'dwarfs', 'clear', 'ado', 'taxi', 'driver', 'aphrodite', 'quiz', 'present', 'danger', 'secret', 'search', 'postino', 'poppins', 'money', 'lone', 'gone', 'rumble', 'gi', 'who', 'unforgiven', 'spock', 'dave', 'crow', 'candidate', 'annie', 'tomorrow', 'pretty', 'never', 'dies', 'kwai', 'grosse', 'giant', 'emma', 'bridge', '3', 'ulees', 'siege', 'president', 'north', 'wife', 'rain', 'primal', 'heathers', 'sleepers', 'pointe', 'blank', 'wind', 'secrets', 'professor', 'nutty', 'killers', 'club', 'brady', 'says', 'everyone', 'sleeping', 'fantasia', 'creatures', 'cat', 'be', 'whats', 'vi', 'undiscovered', 'his', '1961', '1934', 'treasure', 'sea', 'northwest', 'luke', 'lawrence', 'kingpin', 'hand', 'arabia', 'pupil', 'birds', 'apt', 'alone', 'pythons', 'lady', 'clueless', 'butthead', 'brian', 'beavis', 'angels', 'without', 'dragonheart', 'tomatoes', 'fried', 'island', 'dumbo', 'wives', 'piano', 'jacket', 'horizon', 'executive', 'donnie', 'decision', 'brasco', 'so', 'dracula', 'stuff', 'right', 'reservoir', 'desire', 'romeo', 'vengeance', 'killing', 'highlander', 'years', 'wood', 'washington', 'vampire', 'tibet', 'spawn', 'professional', 'power', 'water', 'there', 'swingers', 'remains', 'girl', 'firm', 'chinatown', 'african', '12', 'tide', 'sneakers', 'happy', 'gilmore', 'crimson', 'returns', 'manhattan', 'para', 'face', 'con', 'como', 'agua', 'summer', 'rainmaker', 'peacemaker', 'once', 'guns', 'earth', 'abyss', 'wrong', 'strike', 'new', 'chans', 'we', 'fair', 'cinderella', '1966', 'thief', 'perfect', 'grumpier', 'ed', 'beautiful', 'view', 'ventura', 'patton', 'interview', 'ace', 'wings', 'richard', 'measures', 'clerks', 'army', 'ugly', 'mask', 'maltese', 'final', 'falcon', 'singin', 'school', 'maude', 'manchurian', 'harold', 'crash', 'powers', 'platoon', 'off', 'multiplicity', 'magnificent', 'international', 'goldeneye', 'boys', 'austin', 'theater', 'searching', 'science', 'pinocchio', 'm', 'knight', 'fischer', 'femme', 'bobby', 'amistad', 'absolute', '3000', 'natural', 'hunter', 'deer', 'wag', 'left', 'le', 'foot', 'born', '1935', 'stokers', 'resurrection', 'maverick', 'bram', 'smoke', 'shes', 'peach', 'mohicans', 'james', 'gattaca', 'event', 'crying', 'cause', 'welcome', 'cold', 'raging', 'instinct', 'desert', 'bull', 'women', 'real', 'priscilla', 'notre', 'net', 'motion', 'hunchback', 'hoop', 'hero', 'henry', 'genius', 'dame', 'clyde', 'bonnie', 'wall', 'stargate', 'kids', 'jungle2jungle', 'floyd', 'farm', 'death', 'comfort', 'carrie', 'benhur', 'thin', 'proxy', 'lace', 'kolya', 'hudsucker', 'french', 'falls', 'bunch', 'arsenic', 'tales', 'sex', 'edge', 'children', 'two', 'shine', 'parts', 'highway', 'elm', 'dirty', 'book', 'william', 'upon', 'trousers', 'tombstone', 'shakespeares', 'juliet', 'grape', 'gilbert', 'generations', 'fields', 'eating', 'storm', 'paradiso', 'manon', 'madness', 'ice', 'gets', 'crossing', 'cinema', 'angry', 'videotape', 'thieves', 'smith', 'goes', 'forever', 'fine', 'joon', 'dalmatians', 'benny', '101', 'madison', 'frighteners', 'what', 'shave', 'romy', 'romance', 'reunion', 'micheles', 'know', 'golden', 'strictly', 'rosewood', 'ballroom', 'pond', 'outbreak', 'name', 'dancing', 'craft', 'conan', 'barbarian', 'all', 'pet', 'guy', 'dollhouse', 'detective', 'des', 'cable', 'body', 'basic', 'unbearable', 'spitfire', 'mimic', 'lightness', 'grill', 'fierce', 'did', 'apartment', 'periscope', 'noon', 'murderer', 'married', 'axe', 'york', 'werewolf', 'waterworld', 'streetcar', 'named', 'miracle', 'london', 'jam', 'collins', 'client', '34th', 'nixon', 'hills', 'dance', 'circle', 'very', 'stood', 'still', 'muriels', 'lover', 'living', 'jumanji', 'beloved', 'sequel', 'rocket', 'panther', 'nosferatu', 'jack', 'casino', 'beverly', '1933', 'soup', 'som', 'shadow', 'presents', 'mitt', 'majesty', 'liv', 'hund', 'house', 'duck', 'demolition', 'crypt', 'bean', 'wonderland', 'west', 'rebel', 'martin', 'homeward', 'hamlet', 'guerre', 'valley', 'talks', 'rosencrantz', 'naked', 'guildenstern', 'desperado', 'are', 'yao', 'things', 'midnight', 'copycat', 'somewhere', 'roy', 'rooms', 'rob', 'personal', 'omen', 'mulholland', 'matilda', 'fall', 'cook', 'cliffhanger', 'april', '1949', '1948', 'till', 'tiffanys', 'sierra', 'short', 'santa', 'madre', 'lawnmower', 'friday', 'fellow', 'dusk', 'dawn', 'company', 'call', 'breakfast', 'americans', 'way', 'values', 'phantom', 'millers', 'jackal', 'happened', 'addams', 'volume', 'pump', 'musketeers', 'legends', 'clause', 'candyman', 'would', 'menace', 'drop', 'sgt', 'nell', 'corrina', 'bullets', 'broadway', 'bilko', 'beautician', 'squall', 'juror', 'grand', 'dolores', 'crumb', 'claiborne', 'blood', 'amityville', 'alice', '1953', 'year', 'winnie', 'strange', 'spy', 'reaction', 'pooh', 'mortal', 'kombat', 'kings', 'frontier', 'chain', 'boy', 'blustery', 'better', 'sword', 'stone', 'shadowlands', 'roberts', 'quilt', 'mountain', 'make', 'law', 'grifters', 'dove', 'bob', 'victorvictoria', 'muppet', 'farewell', 'sleep', 'prince', 'crucible', 'baby', 'arrival', 'waves', 'trap', 'parent', 'iq', 'breaking', '1945', 'sunset', 'six', 'separation', 'marvins', 'leagues', 'juan', 'insects', 'forbidden', 'eat', 'drink', 'don', 'demarco', 'degrees', '20000', 'vacation', 'singer', 'reality', 'ran', 'mcmullen', 'heavy', 'grave', 'double', 'bites', 'youre', 'wallace', 'sun', 'sleeper', 'roman', 'restoration', 'holiday', 'gromit', 'enchanted', 'desperate', 'denver', 'delicatessen', 'control', 'bringing', 'breakdown', 'animation', 'aardman', 'third', 'roof', 'rebecca', 'planet', 'eves', 'diabolique', 'carol', 'bayou', 'tie', 'tale', 'sjunde', 'seventh', 'seal', 'roan', 'inseglet', 'inish', 'favorite', 'faces', 'diva', 'det', 'cuts', 'benjamin', 'supercop', 'shallow', 'ross', 'othello', 'local', 'immortal', 'heavenly', 'glengarry', 'glen', 'free', 'eve', 'candy', 'brain', 'yeller', 'soul', 'preachers', 'navy', 'mirror', 'meet', 'mchales', 'jean', 'insult', 'has', 'food', 'florette', 'eye', 'devil', 'deconstructing', 'dark', 'county', 'bridges', 'age', '33', 'wolf', 'walk', 'waiting', 'shots', 'shall', 'innocence', 'fan', 'extreme', 'eden', 'deux', 'around', '80', 'striptease', 'sophies', 'rudy', 'rising', 'kull', 'kind', 'kalifornia', 'journey', 'hoodlum', 'dial', 'conqueror', 'clouds', 'choice', 'blvd', 'tommy', 'snatchers', 'indian', 'cyrano', 'bergerac', 'antonias', 'stealing', 'son', 'quiet', 'mad', 'eyre', 'u', 'turn', 'dumber', 'dumb', 'dazed', 'confused', 'apostle', 'anastasia', 'supper', 'shelleys', 'les', 'hound', 'holidays', 'god', 'fox', 'dress', 'daylight', 'weekend', 'thunder', 'steps', 'sheep', 'runnings', 'mallrats', 'incredible', 'forget', 'darn', 'bananas', '39', 'war', 'too', 'spring', 'sources', 'serial', 'ref', 'raise', 'pocahontas', 'nine', 'moreau', 'months', 'mom', 'lantern', 'knew', 'dont', 'closet', 'celluloid', 'bernies', 'barcelona', 'wong', 'tights', 'thanks', 'sirens', 'postman', 'newmar', 'julie', 'hercules', 'foo', 'everything', 'dangerous', 'casper', 'addicted', 'texas', 'quick', 'ordinary', 'ninja', 'less', 'hype', 'doors', 'bug', 'broomsticks', 'bedknobs', 'substitute', 'if', 'got', 'carlitos', 'akira', 'action', '1947', 'twist', 'thinner', 'sweet', 'roses', 'paradise', 'koyaanisqatsi', 'gillian', 'flubber', 'excess', 'der', 'corner', 'bulletproof', 'bordello', 'blob', 'birthday', 'below', 'bed', 'baggage', '37th', 'wyatt', 'trees', 'ridicule', 'lovely', 'lounge', 'looking', 'east', 'earp', 'catch', 'vie', 'territory', 'swimming', 'sharks', 'party', 'matchmaker', 'legend', 'aristocats', '1931', 'symphonie', 'sunrise', 'sudden', 'st', 'smillas', 'notorious', 'mouse', 'margot', 'guffman', 'bottle', 'touch', 'retour', 'powder', 'persuasion', 'nick', 'junior', 'honors', 'grauens', 'eine', '1922', 'species', 'renaissance', 'nobodys', 'minds', 'freeway', 'fool', 'coneheads', 'bud', 'basquiat', '187', 'train', 'ruth', 'prophecy', 'playing', 'petes', 'live', 'johnny', 'horror', 'happen', 'glimmer', 'folks', 'dragon', 'dictator', 'could', 'congo', 'chamber', 'booty', 'virtuosity', 'standing', 'replacement', 'reilly', 'poisoners', 'outfield', 'moll', 'mnemonic', 'malice', 'lebowski', 'leave', 'laura', 'kundun', 'handbook', 'gigi', 'flirting', 'flanders', 'fallen', 'disaster', 'demon', 'concubine', 'belle', 'beaver', '8', 'sphere', 'robinson', 'not', 'jour', 'hereafter', 'gaslight', 'gang', 'feeling', 'drum', 'cupboard', 'cruise', 'calls', 'blechtrommel', 'billy', 'associate', 'andy', 'swiss', 'screamers', 'only', 'muir', 'joes', 'finzicontini', 'diaries', 'cherbourg', 'bleeding', 'beyond', 'basketball', 'anaconda', 'zoe', 'unforgettable', 'thousand', 'speechless', 'sliver', 'slickers', 'priest', 'paper', 'maudit', 'killer', 'judge', 'gazon', 'fools', 'dredd', 'curlys', 'career', 'acres', 'warriors', 'tank', 'rose', 'rich', 'metro', 'loves', 'hill', 'eddie', 'assassins', 'annihilation', 'zone', 'warhol', 'square', 'shot', 'mouth', 'fled', 'disclosure', 'bus', 'target', 'san', 'nature', 'milk', 'mediterraneo', 'howling', 'francisco', 'clockers', 'charade', 'bye', 'burnt', 'affair', 'wes', 'went', 'velocity', 'trial', 'terminal', 'paths', 'murders', 'mississippi', 'louis', 'lord', 'harriet', 'ghosts', 'georgia', 'fathers', 'fairytale', 'englishman', 'curse', 'cravens', 'came', 'but', 'anna', 'your', 'xue', 'xiong', 'trigger', 'transformers', 'stephen', 'south', 'shuang', 'program', 'orlando', 'langoliers', 'karenina', 'juice', 'hat', 'flintstones', 'exotica', 'effect', 'drinking', 'central', 'airheads', 'wishmaster', 'twelfth', 'timecop', 'surviving', 'race', 'minnesota', 'just', 'jeffrey', 'hate', 'go', 'canadian', 'brassed', 'boomerang', 'bacon', 'adventure', '2000', 'waipo', 'triad', 'threesome', 'shell', 'shanghai', 'shaggy', 'qiao', 'passion', 'mans', 'kokaku', 'kidotai', 'flesh', 'fell', 'fast', 'expectations', 'evening', 'deceiver', 'dao', 'cheap', 'biodome', '1936', 'yours', 'spellbound', 'smile', 'relic', 'operation', 'oblivion', 'no', 'myers', 'lucy', 'learning', 'higher', 'halloween', 'hackers', 'guido', 'cry', 'blown', 'barbarella', 'wire', 'talk', 'something', 'showgirls', 'portrait', 'peuple', 'nude', 'microcosmos', 'made', 'lherbe', 'idaho', 'houseguest', 'colored', 'butterfly', 'burning', 'barb', 'witch', 'turbulence', 'tom', 'super', 'side', 'prisoners', 'mario', 'kansas', 'heavens', 'guard', 'express', 'error', 'en', 'dumpling', 'chungking', 'bros', 'apple', 'angel', 'after', 'véronique', 'village', 'veronique', 'vanya', 'spirits', 'spice', 'road', 'rescue', 'pillow', 'monkey', 'john', 'doe', 'dear', 'damned', 'buddha', '42nd', 'welt', 'walkabout', 'vicious', 'until', 'spanking', 'remembered', 'reine', 'pollyanna', 'parker', 'oscar', 'ninotchka', 'maiden', 'lucinda', 'heaven', 'frank', 'ende', 'end', 'bogus', 'bis', 'arrest', 'ans', 'anne', 'winterbourne', 'valour', 'tulsa', 'then', 'sutra', 'stakeout', 'snatcher', 'ruby', 'richie', 'remember', 'pallbearer', 'misérables', 'ma', 'keys', 'kama', 'jury', 'inventing', 'illusions', 'hour', 'goofy', 'funny', 'firecracker', 'fearless', 'court', 'compassion', 'child', 'caballeros', 'arthurs', 'another', 'amateur', 'afterglow', 'abbotts', '6', '3d', 'yes', 'widows', 'sarajevo', 'rush', 'risk', 'quest', 'oliver', 'maximum', 'jude', 'hellraiser', 'fog', 'dellamorte', 'dellamore', 'cyberspace', 'cemetery', 'bloodline', 'beach', '1943', 'unstrung', 'umbrellas', 'set', 'presidents', 'parapluies', 'mi', 'loving', 'human', 'hollywood', 'heroes', 'giardino', 'farinelli', 'dei', 'cutthroat', 'castrato', 'bell', 'wine', 'whom', 'wear', 'us', 'trust', 'tolls', 'thirtytwo', 'specialist', 'robert', 'ready', 'puppet', 'pretaporter', 'player', 'picasso', 'moon', 'masters', 'marked', 'losing', 'hillbillies', 'heinleins', 'half', 'haine', 'gould', 'godfrey', 'glenn', 'getaway', 'fred', 'films', 'fatal', 'ducks', 'd3', 'cowboy', 'blink', 'baked', 'backbeat', 'assignment', 'andrew', 'andre', 'amos', 'wellville', 'steel', 'ruling', 'rhapsody', 'rascals', 'rangoon', 'rangers', 'pride', 'picnic', 'payne', 'midwinter', 'miami', 'maps', 'major', 'l', 'jade', 'gridlockd', 'foreign', 'exhale', 'engel', 'duty', 'class', 'celtic', 'bleak', 'angus', 'taste', 'stupids', 'simple', 'safe', 'rappaport', 'possession', 'pig', 'nuts', 'mixed', 'jr', 'im', 'huozhe', 'helena', 'haunted', 'foxfire', 'flipper', 'edward', 'dalloway', 'd', 'cabin', 'boxing', 'blaue', 'balto', '1930', 'witness', 'traveller', 'team', 'switchback', 'steal', 'slate', 'sky', 'serenade', 'roommates', 'related', 'reeds', 'phantoms', 'perez', 'palookaville', 'mute', 'madonna', 'league', 'jingle', 'heart', 'gay', 'gathering', 'fluke', 'exit', 'divorcee', 'deep', 'dare', 'crazy', 'correspondent', 'corn', 'color', 'cobb', 'clean', 'cherche', 'chat', 'chacun', 'carolina', 'caraboo', 'believers', 'bastard', 'audrey', 'withnail', 'was', 'vincent', 'vida', 'telling', 'talking', 'stuart', 'saves', 'robbersons', 'richer', 'primary', 'poorer', 'poison', 'palmetto', 'madam', 'loca', 'ivy', 'inspector', 'huck', 'horse', 'heidi', 'general', 'fleiss', 'daytrippers', 'cops', 'carrington', 'bleu', 'bitter', 'zorro', 'truman', 'trouble', 'suburbia', 'striking', 'stalingrad', 'sorcerer', 'screaming', 'riefenstahl', 'radioland', 'panda', 'next', 'maybe', 'mark', 'low', 'letter', 'leni', 'kicking', 'iron', 'horrible', 'heavyweights', 'head', 'fate', 'eight', 'distance', 'davy', 'crockett', 'between', 'arms', 'amazing', 'alphaville', 'afternoon', 'above', '1932', 'version', 'uomo', 'stelle', 'stars', 'stalker', 'shiloh', 'shame', 'september', 'pane', 'pagemaster', 'offerings', 'odessa', 'neverending', 'mépris', 'morphin', 'manny', 'maker', 'lo', 'incognito', 'ill', 'hideaway', 'generation', 'fresh', 'fishin', 'firestorm', 'fauntleroy', 'endless', 'e', 'diggers', 'delle', 'contempt', 'cioccolata', 'carried', 'burden', 'bully', 'buffalo', 'browning', 'brooklyn', 'bread', 'braindead', 'bloodsport', 'bill', 'bear', 'babysitters', 'alaska', 'again', 'wishes', 'winter', 'wagon', 'unhook', 'toit', 'takes', 'switchblade', 'sur', 'solo', 'sisters', 'senses', 'selena', 'robocop', 'rides', 'rentakid', 'realm', 'poetic', 'penny', 'marshalls', 'mann', 'magoo', 'justice', 'isaiah', 'hussard', 'horseman', 'herbie', 'guest', 'geronimo', 'faithful', 'cure', 'critical', 'corrida', 'chase', 'chairman', 'cement', 'care', 'board', 'bhaji', 'bewegte', 'band', 'ai', 'y', 'virtue', 'valentino', 'unzipped', 'unknown', 'turning', 'tango', 'swept', 'swan', 'sum', 'suicide', 'streets', 'strawberry', 'stranger', 'song', 'shooting', 'scout', 'scarlet', 'rand', 'pyromaniacs', 'purple', 'pred', 'ponette', 'nadja', 'moonlight', 'mikey', 'madame', 'lyric', 'lightning', 'lesson', 'kim', 'kicked', 'kazaam', 'kaspar', 'karate', 'jimmy', 'jasons', 'hurricane', 'hear', 'hauser', 'fresa', 'even', 'dozhdot', 'committed', 'chef', 'ayn', 'aparajito', 'anything', 'addiction', 'whisperer', 'wally', 'voleurs', 'viv', 'twisted', 'town', 'til', 'than', 'sparks', 'sixth', 'sarah', 'sansar', 'rendezvous', 'reckless', 'pussycat', 'pest', 'perversions', 'other', 'nina', 'narayama', 'museum', 'month', 'mercury', 'margarets', 'magic', 'larger', 'lake', 'ladybird', 'infinity', 'harp', 'happiness', 'grass', 'fighter', 'female', 'faster', 'dream', 'cronos', 'crime', 'chips', 'caught', 'bone', 'beat', 'balloon', 'awfully', 'apur', 'apu', 'yellow', 'walked', 'underground', 'turbo', 'trip', 'stomper', 'squeeze', 'sin', 'shadows', 'senseless', 'senior', 'secreto', 'romper', 'rhyme', 'reason', 'promesse', 'pompatus', 'pather', 'panchali', 'original', 'ninjas', 'national', 'mourner', 'metisse', 'mega', 'loaded', 'late', 'lassie', 'lampoons', 'lait', 'kissed', 'july', 'jefferson', 'innocent', 'guilty', 'grace', 'giving', 'gangstas', 'gabbeh', 'flower', 'flor', 'feast', 'far', 'falling', 'dunston', 'doom', 'dingo', 'designated', 'denise', 'curdled', 'crooklyn', 'checks', 'café', 'bushwhacked', 'bondage', 'bloomers', 'binds', 'au', 'agent', '45', 'zeus', 'wide', 'whole', 'warhols', 'vous', 'vieille', 'underneath', 'twin', 'torchon', 'tianshi', 'thumb', 'tetsuo', 'tannenbaum', 'stripes', 'stonewall', 'starlight', 'sliding', 'single', 'sibak', 'seule', 'second', 'schizopolis', 'roxanne', 'roseannas', 'roseanna', 'rim', 'revolution', 'reed', 'qui', 'près', 'prisoner', 'pool', 'phat', 'nénette', 'nil', 'mowgli', 'mina', 'mer', 'marchait', 'lose', 'locusts', 'legal', 'leading', 'industry', 'importance', 'hugo', 'hollow', 'harlem', 'hammer', 'getting', 'freak', 'frankie', 'flirt', 'flier', 'fishes', 'fille', 'faust', 'enfer', 'duoluo', 'drunks', 'diary', 'diario', 'deceit', 'deaths', 'dans', 'dancers', 'crossfire', 'cowgirls', 'coup', 'chez', 'cest', 'castle', 'caro', 'boni', 'bonheur', 'bits', 'bent', 'baloo', 'august', 'artaud', 'arrivé', 'alligator', 'albino', '1900', 'xinghua', 'x', 'wu', 'wooden', 'wish', 'vision', 'van', 'twilight', 'total', 'theodore', 'substance', 'strong', 'stag', 'seconds', 'saw', 'run', 'rubies', 'row', 'rex', 'proibito', 'price', 'plennik', 'pie', 'nowhere', 'nm', 'nightwatch', 'ness', 'neon', 'mozart', 'mountains', 'mondo', 'moment', 'minister', 'maya', 'malcolm', 'lovers', 'loch', 'lin', 'leopold', 'lay', 'lamerica', 'kui', 'kozlowski', 'klezmer', 'kavkazsky', 'jerky', 'innocents', 'hunted', 'hotel', 'hearts', 'heads', 'hamptons', 'gumby', 'ground', 'grateful', 'gordy', 'gift', 'france', 'fatigue', 'eclipse', 'duffel', 'deadly', 'dad', 'cérémonie', 'cristo', 'cosi', 'consequences', 'commandments', 'colonel', 'christ', 'chasers', 'chabert', 'catwalk', 'catastrophes', 'carpool', 'bushiko', 'buddy', 'brother', 'bliss', 'bible', 'ballad', 'bag', 'badman', 'babysitter', 'assassination', 'vichy', 'vermin', 'venus', 'venicevenice', 'venice', 'venezia', 'underworld', 'turns', 'turned', 'times', 'tianguo', 'suture', 'sugar', 'student', 'strays', 'sprung', 'sommeil', 'somebody', 'slingshot', 'shooter', 'shield', 'sfw', 'sexual', 'season', 'relative', 'relations', 'radio', 'pushing', 'professore', 'prefontaine', 'pas', 'oneeye', 'o', 'niezi', 'nico', 'niagara', 'newton', 'nelly', 'muscles', 'move', 'mothers', 'monsieur', 'miranda', 'maine', 'knot', 'ji', 'jersey', 'jai', 'intimate', 'inkwell', 'icon', 'have', 'hands', 'guantanamera', 'gotten', 'glass', 'gilligans', 'germinal', 'gains', 'frisk', 'fausto', 'everest', 'ever', 'egypt', 'eds', 'earrings', 'drive', 'destiny', 'delta', 'dantonin', 'convento', 'convent', 'compagnie', 'collectionneuse', 'ciao', 'celestial', 'carmen', 'captives', 'cant', 'calendar', 'business', 'belgians', 'beans', 'babyfever', 'azucar', 'arnaud', 'antonin', 'amargo', 'africa', 'across', '1926', 'Á', 'zaproszenie', 'yue', 'winds', 'wend', 'voices', 'visitors', 'visiteurs', 'vermont', 'tree', 'tre', 'tracers', 'touki', 'tough', 'tokyo', 'tmen', 'they', 'terror', 'temptress', 'tainted', 'tafus', 'syn', 'sunchaser', 'step', 'stefano', 'spanish', 'someone', 'sleepover', 'shoulder', 'schatten', 'savage', 'salut', 'saimt', 's', 'rubicon', 'rough', 'rouge', 'rosey', 'qusur', 'quartier', 'quantestorie', 'project', 'prey', 'police', 'pharaohs', 'pesos', 'peace', 'pastorale', 'passi', 'passage', 'palace', 'outlaw', 'office', 'oeil', 'object', 'oasis', 'nuits', 'normal', 'nobody', 'nemesis', 'nel', 'nebula', 'mort', 'morning', 'mirage', 'mille', 'mich', 'means', 'mat', 'marlene', 'machine', 'luck', 'lotto', 'lives', 'light', 'liebt', 'liebelei', 'köldum', 'kuuni', 'klaka', 'kika', 'keiner', 'jupiters', 'joy', 'journal', 'johns', 'jardin', 'invitation', 'intentions', 'hyena', 'hush', 'hungarian', 'hua', 'hostile', 'homage', 'hirschfeld', 'here', 'henrietta', 'he', 'hanabi', 'hadomim', 'gods', 'gesture', 'gate', 'further', 'fort', 'fist', 'fever', 'feng', 'favor', 'fauves', 'farmer', 'fairy', 'every', 'etz', 'est', 'elses', 'el', 'domin', 'distress', 'dietrich', 'delirio', 'defoes', 'daniel', 'damsel', 'dadetown', 'cyclo', 'crusoe', 'crude', 'cross', 'criminal', 'cousin', 'courtyard', 'cookie', 'condition', 'comes', 'cienie', 'chao', 'century', 'ce', 'careful', 'cadillac', 'butcher', 'burlesque', 'bouki', 'bolle', 'blu', 'bloody', 'bird', 'bedlam', 'baton', 'baps', 'b', 'angela', 'al', 'affection', '98', '4', '100']\n"
          ],
          "name": "stdout"
        }
      ]
    },
    {
      "cell_type": "code",
      "metadata": {
        "colab": {
          "base_uri": "https://localhost:8080/"
        },
        "id": "svCEhg3JvFOb",
        "outputId": "8906dd47-9928-4223-c46c-28e22dff9444"
      },
      "source": [
        "print(movie_title_vectorization_layer(\"One Flew Over the Cuckoo's Nest (1975)\"))"
      ],
      "execution_count": 28,
      "outputs": [
        {
          "output_type": "stream",
          "text": [
            "tf.Tensor([ 32 263 161   2 264 261  54], shape=(7,), dtype=int64)\n"
          ],
          "name": "stdout"
        }
      ]
    },
    {
      "cell_type": "code",
      "metadata": {
        "id": "NbYuN-E6vfIz"
      },
      "source": [
        "movie_title_dim = 32\n",
        "movie_title_embedding_layer = tf.keras.layers.Embedding(\n",
        "    input_dim=len(movie_title_vectorization_layer.get_vocabulary()),\n",
        "    output_dim=movie_title_dim,\n",
        ")"
      ],
      "execution_count": 29,
      "outputs": []
    },
    {
      "cell_type": "code",
      "metadata": {
        "id": "hxwC_udDwI71"
      },
      "source": [
        "movie_title_model = tf.keras.Sequential([\n",
        "    movie_title_vectorization_layer,\n",
        "    movie_title_embedding_layer,   \n",
        "    tf.keras.layers.GlobalAveragePooling1D(),                   \n",
        "])"
      ],
      "execution_count": 30,
      "outputs": []
    },
    {
      "cell_type": "code",
      "metadata": {
        "colab": {
          "base_uri": "https://localhost:8080/"
        },
        "id": "oFpefl5Wxh-d",
        "outputId": "c899c5c1-1244-4f7a-c14a-e6249a820c1c"
      },
      "source": [
        "for row in ratings_trainset.batch(1).map(lambda rating: rating['movie_title']).take(1):\n",
        "  print(row)\n",
        "  print(\n",
        "      movie_title_model(row)\n",
        "  )"
      ],
      "execution_count": 31,
      "outputs": [
        {
          "output_type": "stream",
          "text": [
            "tf.Tensor([b'Postman, The (1997)'], shape=(1,), dtype=string)\n",
            "tf.Tensor(\n",
            "[[ 0.00361157 -0.00578593  0.02365372 -0.0215577  -0.00023236  0.01234391\n",
            "   0.01664073  0.02454189 -0.00141137  0.01506065  0.00597042 -0.00238616\n",
            "  -0.00226315 -0.01363194 -0.02674721 -0.00756612 -0.00199012 -0.00153668\n",
            "   0.02953116 -0.01368486 -0.00472493 -0.02577673  0.00767968  0.00963355\n",
            "  -0.00997955 -0.02343567 -0.00185709  0.01237489 -0.02431385  0.02289037\n",
            "   0.01436726  0.00792939]], shape=(1, 32), dtype=float32)\n"
          ],
          "name": "stdout"
        }
      ]
    },
    {
      "cell_type": "code",
      "metadata": {
        "id": "L-9f-PrCyXO5"
      },
      "source": [
        ""
      ],
      "execution_count": 31,
      "outputs": []
    },
    {
      "cell_type": "markdown",
      "metadata": {
        "id": "zia6BF6Z0dXU"
      },
      "source": [
        "### Query and Candidate using Two-Tower"
      ]
    },
    {
      "cell_type": "code",
      "metadata": {
        "id": "udNxikUg0hON"
      },
      "source": [
        "query_tower = user_id_model\n",
        "candidate_tower = movie_id_model"
      ],
      "execution_count": 32,
      "outputs": []
    },
    {
      "cell_type": "code",
      "metadata": {
        "id": "4S9-4VD7LAgm"
      },
      "source": [
        "retrieval_ratings_trainset = ratings_trainset.map(\n",
        "    lambda rating: {\n",
        "        'user_id': rating['user_id'],\n",
        "        'movie_id': rating['movie_id'],\n",
        "    }\n",
        ")\n",
        "\n",
        "retrieval_ratings_testset = ratings_testset.map(\n",
        "    lambda rating: {\n",
        "        'user_id': rating['user_id'],\n",
        "        'movie_id': rating['movie_id'],\n",
        "    }\n",
        ")"
      ],
      "execution_count": 33,
      "outputs": []
    },
    {
      "cell_type": "code",
      "metadata": {
        "colab": {
          "base_uri": "https://localhost:8080/"
        },
        "id": "tnUbKQvLLroU",
        "outputId": "412d6399-2f4a-4b3e-c9ae-a3db98c92f46"
      },
      "source": [
        "!pip install -q tensorflow-recommenders"
      ],
      "execution_count": 34,
      "outputs": [
        {
          "output_type": "stream",
          "text": [
            "\u001b[?25l\r\u001b[K     |████▏                           | 10kB 15.6MB/s eta 0:00:01\r\u001b[K     |████████▍                       | 20kB 9.8MB/s eta 0:00:01\r\u001b[K     |████████████▌                   | 30kB 5.9MB/s eta 0:00:01\r\u001b[K     |████████████████▊               | 40kB 5.3MB/s eta 0:00:01\r\u001b[K     |█████████████████████           | 51kB 2.9MB/s eta 0:00:01\r\u001b[K     |█████████████████████████       | 61kB 3.2MB/s eta 0:00:01\r\u001b[K     |█████████████████████████████▎  | 71kB 3.4MB/s eta 0:00:01\r\u001b[K     |████████████████████████████████| 81kB 2.5MB/s \n",
            "\u001b[?25h"
          ],
          "name": "stdout"
        }
      ]
    },
    {
      "cell_type": "code",
      "metadata": {
        "id": "_5R1_bcNOKVr"
      },
      "source": [
        "import tensorflow_recommenders as tfrs"
      ],
      "execution_count": 35,
      "outputs": []
    },
    {
      "cell_type": "code",
      "metadata": {
        "colab": {
          "base_uri": "https://localhost:8080/",
          "height": 456,
          "referenced_widgets": [
            "3fe75e88cee344a1be5e622f47811302",
            "028401c0bb934fd5af5e8480ac188f42",
            "a26f0e97c74e435a934d713c1caba1ea",
            "10eac4c13adf4d47a9723296a7e9a3f5",
            "7b931d600fa84d12881425d1866bb61c",
            "3e824e55d2bd4d778fc13bfc9499dcb9",
            "0d756853686a40199c9f93872c49fdcf",
            "65a3b221e8af465dba5f4a8b591efc7e",
            "5b2d3ce9b00049329724638bede1c995",
            "dfb85dd8492047e7a1198ff5aed81b86",
            "98cf0de19d3e4e1ab0a11c9d44388f2c",
            "8d121f7570f1474a86894f3816fa7c74",
            "520826b06792457f86f8b702109ddf61",
            "f60a8912849f4b71a291e95ded21161a",
            "c9811e94f3f34c9e9aa08f74c0e8e84b",
            "e559964871274920bfad5dcae4b4c787",
            "5f2a2e55784343b0a4867e8f17f3f691",
            "c978a114db8a4a6093bfd75294fe481e",
            "e39f5493aabe41deae32bd23cde0b56b",
            "167b069899f1404290c26137da7486d0",
            "57e577823afe44d49315a13b6550e9d3",
            "8b28d594481a4b9b8d12d0fbe8902ce3",
            "e2be5c45e5014c3cbb1cf8a69751be81",
            "6b74de757f52464d98184c748da663a0",
            "1248e0af83ae4cbfa9d73467a7067571",
            "f48002df2d244d13ae7826dd86901559",
            "49fee6ed4b0842408cc42743bb037a6b",
            "1ddece5933d740f29a3a1e3ef899256a",
            "865f516bc77f42489f7fe461217f67d5",
            "785ddbba0ece4e8dbe39da2745e9f370",
            "6ce7cc769ae74bf9bd0c4c111bba5b01",
            "1440fadf89854884b157d13118217b2c",
            "d048a42b70f34532b9f18951fb189ba6",
            "d835e34131824ad397d144bc27a1591e",
            "b33a100cf17042059d6339d07310690e",
            "b6f373ae8366402bbd32b97e1fd383ca",
            "120109a9c64e49bc8fa2259ac32f26a7",
            "a09a7bc743014745abbf24c9a4ea9844",
            "909417c4d63b4067bcda472cfdf90851",
            "b9c5346531b94eebbaa1af7c22041b43",
            "42a3b08bf9a3430f93b1aeef60e26b93",
            "1cd88407db19442aae63f21bf34c73d2",
            "ba19538c9a9c48c39feb27cae578190d",
            "19ef1b292e4a434d9a0332583ae6a080",
            "9fb48b79e6b34556ba431d767df9d2d1",
            "d1fea1eb9628439693862fe51601f9c0",
            "8f5ef8fe126f4c44a184811a63b01003",
            "9b5110fb38984f008bda26f2ca95ea0a"
          ]
        },
        "id": "edkhqIZ4QScP",
        "outputId": "5d903b40-b88f-4736-c3e2-843cdf5e9a96"
      },
      "source": [
        "movies_dataset, movies_dataset_info = tfds.load(\n",
        "    name='movielens/100k-movies',\n",
        "    split='train',\n",
        "    with_info=True,\n",
        ")\n",
        "\n",
        "print(tfds.as_dataframe(movies_dataset, movies_dataset_info))"
      ],
      "execution_count": 36,
      "outputs": [
        {
          "output_type": "stream",
          "text": [
            "\u001b[1mDownloading and preparing dataset 4.70 MiB (download: 4.70 MiB, generated: 150.35 KiB, total: 4.84 MiB) to /root/tensorflow_datasets/movielens/100k-movies/0.1.0...\u001b[0m\n"
          ],
          "name": "stdout"
        },
        {
          "output_type": "display_data",
          "data": {
            "application/vnd.jupyter.widget-view+json": {
              "model_id": "3fe75e88cee344a1be5e622f47811302",
              "version_minor": 0,
              "version_major": 2
            },
            "text/plain": [
              "HBox(children=(FloatProgress(value=1.0, bar_style='info', description='Dl Completed...', max=1.0, style=Progre…"
            ]
          },
          "metadata": {
            "tags": []
          }
        },
        {
          "output_type": "display_data",
          "data": {
            "application/vnd.jupyter.widget-view+json": {
              "model_id": "5b2d3ce9b00049329724638bede1c995",
              "version_minor": 0,
              "version_major": 2
            },
            "text/plain": [
              "HBox(children=(FloatProgress(value=1.0, bar_style='info', description='Dl Size...', max=1.0, style=ProgressSty…"
            ]
          },
          "metadata": {
            "tags": []
          }
        },
        {
          "output_type": "display_data",
          "data": {
            "application/vnd.jupyter.widget-view+json": {
              "model_id": "5f2a2e55784343b0a4867e8f17f3f691",
              "version_minor": 0,
              "version_major": 2
            },
            "text/plain": [
              "HBox(children=(FloatProgress(value=1.0, bar_style='info', description='Extraction completed...', max=1.0, styl…"
            ]
          },
          "metadata": {
            "tags": []
          }
        },
        {
          "output_type": "stream",
          "text": [
            "\n",
            "\n",
            "\n"
          ],
          "name": "stdout"
        },
        {
          "output_type": "display_data",
          "data": {
            "application/vnd.jupyter.widget-view+json": {
              "model_id": "1248e0af83ae4cbfa9d73467a7067571",
              "version_minor": 0,
              "version_major": 2
            },
            "text/plain": [
              "HBox(children=(FloatProgress(value=0.0, description='Generating splits...', max=1.0, style=ProgressStyle(descr…"
            ]
          },
          "metadata": {
            "tags": []
          }
        },
        {
          "output_type": "display_data",
          "data": {
            "application/vnd.jupyter.widget-view+json": {
              "model_id": "d048a42b70f34532b9f18951fb189ba6",
              "version_minor": 0,
              "version_major": 2
            },
            "text/plain": [
              "HBox(children=(FloatProgress(value=0.0, description='Generating train examples...', max=1682.0, style=Progress…"
            ]
          },
          "metadata": {
            "tags": []
          }
        },
        {
          "output_type": "display_data",
          "data": {
            "application/vnd.jupyter.widget-view+json": {
              "model_id": "42a3b08bf9a3430f93b1aeef60e26b93",
              "version_minor": 0,
              "version_major": 2
            },
            "text/plain": [
              "HBox(children=(FloatProgress(value=0.0, description='Shuffling movielens-train.tfrecord...', max=1682.0, style…"
            ]
          },
          "metadata": {
            "tags": []
          }
        },
        {
          "output_type": "stream",
          "text": [
            "\r\u001b[1mDataset movielens downloaded and prepared to /root/tensorflow_datasets/movielens/100k-movies/0.1.0. Subsequent calls will reuse this data.\u001b[0m\n",
            "     movie_genres movie_id                      movie_title\n",
            "0             [4]  b'1681'           b'You So Crazy (1994)'\n",
            "1          [4, 7]  b'1457'   b'Love Is All There Is (1996)'\n",
            "2          [1, 3]   b'500'          b'Fly Away Home (1996)'\n",
            "3             [0]   b'838'  b'In the Line of Duty 2 (1987)'\n",
            "4             [7]  b'1648'       b'Niagara, Niagara (1997)'\n",
            "...           ...      ...                              ...\n",
            "1677          [4]  b'1611'     b'Intimate Relations (1996)'\n",
            "1678         [16]  b'1125'         b'Innocents, The (1961)'\n",
            "1679          [4]   b'824'  b'Great White Hype, The (1996)'\n",
            "1680          [7]  b'1354'          b'Venice/Venice (1992)'\n",
            "1681         [18]   b'593'             b'Stalingrad (1993)'\n",
            "\n",
            "[1682 rows x 3 columns]\n"
          ],
          "name": "stdout"
        }
      ]
    },
    {
      "cell_type": "code",
      "metadata": {
        "colab": {
          "base_uri": "https://localhost:8080/"
        },
        "id": "u1cYOxevRCPH",
        "outputId": "7b08a277-aa23-443f-a453-e71798607f53"
      },
      "source": [
        "candidates_corpus = movies_dataset.map(\n",
        "    lambda movie: movie['movie_id']\n",
        ")\n",
        "print(tfds.as_dataframe(candidates_corpus, movies_dataset_info))"
      ],
      "execution_count": 37,
      "outputs": [
        {
          "output_type": "stream",
          "text": [
            "             \n",
            "0     b'1681'\n",
            "1     b'1457'\n",
            "2      b'500'\n",
            "3      b'838'\n",
            "4     b'1648'\n",
            "...       ...\n",
            "1677  b'1611'\n",
            "1678  b'1125'\n",
            "1679   b'824'\n",
            "1680  b'1354'\n",
            "1681   b'593'\n",
            "\n",
            "[1682 rows x 1 columns]\n"
          ],
          "name": "stdout"
        }
      ]
    },
    {
      "cell_type": "code",
      "metadata": {
        "id": "3s1REUQOOPCn"
      },
      "source": [
        "retrieval_task_layer = tfrs.tasks.Retrieval(\n",
        "    metrics=tfrs.metrics.FactorizedTopK(\n",
        "        candidates=candidates_corpus.batch(128).map(\n",
        "            candidate_tower\n",
        "        )\n",
        "    ),\n",
        ")"
      ],
      "execution_count": 38,
      "outputs": []
    },
    {
      "cell_type": "code",
      "metadata": {
        "id": "cr35ua41Tjer"
      },
      "source": [
        "class RetrievalModel(tfrs.models.Model):\n",
        "  def __init__(self, query_model, candidate_model, retrieval_layer):\n",
        "    super().__init__()\n",
        "    self.query_model = query_model\n",
        "    self.candidate_model = candidate_model\n",
        "    self.retrieval_layer = retrieval_layer\n",
        "\n",
        "  def compute_loss(self, features, training=False) -> tf.Tensor:\n",
        "    query_embeddings = self.query_model(features['user_id'])\n",
        "    positive_candidate_embeddings = self.candidate_model(features['movie_id'])\n",
        "    loss = self.retrieval_layer(query_embeddings, positive_candidate_embeddings)\n",
        "    return loss"
      ],
      "execution_count": 39,
      "outputs": []
    },
    {
      "cell_type": "code",
      "metadata": {
        "id": "8q5UjlNuaipe"
      },
      "source": [
        "retrieval_model = RetrievalModel(query_tower, candidate_tower, retrieval_task_layer)\n",
        "retrieval_model.compile(\n",
        "    optimizer=tf.keras.optimizers.Adagrad(learning_rate=0.1),\n",
        "\n",
        ")"
      ],
      "execution_count": 40,
      "outputs": []
    },
    {
      "cell_type": "code",
      "metadata": {
        "id": "AUxdYfXHbe0m",
        "outputId": "e5215d17-f25d-4138-ab6d-b618790422b0",
        "colab": {
          "base_uri": "https://localhost:8080/"
        }
      },
      "source": [
        "retrieval_ratings_trainset = retrieval_ratings_trainset.shuffle(100_000).batch(8192).cache()\n",
        "retrieval_ratings_testset = retrieval_ratings_testset.batch(4096).cache()\n",
        "history = retrieval_model.fit(\n",
        "    retrieval_ratings_trainset,\n",
        "    epochs=5,\n",
        "    validation_data=retrieval_ratings_testset,\n",
        "    validation_freq=1,\n",
        ")"
      ],
      "execution_count": 46,
      "outputs": [
        {
          "output_type": "stream",
          "text": [
            "Epoch 1/5\n",
            "10/10 [==============================] - 33s 3s/step - factorized_top_k/top_1_categorical_accuracy: 1.0000e-04 - factorized_top_k/top_5_categorical_accuracy: 0.0021 - factorized_top_k/top_10_categorical_accuracy: 0.0060 - factorized_top_k/top_50_categorical_accuracy: 0.0620 - factorized_top_k/top_100_categorical_accuracy: 0.1362 - loss: 69845.9538 - regularization_loss: 0.0000e+00 - total_loss: 69845.9538 - val_factorized_top_k/top_1_categorical_accuracy: 0.0022 - val_factorized_top_k/top_5_categorical_accuracy: 0.0170 - val_factorized_top_k/top_10_categorical_accuracy: 0.0342 - val_factorized_top_k/top_50_categorical_accuracy: 0.1565 - val_factorized_top_k/top_100_categorical_accuracy: 0.2749 - val_loss: 28803.4648 - val_regularization_loss: 0.0000e+00 - val_total_loss: 28803.4648\n",
            "Epoch 2/5\n",
            "10/10 [==============================] - 29s 3s/step - factorized_top_k/top_1_categorical_accuracy: 0.0012 - factorized_top_k/top_5_categorical_accuracy: 0.0146 - factorized_top_k/top_10_categorical_accuracy: 0.0312 - factorized_top_k/top_50_categorical_accuracy: 0.1538 - factorized_top_k/top_100_categorical_accuracy: 0.2780 - loss: 67483.5760 - regularization_loss: 0.0000e+00 - total_loss: 67483.5760 - val_factorized_top_k/top_1_categorical_accuracy: 0.0014 - val_factorized_top_k/top_5_categorical_accuracy: 0.0124 - val_factorized_top_k/top_10_categorical_accuracy: 0.0262 - val_factorized_top_k/top_50_categorical_accuracy: 0.1351 - val_factorized_top_k/top_100_categorical_accuracy: 0.2521 - val_loss: 28328.4102 - val_regularization_loss: 0.0000e+00 - val_total_loss: 28328.4102\n",
            "Epoch 3/5\n",
            "10/10 [==============================] - 29s 3s/step - factorized_top_k/top_1_categorical_accuracy: 0.0018 - factorized_top_k/top_5_categorical_accuracy: 0.0200 - factorized_top_k/top_10_categorical_accuracy: 0.0424 - factorized_top_k/top_50_categorical_accuracy: 0.1839 - factorized_top_k/top_100_categorical_accuracy: 0.3124 - loss: 66301.0966 - regularization_loss: 0.0000e+00 - total_loss: 66301.0966 - val_factorized_top_k/top_1_categorical_accuracy: 0.0012 - val_factorized_top_k/top_5_categorical_accuracy: 0.0104 - val_factorized_top_k/top_10_categorical_accuracy: 0.0226 - val_factorized_top_k/top_50_categorical_accuracy: 0.1249 - val_factorized_top_k/top_100_categorical_accuracy: 0.2365 - val_loss: 28243.6523 - val_regularization_loss: 0.0000e+00 - val_total_loss: 28243.6523\n",
            "Epoch 4/5\n",
            "10/10 [==============================] - 29s 3s/step - factorized_top_k/top_1_categorical_accuracy: 0.0019 - factorized_top_k/top_5_categorical_accuracy: 0.0233 - factorized_top_k/top_10_categorical_accuracy: 0.0489 - factorized_top_k/top_50_categorical_accuracy: 0.2005 - factorized_top_k/top_100_categorical_accuracy: 0.3321 - loss: 65607.1236 - regularization_loss: 0.0000e+00 - total_loss: 65607.1236 - val_factorized_top_k/top_1_categorical_accuracy: 8.5000e-04 - val_factorized_top_k/top_5_categorical_accuracy: 0.0074 - val_factorized_top_k/top_10_categorical_accuracy: 0.0186 - val_factorized_top_k/top_50_categorical_accuracy: 0.1147 - val_factorized_top_k/top_100_categorical_accuracy: 0.2245 - val_loss: 28269.0547 - val_regularization_loss: 0.0000e+00 - val_total_loss: 28269.0547\n",
            "Epoch 5/5\n",
            "10/10 [==============================] - 29s 3s/step - factorized_top_k/top_1_categorical_accuracy: 0.0019 - factorized_top_k/top_5_categorical_accuracy: 0.0254 - factorized_top_k/top_10_categorical_accuracy: 0.0529 - factorized_top_k/top_50_categorical_accuracy: 0.2133 - factorized_top_k/top_100_categorical_accuracy: 0.3471 - loss: 65106.0618 - regularization_loss: 0.0000e+00 - total_loss: 65106.0618 - val_factorized_top_k/top_1_categorical_accuracy: 6.0000e-04 - val_factorized_top_k/top_5_categorical_accuracy: 0.0061 - val_factorized_top_k/top_10_categorical_accuracy: 0.0149 - val_factorized_top_k/top_50_categorical_accuracy: 0.1088 - val_factorized_top_k/top_100_categorical_accuracy: 0.2142 - val_loss: 28340.2246 - val_regularization_loss: 0.0000e+00 - val_total_loss: 28340.2246\n"
          ],
          "name": "stdout"
        }
      ]
    },
    {
      "cell_type": "code",
      "metadata": {
        "id": "9a5yCxO2ewHW"
      },
      "source": [
        "import matplotlib.pyplot as plt\n",
        "import pandas as pd"
      ],
      "execution_count": 51,
      "outputs": []
    },
    {
      "cell_type": "code",
      "metadata": {
        "id": "VY03CKpGngHI",
        "outputId": "14816288-1f20-48e1-a058-a0c297fee311",
        "colab": {
          "base_uri": "https://localhost:8080/",
          "height": 500
        }
      },
      "source": [
        "pd.DataFrame({'loss':history.history['loss'],\n",
        "              'valid_loss':history.history['val_loss'],\n",
        "              }).plot(figsize=(8, 8))"
      ],
      "execution_count": 52,
      "outputs": [
        {
          "output_type": "execute_result",
          "data": {
            "text/plain": [
              "<matplotlib.axes._subplots.AxesSubplot at 0x7f84a96ce350>"
            ]
          },
          "metadata": {
            "tags": []
          },
          "execution_count": 52
        },
        {
          "output_type": "display_data",
          "data": {
            "image/png": "[encoded data removed]",
            "text/plain": [
              "<Figure size 576x576 with 1 Axes>"
            ]
          },
          "metadata": {
            "tags": [],
            "needs_background": "light"
          }
        }
      ]
    },
    {
      "cell_type": "code",
      "metadata": {
        "id": "pKDKtQExnyOl",
        "outputId": "b1cabcf9-bfa0-4ff3-9a21-a5378832a2c2",
        "colab": {
          "base_uri": "https://localhost:8080/",
          "height": 500
        }
      },
      "source": [
        "pd.DataFrame({\n",
        "              'valid_loss':history.history['val_loss'],\n",
        "              }).plot(figsize=(8, 8))"
      ],
      "execution_count": 53,
      "outputs": [
        {
          "output_type": "execute_result",
          "data": {
            "text/plain": [
              "<matplotlib.axes._subplots.AxesSubplot at 0x7f84a66b1d50>"
            ]
          },
          "metadata": {
            "tags": []
          },
          "execution_count": 53
        },
        {
          "output_type": "display_data",
          "data": {
            "image/png": "[encoded data removed]",
            "text/plain": [
              "<Figure size 576x576 with 1 Axes>"
            ]
          },
          "metadata": {
            "tags": [],
            "needs_background": "light"
          }
        }
      ]
    },
    {
      "cell_type": "code",
      "metadata": {
        "id": "rkQHyIyioZUS",
        "outputId": "c3563225-1acf-4f22-e1d4-fe19b52cfc98",
        "colab": {
          "base_uri": "https://localhost:8080/",
          "height": 500
        }
      },
      "source": [
        "pd.DataFrame({\n",
        "              'loss':history.history['loss'],\n",
        "              }).plot(figsize=(8, 8))"
      ],
      "execution_count": 54,
      "outputs": [
        {
          "output_type": "execute_result",
          "data": {
            "text/plain": [
              "<matplotlib.axes._subplots.AxesSubplot at 0x7f84a667d650>"
            ]
          },
          "metadata": {
            "tags": []
          },
          "execution_count": 54
        },
        {
          "output_type": "display_data",
          "data": {
            "image/png": "[encoded data removed]",
            "text/plain": [
              "<Figure size 576x576 with 1 Axes>"
            ]
          },
          "metadata": {
            "tags": [],
            "needs_background": "light"
          }
        }
      ]
    },
    {
      "cell_type": "code",
      "metadata": {
        "id": "dFNGvrvyodQ-"
      },
      "source": [
        ""
      ],
      "execution_count": null,
      "outputs": []
    }
  ]
}